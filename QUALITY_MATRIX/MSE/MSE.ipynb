{
  "nbformat": 4,
  "nbformat_minor": 0,
  "metadata": {
    "colab": {
      "name": "Untitled8.ipynb",
      "provenance": []
    },
    "kernelspec": {
      "name": "python3",
      "display_name": "Python 3"
    },
    "accelerator": "GPU"
  },
  "cells": [
    {
      "cell_type": "code",
      "metadata": {
        "colab": {
          "base_uri": "https://localhost:8080/"
        },
        "id": "MQ8eyAbAmtYP",
        "outputId": "8a21172a-7aa9-4505-cbbc-58166f7fd399"
      },
      "source": [
        "!git clone https://github.com/niazwazir/TESTING_IMAGES.git"
      ],
      "execution_count": 1,
      "outputs": [
        {
          "output_type": "stream",
          "text": [
            "Cloning into 'TESTING_IMAGES'...\n",
            "remote: Enumerating objects: 5, done.\u001b[K\n",
            "remote: Counting objects: 100% (5/5), done.\u001b[K\n",
            "remote: Compressing objects: 100% (5/5), done.\u001b[K\n",
            "remote: Total 5 (delta 0), reused 0 (delta 0), pack-reused 0\u001b[K\n",
            "Unpacking objects: 100% (5/5), done.\n"
          ],
          "name": "stdout"
        }
      ]
    },
    {
      "cell_type": "code",
      "metadata": {
        "colab": {
          "base_uri": "https://localhost:8080/"
        },
        "id": "m9f-MUZ-mu-s",
        "outputId": "7506d3e5-98dc-4bfb-b784-376f025f6dc9"
      },
      "source": [
        "cd TESTING_IMAGES/"
      ],
      "execution_count": 2,
      "outputs": [
        {
          "output_type": "stream",
          "text": [
            "/content/TESTING_IMAGES\n"
          ],
          "name": "stdout"
        }
      ]
    },
    {
      "cell_type": "code",
      "metadata": {
        "colab": {
          "base_uri": "https://localhost:8080/"
        },
        "id": "h5j-V94Qm4VL",
        "outputId": "f09953de-0ac9-4e04-c9b2-05d708ea5f68"
      },
      "source": [
        "!ls"
      ],
      "execution_count": 3,
      "outputs": [
        {
          "output_type": "stream",
          "text": [
            "baby_x2_bicubic.png  baby_x2_GT.png  baby_x2_SRCNN.png\n"
          ],
          "name": "stdout"
        }
      ]
    },
    {
      "cell_type": "code",
      "metadata": {
        "id": "D0m_zBqwAmRS",
        "outputId": "752e5b81-106d-48a0-eeaa-ae61ccc333b8",
        "colab": {
          "base_uri": "https://localhost:8080/"
        }
      },
      "source": [
        "!pip install sewar"
      ],
      "execution_count": 4,
      "outputs": [
        {
          "output_type": "stream",
          "text": [
            "Collecting sewar\n",
            "  Downloading https://files.pythonhosted.org/packages/3b/05/5538d954e74342e11023c852f937a43fd33aa3824579a97dab4c1e23b882/sewar-0.4.4.tar.gz\n",
            "Requirement already satisfied: numpy in /usr/local/lib/python3.7/dist-packages (from sewar) (1.19.5)\n",
            "Requirement already satisfied: scipy in /usr/local/lib/python3.7/dist-packages (from sewar) (1.4.1)\n",
            "Requirement already satisfied: Pillow in /usr/local/lib/python3.7/dist-packages (from sewar) (7.1.2)\n",
            "Building wheels for collected packages: sewar\n",
            "  Building wheel for sewar (setup.py) ... \u001b[?25l\u001b[?25hdone\n",
            "  Created wheel for sewar: filename=sewar-0.4.4-cp37-none-any.whl size=10389 sha256=1d40e25cead5f22a1a9087ad8ab32eba42cdf060956e707b6cba8297de342fa9\n",
            "  Stored in directory: /root/.cache/pip/wheels/6b/dd/1f/6bde4832a765007d4f58c9d8bbf82a82b263b7b85e58cbe935\n",
            "Successfully built sewar\n",
            "Installing collected packages: sewar\n",
            "Successfully installed sewar-0.4.4\n"
          ],
          "name": "stdout"
        }
      ]
    },
    {
      "cell_type": "code",
      "metadata": {
        "id": "R1fBoxN1Abuo"
      },
      "source": [
        "import cv2\n",
        "import numpy as np\n",
        "from sewar import full_ref\n",
        "from skimage import measure, metrics"
      ],
      "execution_count": 5,
      "outputs": []
    },
    {
      "cell_type": "code",
      "metadata": {
        "id": "lnx-SCj8Abz8"
      },
      "source": [
        "#Reference and image to be compared must be of the same size\n",
        "ref_img = cv2.imread(\"baby_x2_GT.png\", 1)\n",
        "img = cv2.imread(\"baby_x2_bicubic.png\", 1)"
      ],
      "execution_count": 6,
      "outputs": []
    },
    {
      "cell_type": "code",
      "metadata": {
        "id": "bR8ceDjqAb4H",
        "outputId": "4b8a526e-7d85-4a10-a781-8dd30d0d981e",
        "colab": {
          "base_uri": "https://localhost:8080/"
        }
      },
      "source": [
        "mse_skimg = metrics.mean_squared_error(ref_img, img)\n",
        "print(\"MSE: based on scikit-image = \", mse_skimg)"
      ],
      "execution_count": 7,
      "outputs": [
        {
          "output_type": "stream",
          "text": [
            "MSE: based on scikit-image =  17.685323079427082\n"
          ],
          "name": "stdout"
        }
      ]
    },
    {
      "cell_type": "code",
      "metadata": {
        "id": "yHSeWbMXA435"
      },
      "source": [
        "#CHECK WHETHER MSE RESULT IS CORRECT OR NOT, SO PUT SAME IMAGE IN BOTH, THAN RESULT IS ZERO, IT MEANS FORMULA IS WORKING PROPERLY"
      ],
      "execution_count": 8,
      "outputs": []
    },
    {
      "cell_type": "code",
      "metadata": {
        "id": "qv4UkqeDA465"
      },
      "source": [
        "#Reference and image to be compared must be of the same size\n",
        "ref_img = cv2.imread(\"baby_x2_GT.png\", 1)\n",
        "img = cv2.imread(\"baby_x2_GT.png\", 1)"
      ],
      "execution_count": 9,
      "outputs": []
    },
    {
      "cell_type": "code",
      "metadata": {
        "id": "6zID3JVTA49i",
        "outputId": "3837b481-9e2d-41e1-a556-842e33a8679e",
        "colab": {
          "base_uri": "https://localhost:8080/"
        }
      },
      "source": [
        "mse_skimg = metrics.mean_squared_error(ref_img, img)\n",
        "print(\"MSE: based on scikit-image = \", mse_skimg)"
      ],
      "execution_count": 10,
      "outputs": [
        {
          "output_type": "stream",
          "text": [
            "MSE: based on scikit-image =  0.0\n"
          ],
          "name": "stdout"
        }
      ]
    }
  ]
}