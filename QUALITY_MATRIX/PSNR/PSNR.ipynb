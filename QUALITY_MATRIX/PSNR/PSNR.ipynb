{
  "nbformat": 4,
  "nbformat_minor": 0,
  "metadata": {
    "colab": {
      "name": "Untitled8.ipynb",
      "provenance": []
    },
    "kernelspec": {
      "name": "python3",
      "display_name": "Python 3"
    },
    "accelerator": "GPU"
  },
  "cells": [
    {
      "cell_type": "code",
      "metadata": {
        "colab": {
          "base_uri": "https://localhost:8080/"
        },
        "id": "MQ8eyAbAmtYP",
        "outputId": "7cc08796-4e67-4066-f87a-73af27f1363f"
      },
      "source": [
        "!git clone https://github.com/niazwazir/TESTING_IMAGES.git"
      ],
      "execution_count": 1,
      "outputs": [
        {
          "output_type": "stream",
          "text": [
            "Cloning into 'TESTING_IMAGES'...\n",
            "remote: Enumerating objects: 5, done.\u001b[K\n",
            "remote: Counting objects: 100% (5/5), done.\u001b[K\n",
            "remote: Compressing objects: 100% (5/5), done.\u001b[K\n",
            "remote: Total 5 (delta 0), reused 0 (delta 0), pack-reused 0\u001b[K\n",
            "Unpacking objects: 100% (5/5), done.\n"
          ],
          "name": "stdout"
        }
      ]
    },
    {
      "cell_type": "code",
      "metadata": {
        "colab": {
          "base_uri": "https://localhost:8080/"
        },
        "id": "m9f-MUZ-mu-s",
        "outputId": "260a3791-8c49-498d-c9bd-b388b1d4964c"
      },
      "source": [
        "cd TESTING_IMAGES/"
      ],
      "execution_count": 2,
      "outputs": [
        {
          "output_type": "stream",
          "text": [
            "/content/TESTING_IMAGES\n"
          ],
          "name": "stdout"
        }
      ]
    },
    {
      "cell_type": "code",
      "metadata": {
        "colab": {
          "base_uri": "https://localhost:8080/"
        },
        "id": "h5j-V94Qm4VL",
        "outputId": "e313e6bd-8d51-4025-f71b-bfd558737346"
      },
      "source": [
        "!ls"
      ],
      "execution_count": 3,
      "outputs": [
        {
          "output_type": "stream",
          "text": [
            "baby_x2_bicubic.png  baby_x2_GT.png  baby_x2_SRCNN.png\n"
          ],
          "name": "stdout"
        }
      ]
    },
    {
      "cell_type": "code",
      "metadata": {
        "colab": {
          "base_uri": "https://localhost:8080/"
        },
        "id": "D0m_zBqwAmRS",
        "outputId": "a035f7f3-0bd9-440f-96ee-373953138ae6"
      },
      "source": [
        "!pip install sewar"
      ],
      "execution_count": 4,
      "outputs": [
        {
          "output_type": "stream",
          "text": [
            "Collecting sewar\n",
            "  Downloading https://files.pythonhosted.org/packages/3b/05/5538d954e74342e11023c852f937a43fd33aa3824579a97dab4c1e23b882/sewar-0.4.4.tar.gz\n",
            "Requirement already satisfied: numpy in /usr/local/lib/python3.7/dist-packages (from sewar) (1.19.5)\n",
            "Requirement already satisfied: scipy in /usr/local/lib/python3.7/dist-packages (from sewar) (1.4.1)\n",
            "Requirement already satisfied: Pillow in /usr/local/lib/python3.7/dist-packages (from sewar) (7.1.2)\n",
            "Building wheels for collected packages: sewar\n",
            "  Building wheel for sewar (setup.py) ... \u001b[?25l\u001b[?25hdone\n",
            "  Created wheel for sewar: filename=sewar-0.4.4-cp37-none-any.whl size=10389 sha256=0111006b463634c7b2fc55dc77911daf86789dc46875d1ecb742f181f6651608\n",
            "  Stored in directory: /root/.cache/pip/wheels/6b/dd/1f/6bde4832a765007d4f58c9d8bbf82a82b263b7b85e58cbe935\n",
            "Successfully built sewar\n",
            "Installing collected packages: sewar\n",
            "Successfully installed sewar-0.4.4\n"
          ],
          "name": "stdout"
        }
      ]
    },
    {
      "cell_type": "code",
      "metadata": {
        "id": "R1fBoxN1Abuo"
      },
      "source": [
        "import cv2\n",
        "import numpy as np\n",
        "from sewar import full_ref\n",
        "from skimage import measure, metrics"
      ],
      "execution_count": 5,
      "outputs": []
    },
    {
      "cell_type": "code",
      "metadata": {
        "id": "lnx-SCj8Abz8"
      },
      "source": [
        "#Reference and image to be compared must be of the same size\n",
        "ref_img = cv2.imread(\"baby_x2_GT.png\", 1)\n",
        "img = cv2.imread(\"baby_x2_bicubic.png\", 1)"
      ],
      "execution_count": 6,
      "outputs": []
    },
    {
      "cell_type": "code",
      "metadata": {
        "id": "EzbNsUAJBv8F",
        "outputId": "77e114e6-876a-40ea-8dcd-1542d873996c",
        "colab": {
          "base_uri": "https://localhost:8080/"
        }
      },
      "source": [
        "psnr_skimg = metrics.peak_signal_noise_ratio(ref_img, img, data_range=None)\n",
        "print(\"PSNR: based on scikit-image = \", psnr_skimg)"
      ],
      "execution_count": 7,
      "outputs": [
        {
          "output_type": "stream",
          "text": [
            "PSNR: based on scikit-image =  35.65467362856197\n"
          ],
          "name": "stdout"
        }
      ]
    },
    {
      "cell_type": "code",
      "metadata": {
        "id": "yHSeWbMXA435"
      },
      "source": [
        "#CHECK WHETHER PSNR RESULT IS CORRECT OR NOT, SO PUT SAME IMAGE IN BOTH, THAN RESULT IS INFINITY, IT MEANS FORMULA IS WORKING PROPERLY"
      ],
      "execution_count": 8,
      "outputs": []
    },
    {
      "cell_type": "code",
      "metadata": {
        "id": "qv4UkqeDA465"
      },
      "source": [
        "#Reference and image to be compared must be of the same size\n",
        "ref_img = cv2.imread(\"baby_x2_GT.png\", 1)\n",
        "img = cv2.imread(\"baby_x2_GT.png\", 1)"
      ],
      "execution_count": 9,
      "outputs": []
    },
    {
      "cell_type": "code",
      "metadata": {
        "colab": {
          "base_uri": "https://localhost:8080/"
        },
        "id": "6zID3JVTA49i",
        "outputId": "a5047dc6-8059-4bca-f54b-30cabe4b80fc"
      },
      "source": [
        "psnr_skimg = metrics.peak_signal_noise_ratio(ref_img, img, data_range=None)\n",
        "print(\"PSNR: based on scikit-image = \", psnr_skimg)"
      ],
      "execution_count": 10,
      "outputs": [
        {
          "output_type": "stream",
          "text": [
            "PSNR: based on scikit-image =  inf\n"
          ],
          "name": "stdout"
        },
        {
          "output_type": "stream",
          "text": [
            "/usr/local/lib/python3.7/dist-packages/skimage/metrics/simple_metrics.py:160: RuntimeWarning: divide by zero encountered in double_scalars\n",
            "  return 10 * np.log10((data_range ** 2) / err)\n"
          ],
          "name": "stderr"
        }
      ]
    },
    {
      "cell_type": "code",
      "metadata": {
        "id": "sfQlgvUFCB5W"
      },
      "source": [
        ""
      ],
      "execution_count": null,
      "outputs": []
    }
  ]
}