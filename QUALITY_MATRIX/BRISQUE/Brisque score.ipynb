{
  "nbformat": 4,
  "nbformat_minor": 0,
  "metadata": {
    "colab": {
      "name": "Untitled8.ipynb",
      "provenance": []
    },
    "kernelspec": {
      "name": "python3",
      "display_name": "Python 3"
    },
    "accelerator": "GPU"
  },
  "cells": [
    {
      "cell_type": "code",
      "metadata": {
        "colab": {
          "base_uri": "https://localhost:8080/"
        },
        "id": "MQ8eyAbAmtYP",
        "outputId": "bb8c5abf-bfe7-4f7e-d0b7-0b1a5ca6323f"
      },
      "source": [
        "!git clone https://github.com/niazwazir/TESTING_IMAGES.git"
      ],
      "execution_count": 1,
      "outputs": [
        {
          "output_type": "stream",
          "text": [
            "Cloning into 'TESTING_IMAGES'...\n",
            "remote: Enumerating objects: 5, done.\u001b[K\n",
            "remote: Counting objects: 100% (5/5), done.\u001b[K\n",
            "remote: Compressing objects: 100% (5/5), done.\u001b[K\n",
            "remote: Total 5 (delta 0), reused 0 (delta 0), pack-reused 0\u001b[K\n",
            "Unpacking objects: 100% (5/5), done.\n"
          ],
          "name": "stdout"
        }
      ]
    },
    {
      "cell_type": "code",
      "metadata": {
        "colab": {
          "base_uri": "https://localhost:8080/"
        },
        "id": "m9f-MUZ-mu-s",
        "outputId": "abb6a56c-d110-4e42-d4c3-245236ee1af1"
      },
      "source": [
        "cd TESTING_IMAGES/"
      ],
      "execution_count": 2,
      "outputs": [
        {
          "output_type": "stream",
          "text": [
            "/content/TESTING_IMAGES\n"
          ],
          "name": "stdout"
        }
      ]
    },
    {
      "cell_type": "code",
      "metadata": {
        "colab": {
          "base_uri": "https://localhost:8080/"
        },
        "id": "h5j-V94Qm4VL",
        "outputId": "97f26a4b-8d4b-4075-ebb5-9681d4b3df77"
      },
      "source": [
        "!ls"
      ],
      "execution_count": 3,
      "outputs": [
        {
          "output_type": "stream",
          "text": [
            "baby_x2_bicubic.png  baby_x2_GT.png  baby_x2_SRCNN.png\n"
          ],
          "name": "stdout"
        }
      ]
    },
    {
      "cell_type": "code",
      "metadata": {
        "id": "x844qPNOHykr",
        "outputId": "8b307289-9f5e-4926-b0c4-465daa050892",
        "colab": {
          "base_uri": "https://localhost:8080/"
        }
      },
      "source": [
        "!pip install image-quality"
      ],
      "execution_count": 4,
      "outputs": [
        {
          "output_type": "stream",
          "text": [
            "Collecting image-quality\n",
            "\u001b[?25l  Downloading https://files.pythonhosted.org/packages/0c/b3/e4989110cc889870aa94b34510111ef5b53ab5f1c5664280699866e7bfab/image_quality-1.2.7-py3-none-any.whl (146kB)\n",
            "\r\u001b[K     |██▎                             | 10kB 22.5MB/s eta 0:00:01\r\u001b[K     |████▌                           | 20kB 30.1MB/s eta 0:00:01\r\u001b[K     |██████▊                         | 30kB 21.1MB/s eta 0:00:01\r\u001b[K     |█████████                       | 40kB 24.6MB/s eta 0:00:01\r\u001b[K     |███████████▏                    | 51kB 24.3MB/s eta 0:00:01\r\u001b[K     |█████████████▍                  | 61kB 26.8MB/s eta 0:00:01\r\u001b[K     |███████████████▋                | 71kB 18.3MB/s eta 0:00:01\r\u001b[K     |█████████████████▉              | 81kB 19.1MB/s eta 0:00:01\r\u001b[K     |████████████████████▏           | 92kB 18.2MB/s eta 0:00:01\r\u001b[K     |██████████████████████▍         | 102kB 18.0MB/s eta 0:00:01\r\u001b[K     |████████████████████████▋       | 112kB 18.0MB/s eta 0:00:01\r\u001b[K     |██████████████████████████▉     | 122kB 18.0MB/s eta 0:00:01\r\u001b[K     |█████████████████████████████   | 133kB 18.0MB/s eta 0:00:01\r\u001b[K     |███████████████████████████████▎| 143kB 18.0MB/s eta 0:00:01\r\u001b[K     |████████████████████████████████| 153kB 18.0MB/s \n",
            "\u001b[?25hCollecting libsvm>=3.23.0\n",
            "\u001b[?25l  Downloading https://files.pythonhosted.org/packages/4b/11/c7700d0cd3a21eef2d7d996256277fc640ccd4f84717c10228cb6c1567dc/libsvm-3.23.0.4.tar.gz (170kB)\n",
            "\r\u001b[K     |██                              | 10kB 28.2MB/s eta 0:00:01\r\u001b[K     |███▉                            | 20kB 35.2MB/s eta 0:00:01\r\u001b[K     |█████▊                          | 30kB 39.3MB/s eta 0:00:01\r\u001b[K     |███████▊                        | 40kB 42.0MB/s eta 0:00:01\r\u001b[K     |█████████▋                      | 51kB 43.9MB/s eta 0:00:01\r\u001b[K     |███████████▌                    | 61kB 44.3MB/s eta 0:00:01\r\u001b[K     |█████████████▌                  | 71kB 44.9MB/s eta 0:00:01\r\u001b[K     |███████████████▍                | 81kB 44.9MB/s eta 0:00:01\r\u001b[K     |█████████████████▎              | 92kB 42.6MB/s eta 0:00:01\r\u001b[K     |███████████████████▏            | 102kB 43.8MB/s eta 0:00:01\r\u001b[K     |█████████████████████▏          | 112kB 43.8MB/s eta 0:00:01\r\u001b[K     |███████████████████████         | 122kB 43.8MB/s eta 0:00:01\r\u001b[K     |█████████████████████████       | 133kB 43.8MB/s eta 0:00:01\r\u001b[K     |███████████████████████████     | 143kB 43.8MB/s eta 0:00:01\r\u001b[K     |████████████████████████████▉   | 153kB 43.8MB/s eta 0:00:01\r\u001b[K     |██████████████████████████████▊ | 163kB 43.8MB/s eta 0:00:01\r\u001b[K     |████████████████████████████████| 174kB 43.8MB/s \n",
            "\u001b[?25hRequirement already satisfied: Pillow>=5.2.0 in /usr/local/lib/python3.7/dist-packages (from image-quality) (7.1.2)\n",
            "Requirement already satisfied: numpy>=1.16.4 in /usr/local/lib/python3.7/dist-packages (from image-quality) (1.19.5)\n",
            "Requirement already satisfied: scikit-image>=0.15.0 in /usr/local/lib/python3.7/dist-packages (from image-quality) (0.16.2)\n",
            "Requirement already satisfied: scipy>=1.3.0 in /usr/local/lib/python3.7/dist-packages (from image-quality) (1.4.1)\n",
            "Requirement already satisfied: networkx>=2.0 in /usr/local/lib/python3.7/dist-packages (from scikit-image>=0.15.0->image-quality) (2.5)\n",
            "Requirement already satisfied: PyWavelets>=0.4.0 in /usr/local/lib/python3.7/dist-packages (from scikit-image>=0.15.0->image-quality) (1.1.1)\n",
            "Requirement already satisfied: imageio>=2.3.0 in /usr/local/lib/python3.7/dist-packages (from scikit-image>=0.15.0->image-quality) (2.4.1)\n",
            "Requirement already satisfied: matplotlib!=3.0.0,>=2.0.0 in /usr/local/lib/python3.7/dist-packages (from scikit-image>=0.15.0->image-quality) (3.2.2)\n",
            "Requirement already satisfied: decorator>=4.3.0 in /usr/local/lib/python3.7/dist-packages (from networkx>=2.0->scikit-image>=0.15.0->image-quality) (4.4.2)\n",
            "Requirement already satisfied: pyparsing!=2.0.4,!=2.1.2,!=2.1.6,>=2.0.1 in /usr/local/lib/python3.7/dist-packages (from matplotlib!=3.0.0,>=2.0.0->scikit-image>=0.15.0->image-quality) (2.4.7)\n",
            "Requirement already satisfied: cycler>=0.10 in /usr/local/lib/python3.7/dist-packages (from matplotlib!=3.0.0,>=2.0.0->scikit-image>=0.15.0->image-quality) (0.10.0)\n",
            "Requirement already satisfied: kiwisolver>=1.0.1 in /usr/local/lib/python3.7/dist-packages (from matplotlib!=3.0.0,>=2.0.0->scikit-image>=0.15.0->image-quality) (1.3.1)\n",
            "Requirement already satisfied: python-dateutil>=2.1 in /usr/local/lib/python3.7/dist-packages (from matplotlib!=3.0.0,>=2.0.0->scikit-image>=0.15.0->image-quality) (2.8.1)\n",
            "Requirement already satisfied: six in /usr/local/lib/python3.7/dist-packages (from cycler>=0.10->matplotlib!=3.0.0,>=2.0.0->scikit-image>=0.15.0->image-quality) (1.15.0)\n",
            "Building wheels for collected packages: libsvm\n",
            "  Building wheel for libsvm (setup.py) ... \u001b[?25l\u001b[?25hdone\n",
            "  Created wheel for libsvm: filename=libsvm-3.23.0.4-cp37-cp37m-linux_x86_64.whl size=233338 sha256=5c4696f36c1efb42ffe672d9a02fc4acc77046f96f85cf66f147cfb1e553a3c4\n",
            "  Stored in directory: /root/.cache/pip/wheels/5e/9e/b5/dbb033107407eec2f52b8cd24cf024a4b9ec8b62ea5aee995a\n",
            "Successfully built libsvm\n",
            "Installing collected packages: libsvm, image-quality\n",
            "Successfully installed image-quality-1.2.7 libsvm-3.23.0.4\n"
          ],
          "name": "stdout"
        }
      ]
    },
    {
      "cell_type": "code",
      "metadata": {
        "id": "XIA14LGMH51S"
      },
      "source": [
        ""
      ],
      "execution_count": null,
      "outputs": []
    },
    {
      "cell_type": "code",
      "metadata": {
        "id": "IxxvXoAlH59N"
      },
      "source": [
        ""
      ],
      "execution_count": null,
      "outputs": []
    },
    {
      "cell_type": "code",
      "metadata": {
        "colab": {
          "base_uri": "https://localhost:8080/"
        },
        "id": "D0m_zBqwAmRS",
        "outputId": "741e610a-30cf-418b-b229-d2c23436be3d"
      },
      "source": [
        "!pip install sewar"
      ],
      "execution_count": 5,
      "outputs": [
        {
          "output_type": "stream",
          "text": [
            "Collecting sewar\n",
            "  Downloading https://files.pythonhosted.org/packages/3b/05/5538d954e74342e11023c852f937a43fd33aa3824579a97dab4c1e23b882/sewar-0.4.4.tar.gz\n",
            "Requirement already satisfied: numpy in /usr/local/lib/python3.7/dist-packages (from sewar) (1.19.5)\n",
            "Requirement already satisfied: scipy in /usr/local/lib/python3.7/dist-packages (from sewar) (1.4.1)\n",
            "Requirement already satisfied: Pillow in /usr/local/lib/python3.7/dist-packages (from sewar) (7.1.2)\n",
            "Building wheels for collected packages: sewar\n",
            "  Building wheel for sewar (setup.py) ... \u001b[?25l\u001b[?25hdone\n",
            "  Created wheel for sewar: filename=sewar-0.4.4-cp37-none-any.whl size=10389 sha256=23518f0a066ffa8c778b98f196198ad65c7abb6f1c6d7b089a8b3131b744cd76\n",
            "  Stored in directory: /root/.cache/pip/wheels/6b/dd/1f/6bde4832a765007d4f58c9d8bbf82a82b263b7b85e58cbe935\n",
            "Successfully built sewar\n",
            "Installing collected packages: sewar\n",
            "Successfully installed sewar-0.4.4\n"
          ],
          "name": "stdout"
        }
      ]
    },
    {
      "cell_type": "code",
      "metadata": {
        "id": "R1fBoxN1Abuo"
      },
      "source": [
        "import cv2\n",
        "import numpy as np\n",
        "from sewar import full_ref\n",
        "from skimage import measure, metrics\n",
        "import imquality.brisque as brisque\n",
        "from skimage.metrics import peak_signal_noise_ratio\n",
        "from skimage import io, img_as_float\n",
        "import imquality.brisque as brisque"
      ],
      "execution_count": 6,
      "outputs": []
    },
    {
      "cell_type": "code",
      "metadata": {
        "colab": {
          "base_uri": "https://localhost:8080/"
        },
        "id": "jyr4WvEbCQXc",
        "outputId": "b704e3a6-4a7d-4063-8d2b-26ff0ce4b5ed"
      },
      "source": [
        "img = img_as_float(io.imread('baby_x2_GT.png', as_gray=True))\n",
        "\n",
        "score = brisque.score(img)\n",
        "print(\"Brisque score = \", score)"
      ],
      "execution_count": 8,
      "outputs": [
        {
          "output_type": "stream",
          "text": [
            "Brisque score =  9.87182952469081\n"
          ],
          "name": "stdout"
        }
      ]
    },
    {
      "cell_type": "code",
      "metadata": {
        "colab": {
          "base_uri": "https://localhost:8080/"
        },
        "id": "XW0PNgIeF7e-",
        "outputId": "805343c9-3852-4417-d28f-403c79e1ccd2"
      },
      "source": [
        "img = img_as_float(io.imread('baby_x2_bicubic.png', as_gray=True))\n",
        "\n",
        "score = brisque.score(img)\n",
        "print(\"Brisque score = \", score)"
      ],
      "execution_count": 9,
      "outputs": [
        {
          "output_type": "stream",
          "text": [
            "Brisque score =  37.87494119519587\n"
          ],
          "name": "stdout"
        }
      ]
    },
    {
      "cell_type": "code",
      "metadata": {
        "id": "UF9DxvtYIYNN",
        "outputId": "4b524ce0-fa03-4bb1-8771-646eef8f0831",
        "colab": {
          "base_uri": "https://localhost:8080/"
        }
      },
      "source": [
        "img = img_as_float(io.imread('baby_x2_SRCNN.png', as_gray=True))\n",
        "\n",
        "score = brisque.score(img)\n",
        "print(\"Brisque score = \", score)"
      ],
      "execution_count": 10,
      "outputs": [
        {
          "output_type": "stream",
          "text": [
            "Brisque score =  29.641317530428267\n"
          ],
          "name": "stdout"
        }
      ]
    },
    {
      "cell_type": "code",
      "metadata": {
        "id": "5PXxnSD0IbcQ"
      },
      "source": [
        ""
      ],
      "execution_count": null,
      "outputs": []
    }
  ]
}