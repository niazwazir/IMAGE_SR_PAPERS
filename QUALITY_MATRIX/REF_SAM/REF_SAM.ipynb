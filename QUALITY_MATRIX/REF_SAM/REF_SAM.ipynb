{
  "nbformat": 4,
  "nbformat_minor": 0,
  "metadata": {
    "colab": {
      "name": "Untitled8.ipynb",
      "provenance": []
    },
    "kernelspec": {
      "name": "python3",
      "display_name": "Python 3"
    },
    "accelerator": "GPU"
  },
  "cells": [
    {
      "cell_type": "code",
      "metadata": {
        "colab": {
          "base_uri": "https://localhost:8080/"
        },
        "id": "MQ8eyAbAmtYP",
        "outputId": "50cb01e5-9ec2-4523-dd8a-9aed1dd1abff"
      },
      "source": [
        "!git clone https://github.com/niazwazir/TESTING_IMAGES.git"
      ],
      "execution_count": 1,
      "outputs": [
        {
          "output_type": "stream",
          "text": [
            "Cloning into 'TESTING_IMAGES'...\n",
            "remote: Enumerating objects: 5, done.\u001b[K\n",
            "remote: Counting objects: 100% (5/5), done.\u001b[K\n",
            "remote: Compressing objects: 100% (5/5), done.\u001b[K\n",
            "remote: Total 5 (delta 0), reused 0 (delta 0), pack-reused 0\u001b[K\n",
            "Unpacking objects: 100% (5/5), done.\n"
          ],
          "name": "stdout"
        }
      ]
    },
    {
      "cell_type": "code",
      "metadata": {
        "colab": {
          "base_uri": "https://localhost:8080/"
        },
        "id": "m9f-MUZ-mu-s",
        "outputId": "0fbe289b-2bb7-4859-9cb8-b091f9b5866a"
      },
      "source": [
        "cd TESTING_IMAGES/"
      ],
      "execution_count": 2,
      "outputs": [
        {
          "output_type": "stream",
          "text": [
            "/content/TESTING_IMAGES\n"
          ],
          "name": "stdout"
        }
      ]
    },
    {
      "cell_type": "code",
      "metadata": {
        "colab": {
          "base_uri": "https://localhost:8080/"
        },
        "id": "h5j-V94Qm4VL",
        "outputId": "9a286569-4dd5-482f-d0bc-3166d93cd39d"
      },
      "source": [
        "!ls"
      ],
      "execution_count": 3,
      "outputs": [
        {
          "output_type": "stream",
          "text": [
            "baby_x2_bicubic.png  baby_x2_GT.png  baby_x2_SRCNN.png\n"
          ],
          "name": "stdout"
        }
      ]
    },
    {
      "cell_type": "code",
      "metadata": {
        "colab": {
          "base_uri": "https://localhost:8080/"
        },
        "id": "D0m_zBqwAmRS",
        "outputId": "61699052-f130-4402-9608-cfea6db8af69"
      },
      "source": [
        "!pip install sewar"
      ],
      "execution_count": 4,
      "outputs": [
        {
          "output_type": "stream",
          "text": [
            "Collecting sewar\n",
            "  Downloading https://files.pythonhosted.org/packages/3b/05/5538d954e74342e11023c852f937a43fd33aa3824579a97dab4c1e23b882/sewar-0.4.4.tar.gz\n",
            "Requirement already satisfied: numpy in /usr/local/lib/python3.7/dist-packages (from sewar) (1.19.5)\n",
            "Requirement already satisfied: scipy in /usr/local/lib/python3.7/dist-packages (from sewar) (1.4.1)\n",
            "Requirement already satisfied: Pillow in /usr/local/lib/python3.7/dist-packages (from sewar) (7.1.2)\n",
            "Building wheels for collected packages: sewar\n",
            "  Building wheel for sewar (setup.py) ... \u001b[?25l\u001b[?25hdone\n",
            "  Created wheel for sewar: filename=sewar-0.4.4-cp37-none-any.whl size=10389 sha256=05222a5e415604c133aaed1252480d553f31ec4527b832c32f26851eb7a922a7\n",
            "  Stored in directory: /root/.cache/pip/wheels/6b/dd/1f/6bde4832a765007d4f58c9d8bbf82a82b263b7b85e58cbe935\n",
            "Successfully built sewar\n",
            "Installing collected packages: sewar\n",
            "Successfully installed sewar-0.4.4\n"
          ],
          "name": "stdout"
        }
      ]
    },
    {
      "cell_type": "code",
      "metadata": {
        "id": "R1fBoxN1Abuo"
      },
      "source": [
        "import cv2\n",
        "import numpy as np\n",
        "from sewar import full_ref\n",
        "from skimage import measure, metrics"
      ],
      "execution_count": 12,
      "outputs": []
    },
    {
      "cell_type": "code",
      "metadata": {
        "id": "lnx-SCj8Abz8"
      },
      "source": [
        "#Reference and image to be compared must be of the same size\n",
        "ref_img = cv2.imread(\"baby_x2_GT.png\", 1)\n",
        "img = cv2.imread(\"baby_x2_bicubic.png\", 1)"
      ],
      "execution_count": 25,
      "outputs": []
    },
    {
      "cell_type": "code",
      "metadata": {
        "colab": {
          "base_uri": "https://localhost:8080/"
        },
        "id": "jyr4WvEbCQXc",
        "outputId": "28b1bbc2-094a-4c53-ebf5-2ee9360df821"
      },
      "source": [
        "#########################################################################\n",
        "#calculates spectral angle mapper (sam).\n",
        "\"\"\"calculates spectral angle mapper (sam).\n",
        "\t:param GT: first (original) input image.\n",
        "\t:param P: second (deformed) input image.\n",
        "\t:returns:  float -- sam value.\n",
        "\t\"\"\"\n",
        "ref_sam_img = full_ref.sam(ref_img, img)\n",
        "print(\"REF_SAM: spectral angle mapper = \", ref_sam_img)"
      ],
      "execution_count": 30,
      "outputs": [
        {
          "output_type": "stream",
          "text": [
            "REF_SAM: spectral angle mapper =  0.027652549480284828\n"
          ],
          "name": "stdout"
        }
      ]
    },
    {
      "cell_type": "code",
      "metadata": {
        "id": "XW0PNgIeF7e-"
      },
      "source": [
        ""
      ],
      "execution_count": null,
      "outputs": []
    }
  ]
}