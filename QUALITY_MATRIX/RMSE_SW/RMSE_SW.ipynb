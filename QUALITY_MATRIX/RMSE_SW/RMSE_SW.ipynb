{
  "nbformat": 4,
  "nbformat_minor": 0,
  "metadata": {
    "colab": {
      "name": "Untitled8.ipynb",
      "provenance": []
    },
    "kernelspec": {
      "name": "python3",
      "display_name": "Python 3"
    },
    "accelerator": "GPU"
  },
  "cells": [
    {
      "cell_type": "code",
      "metadata": {
        "colab": {
          "base_uri": "https://localhost:8080/"
        },
        "id": "MQ8eyAbAmtYP",
        "outputId": "50cb01e5-9ec2-4523-dd8a-9aed1dd1abff"
      },
      "source": [
        "!git clone https://github.com/niazwazir/TESTING_IMAGES.git"
      ],
      "execution_count": 1,
      "outputs": [
        {
          "output_type": "stream",
          "text": [
            "Cloning into 'TESTING_IMAGES'...\n",
            "remote: Enumerating objects: 5, done.\u001b[K\n",
            "remote: Counting objects: 100% (5/5), done.\u001b[K\n",
            "remote: Compressing objects: 100% (5/5), done.\u001b[K\n",
            "remote: Total 5 (delta 0), reused 0 (delta 0), pack-reused 0\u001b[K\n",
            "Unpacking objects: 100% (5/5), done.\n"
          ],
          "name": "stdout"
        }
      ]
    },
    {
      "cell_type": "code",
      "metadata": {
        "colab": {
          "base_uri": "https://localhost:8080/"
        },
        "id": "m9f-MUZ-mu-s",
        "outputId": "0fbe289b-2bb7-4859-9cb8-b091f9b5866a"
      },
      "source": [
        "cd TESTING_IMAGES/"
      ],
      "execution_count": 2,
      "outputs": [
        {
          "output_type": "stream",
          "text": [
            "/content/TESTING_IMAGES\n"
          ],
          "name": "stdout"
        }
      ]
    },
    {
      "cell_type": "code",
      "metadata": {
        "colab": {
          "base_uri": "https://localhost:8080/"
        },
        "id": "h5j-V94Qm4VL",
        "outputId": "9a286569-4dd5-482f-d0bc-3166d93cd39d"
      },
      "source": [
        "!ls"
      ],
      "execution_count": 3,
      "outputs": [
        {
          "output_type": "stream",
          "text": [
            "baby_x2_bicubic.png  baby_x2_GT.png  baby_x2_SRCNN.png\n"
          ],
          "name": "stdout"
        }
      ]
    },
    {
      "cell_type": "code",
      "metadata": {
        "colab": {
          "base_uri": "https://localhost:8080/"
        },
        "id": "D0m_zBqwAmRS",
        "outputId": "61699052-f130-4402-9608-cfea6db8af69"
      },
      "source": [
        "!pip install sewar"
      ],
      "execution_count": 4,
      "outputs": [
        {
          "output_type": "stream",
          "text": [
            "Collecting sewar\n",
            "  Downloading https://files.pythonhosted.org/packages/3b/05/5538d954e74342e11023c852f937a43fd33aa3824579a97dab4c1e23b882/sewar-0.4.4.tar.gz\n",
            "Requirement already satisfied: numpy in /usr/local/lib/python3.7/dist-packages (from sewar) (1.19.5)\n",
            "Requirement already satisfied: scipy in /usr/local/lib/python3.7/dist-packages (from sewar) (1.4.1)\n",
            "Requirement already satisfied: Pillow in /usr/local/lib/python3.7/dist-packages (from sewar) (7.1.2)\n",
            "Building wheels for collected packages: sewar\n",
            "  Building wheel for sewar (setup.py) ... \u001b[?25l\u001b[?25hdone\n",
            "  Created wheel for sewar: filename=sewar-0.4.4-cp37-none-any.whl size=10389 sha256=05222a5e415604c133aaed1252480d553f31ec4527b832c32f26851eb7a922a7\n",
            "  Stored in directory: /root/.cache/pip/wheels/6b/dd/1f/6bde4832a765007d4f58c9d8bbf82a82b263b7b85e58cbe935\n",
            "Successfully built sewar\n",
            "Installing collected packages: sewar\n",
            "Successfully installed sewar-0.4.4\n"
          ],
          "name": "stdout"
        }
      ]
    },
    {
      "cell_type": "code",
      "metadata": {
        "id": "R1fBoxN1Abuo"
      },
      "source": [
        "import cv2\n",
        "import numpy as np\n",
        "from sewar import full_ref\n",
        "from skimage import measure, metrics"
      ],
      "execution_count": 12,
      "outputs": []
    },
    {
      "cell_type": "code",
      "metadata": {
        "id": "lnx-SCj8Abz8"
      },
      "source": [
        "#Reference and image to be compared must be of the same size\n",
        "ref_img = cv2.imread(\"baby_x2_GT.png\", 1)\n",
        "img = cv2.imread(\"baby_x2_bicubic.png\", 1)"
      ],
      "execution_count": 25,
      "outputs": []
    },
    {
      "cell_type": "code",
      "metadata": {
        "colab": {
          "base_uri": "https://localhost:8080/"
        },
        "id": "jyr4WvEbCQXc",
        "outputId": "22403808-1a1c-4cc4-8fee-93d9da2b8612"
      },
      "source": [
        "######################################################################\n",
        "#root mean squared error (rmse) using sliding window\n",
        "\"\"\"calculates root mean squared error (rmse) using sliding window.\n",
        "\t:param GT: first (original) input image.\n",
        "\t:param P: second (deformed) input image.\n",
        "\t:param ws: sliding window size (default = 8).\n",
        "\t:returns:  tuple -- rmse value,rmse map.\t\n",
        "\t\"\"\"\n",
        "rmse_sw_img = full_ref.rmse_sw(ref_img, img, ws=8)\n",
        "print(\"RMSE_SW: root mean squared error with sliding window = \", rmse_sw_img)"
      ],
      "execution_count": 29,
      "outputs": [
        {
          "output_type": "stream",
          "text": [
            "RMSE_SW: root mean squared error with sliding window =  (3.278438286035786, array([[[0.8291562 , 0.35355339, 0.25      ],\n",
            "        [0.6846532 , 0.25      , 0.25      ],\n",
            "        [0.58630197, 0.30618622, 0.25      ],\n",
            "        ...,\n",
            "        [0.53033009, 0.1767767 , 0.35355339],\n",
            "        [0.46770717, 0.1767767 , 0.30618622],\n",
            "        [0.4330127 , 0.25      , 0.30618622]],\n",
            "\n",
            "       [[0.77055175, 0.35355339, 0.30618622],\n",
            "        [0.64951905, 0.2795085 , 0.30618622],\n",
            "        [0.55901699, 0.33071891, 0.2795085 ],\n",
            "        ...,\n",
            "        [0.53033009, 0.1767767 , 0.35355339],\n",
            "        [0.46770717, 0.1767767 , 0.30618622],\n",
            "        [0.4330127 , 0.25      , 0.30618622]],\n",
            "\n",
            "       [[0.77055175, 0.35355339, 0.39528471],\n",
            "        [0.64951905, 0.2795085 , 0.375     ],\n",
            "        [0.55901699, 0.33071891, 0.33071891],\n",
            "        ...,\n",
            "        [0.5153882 , 0.125     , 0.33071891],\n",
            "        [0.45069391, 0.125     , 0.2795085 ],\n",
            "        [0.39528471, 0.1767767 , 0.25      ]],\n",
            "\n",
            "       ...,\n",
            "\n",
            "       [[4.94342998, 4.40525255, 4.83153702],\n",
            "        [4.84122918, 4.49652644, 4.82830198],\n",
            "        [4.68708331, 4.38748219, 4.69041576],\n",
            "        ...,\n",
            "        [2.5       , 2.625     , 2.45267711],\n",
            "        [2.60108151, 2.72717803, 2.56478557],\n",
            "        [2.85043856, 3.05675482, 2.80066956]],\n",
            "\n",
            "       [[4.11931426, 3.7038831 , 4.10411379],\n",
            "        [3.96468788, 3.79555661, 4.08885681],\n",
            "        [3.91910385, 3.76662979, 4.07162437],\n",
            "        ...,\n",
            "        [2.24652509, 2.31840462, 2.20794022],\n",
            "        [2.3150324 , 2.39139081, 2.28787565],\n",
            "        [2.54337374, 2.68386382, 2.48746859]],\n",
            "\n",
            "       [[3.61420807, 3.49553286, 4.0155946 ],\n",
            "        [3.5531676 , 3.70599177, 4.0754601 ],\n",
            "        [3.46635616, 3.5816372 , 3.9071249 ],\n",
            "        ...,\n",
            "        [1.98431348, 2.0841665 , 1.93649167],\n",
            "        [2.0194368 , 2.11394182, 1.97246673],\n",
            "        [2.22556173, 2.38812165, 2.125     ]]]))\n"
          ],
          "name": "stdout"
        }
      ]
    },
    {
      "cell_type": "code",
      "metadata": {
        "id": "XW0PNgIeF7e-"
      },
      "source": [
        ""
      ],
      "execution_count": null,
      "outputs": []
    }
  ]
}