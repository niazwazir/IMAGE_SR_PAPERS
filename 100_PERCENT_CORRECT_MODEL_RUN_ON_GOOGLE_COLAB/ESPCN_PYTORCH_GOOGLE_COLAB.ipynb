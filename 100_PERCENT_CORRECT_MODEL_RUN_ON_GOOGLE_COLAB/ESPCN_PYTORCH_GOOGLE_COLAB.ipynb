{
  "nbformat": 4,
  "nbformat_minor": 0,
  "metadata": {
    "accelerator": "GPU",
    "colab": {
      "name": "Super_resolution.ipynb",
      "provenance": []
    },
    "kernelspec": {
      "display_name": "Python 3",
      "language": "python",
      "name": "python3"
    },
    "language_info": {
      "codemirror_mode": {
        "name": "ipython",
        "version": 3
      },
      "file_extension": ".py",
      "mimetype": "text/x-python",
      "name": "python",
      "nbconvert_exporter": "python",
      "pygments_lexer": "ipython3",
      "version": "3.7.9"
    }
  },
  "cells": [
    {
      "cell_type": "code",
      "metadata": {
        "colab": {
          "base_uri": "https://localhost:8080/"
        },
        "id": "RLOzz1YPe263",
        "outputId": "4ffcca4f-a6f8-45dd-c98d-e7f9d7dc253e"
      },
      "source": [
        "!git clone https://github.com/niazwazir/SUB_PIXEL_CNN.git"
      ],
      "execution_count": 1,
      "outputs": [
        {
          "output_type": "stream",
          "text": [
            "Cloning into 'SUB_PIXEL_CNN'...\n",
            "remote: Enumerating objects: 29, done.\u001b[K\n",
            "remote: Counting objects: 100% (29/29), done.\u001b[K\n",
            "remote: Compressing objects: 100% (20/20), done.\u001b[K\n",
            "remote: Total 29 (delta 10), reused 25 (delta 9), pack-reused 0\u001b[K\n",
            "Unpacking objects: 100% (29/29), done.\n"
          ],
          "name": "stdout"
        }
      ]
    },
    {
      "cell_type": "code",
      "metadata": {
        "colab": {
          "base_uri": "https://localhost:8080/"
        },
        "id": "MlOzadKRjJ9Y",
        "outputId": "2efa1307-4640-411a-f613-7f6a9f5ea2a3"
      },
      "source": [
        "!ls"
      ],
      "execution_count": 2,
      "outputs": [
        {
          "output_type": "stream",
          "text": [
            "sample_data  SUB_PIXEL_CNN\n"
          ],
          "name": "stdout"
        }
      ]
    },
    {
      "cell_type": "code",
      "metadata": {
        "colab": {
          "base_uri": "https://localhost:8080/"
        },
        "id": "tJh3ED5-jKA1",
        "outputId": "6fbe60de-b30e-4cc0-d75b-e4e5607a4b4c"
      },
      "source": [
        "cd SUB_PIXEL_CNN/"
      ],
      "execution_count": 3,
      "outputs": [
        {
          "output_type": "stream",
          "text": [
            "/content/SUB_PIXEL_CNN\n"
          ],
          "name": "stdout"
        }
      ]
    },
    {
      "cell_type": "code",
      "metadata": {
        "colab": {
          "base_uri": "https://localhost:8080/"
        },
        "id": "xXA25-v4jKG-",
        "outputId": "40390bd0-0ffd-4694-aabc-fb74f6e160f5"
      },
      "source": [
        "!ls"
      ],
      "execution_count": 4,
      "outputs": [
        {
          "output_type": "stream",
          "text": [
            " 1609.05158.pdf         Sample.png\n",
            " ESPCN_IMAGE_SR.ipynb   Super_resolution.ipynb\n",
            " LICENSE\t       'Super resolution.odt'\n",
            " model_epoch_599.pth    super_resolution.onnx\n",
            " README.md\t        Super_resolution_on_onnx_Runtime.ipynb\n"
          ],
          "name": "stdout"
        }
      ]
    },
    {
      "cell_type": "code",
      "metadata": {
        "id": "lbyVuUkOe3CP"
      },
      "source": [
        "import numpy as np\n",
        "import os\n",
        "import matplotlib.pyplot as plt\n",
        "from math import log10\n",
        "%matplotlib inline"
      ],
      "execution_count": 5,
      "outputs": []
    },
    {
      "cell_type": "code",
      "metadata": {
        "id": "cdWpdk7GerQb"
      },
      "source": [
        "import torch \n",
        "from torch.nn import init\n",
        "from torchvision import datasets, transforms\n",
        "from torch import nn, optim\n",
        "import torch.nn.functional as F\n",
        "from PIL import Image\n",
        "import torch.utils.data as data"
      ],
      "execution_count": 6,
      "outputs": []
    },
    {
      "cell_type": "code",
      "metadata": {
        "colab": {
          "base_uri": "https://localhost:8080/"
        },
        "id": "ptyJGrv_fXOW",
        "outputId": "5b074168-6f90-4677-835e-7f1115605c97"
      },
      "source": [
        "!git clone https://github.com/niazwazir/DATASETS.git"
      ],
      "execution_count": 7,
      "outputs": [
        {
          "output_type": "stream",
          "text": [
            "Cloning into 'DATASETS'...\n",
            "remote: Enumerating objects: 1423, done.\u001b[K\n",
            "remote: Total 1423 (delta 0), reused 0 (delta 0), pack-reused 1423\u001b[K\n",
            "Receiving objects: 100% (1423/1423), 388.60 MiB | 41.01 MiB/s, done.\n",
            "Resolving deltas: 100% (617/617), done.\n"
          ],
          "name": "stdout"
        }
      ]
    },
    {
      "cell_type": "code",
      "metadata": {
        "colab": {
          "base_uri": "https://localhost:8080/"
        },
        "id": "cB6E2cZcfaUH",
        "outputId": "e6414bbc-94bf-4537-8fe2-26f181935268"
      },
      "source": [
        "!ls"
      ],
      "execution_count": 8,
      "outputs": [
        {
          "output_type": "stream",
          "text": [
            " 1609.05158.pdf         Sample.png\n",
            " DATASETS\t        Super_resolution.ipynb\n",
            " ESPCN_IMAGE_SR.ipynb  'Super resolution.odt'\n",
            " LICENSE\t        super_resolution.onnx\n",
            " model_epoch_599.pth    Super_resolution_on_onnx_Runtime.ipynb\n",
            " README.md\n"
          ],
          "name": "stdout"
        }
      ]
    },
    {
      "cell_type": "code",
      "metadata": {
        "id": "Xj2MPspoerQb"
      },
      "source": [
        "root = 'DATASETS/data/'"
      ],
      "execution_count": 9,
      "outputs": []
    },
    {
      "cell_type": "code",
      "metadata": {
        "colab": {
          "base_uri": "https://localhost:8080/",
          "height": 35
        },
        "id": "rDu7p9c0erQc",
        "outputId": "00a2cadc-179e-4d27-d388-91f519a72b63"
      },
      "source": [
        "os.getcwd()"
      ],
      "execution_count": 10,
      "outputs": [
        {
          "output_type": "execute_result",
          "data": {
            "application/vnd.google.colaboratory.intrinsic+json": {
              "type": "string"
            },
            "text/plain": [
              "'/content/SUB_PIXEL_CNN'"
            ]
          },
          "metadata": {
            "tags": []
          },
          "execution_count": 10
        }
      ]
    },
    {
      "cell_type": "code",
      "metadata": {
        "id": "PQD9vj4merQd"
      },
      "source": [
        "class DataSuperRes(data.Dataset):\n",
        "    def __init__(self, path, input_transform = None, target_transform = None):\n",
        "        super(DataSuperRes, self).__init__()\n",
        "        self.input_transform = input_transform\n",
        "        self.target_transform = target_transform\n",
        "        self.filepath = [os.path.join(path,x) for x in os.listdir(path)]\n",
        "        \n",
        "    def __len__(self):\n",
        "        return len(self.filepath)\n",
        "    \n",
        "    def __getitem__(self,index):\n",
        "        image = Image.open(self.filepath[index]).convert('YCbCr')\n",
        "        image_rgb = image.convert('RGB')\n",
        "        y, _ , _ = image.split()\n",
        "        target = y.copy()\n",
        "        if self.input_transform:\n",
        "            img = self.input_transform(y)\n",
        "        if self.target_transform:\n",
        "            target = self.target_transform(target)\n",
        "            image_rgb = self.target_transform(image_rgb)\n",
        "        #tensor = transforms.ToTensor()\n",
        "        #image = tensor(image)\n",
        "        return image_rgb, img, target\n",
        "    "
      ],
      "execution_count": 11,
      "outputs": []
    },
    {
      "cell_type": "code",
      "metadata": {
        "id": "Fp6Gfe7xerQd"
      },
      "source": [
        "upscale_factor = 3\n",
        "batch_size = 4\n",
        "epochs = 50 #700\n",
        "lr = 0.001"
      ],
      "execution_count": 12,
      "outputs": []
    },
    {
      "cell_type": "code",
      "metadata": {
        "id": "AP-hV8X3erQd"
      },
      "source": [
        "device = torch.device(\"cuda\" if torch.cuda.is_available() else \"cpu\")"
      ],
      "execution_count": 13,
      "outputs": []
    },
    {
      "cell_type": "code",
      "metadata": {
        "id": "HLobiOuAerQd"
      },
      "source": [
        "def Valid_crop_size(crop_size, upscalefactor):\n",
        "    return crop_size - (crop_size % upscalefactor)"
      ],
      "execution_count": 14,
      "outputs": []
    },
    {
      "cell_type": "code",
      "metadata": {
        "id": "9uL71AkHerQe"
      },
      "source": [
        "# We resize the image to size/upscale_factor to match the output of the model\n",
        "crop_size = Valid_crop_size(256,upscale_factor)\n",
        "input_transforms = transforms.Compose([transforms.CenterCrop(crop_size),\n",
        "                                      transforms.Resize(crop_size//upscale_factor),\n",
        "                                      transforms.ToTensor()\n",
        "                                      ])\n",
        "\n",
        "target_transforms = transforms.Compose([transforms.CenterCrop(crop_size),\n",
        "                                      transforms.ToTensor()\n",
        "                                      ])\n"
      ],
      "execution_count": 15,
      "outputs": []
    },
    {
      "cell_type": "code",
      "metadata": {
        "id": "lBrTMWdUerQe"
      },
      "source": [
        "train_set = DataSuperRes(root + 'bsd200', input_transform=input_transforms, target_transform= target_transforms)\n",
        "test_set = DataSuperRes(root + 'set5', input_transform=input_transforms, target_transform=target_transforms)\n",
        "\n",
        "trainloader = data.DataLoader(train_set, batch_size=batch_size, shuffle=True)\n",
        "testloader = data.DataLoader(test_set, batch_size=batch_size, shuffle=False)"
      ],
      "execution_count": 16,
      "outputs": []
    },
    {
      "cell_type": "code",
      "metadata": {
        "colab": {
          "base_uri": "https://localhost:8080/"
        },
        "id": "-xy1WbJierQe",
        "outputId": "782a66a9-5e5e-4d0a-e772-bf800eb4ad89"
      },
      "source": [
        "print(len(trainloader))"
      ],
      "execution_count": 17,
      "outputs": [
        {
          "output_type": "stream",
          "text": [
            "50\n"
          ],
          "name": "stdout"
        }
      ]
    },
    {
      "cell_type": "code",
      "metadata": {
        "colab": {
          "base_uri": "https://localhost:8080/"
        },
        "id": "9rUwX3G5erQe",
        "outputId": "db400b0b-be13-40d8-c64c-44077fae3ff4"
      },
      "source": [
        "len(os.listdir(root + 'bsd200'))/8"
      ],
      "execution_count": 18,
      "outputs": [
        {
          "output_type": "execute_result",
          "data": {
            "text/plain": [
              "25.0"
            ]
          },
          "metadata": {
            "tags": []
          },
          "execution_count": 18
        }
      ]
    },
    {
      "cell_type": "code",
      "metadata": {
        "colab": {
          "base_uri": "https://localhost:8080/"
        },
        "id": "a9pn4LeRerQf",
        "outputId": "4bdcf503-7da4-4f9f-c095-4df312c38289"
      },
      "source": [
        "w = torch.empty(2,3)\n",
        "torch.nn.init.orthogonal_(w,gain=1)"
      ],
      "execution_count": 19,
      "outputs": [
        {
          "output_type": "execute_result",
          "data": {
            "text/plain": [
              "tensor([[-0.8958, -0.3955,  0.2028],\n",
              "        [-0.3224,  0.2639, -0.9091]])"
            ]
          },
          "metadata": {
            "tags": []
          },
          "execution_count": 19
        }
      ]
    },
    {
      "cell_type": "code",
      "metadata": {
        "colab": {
          "base_uri": "https://localhost:8080/"
        },
        "id": "QA7pUv6DerQf",
        "outputId": "69bffb20-3e92-4411-d1d2-63064b05b830"
      },
      "source": [
        "torch.nn.init.orthogonal_(w,gain=1)"
      ],
      "execution_count": 20,
      "outputs": [
        {
          "output_type": "execute_result",
          "data": {
            "text/plain": [
              "tensor([[-0.6843, -0.7140,  0.1482],\n",
              "        [-0.4149,  0.5484,  0.7260]])"
            ]
          },
          "metadata": {
            "tags": []
          },
          "execution_count": 20
        }
      ]
    },
    {
      "cell_type": "code",
      "metadata": {
        "id": "2H0vH45IerQf"
      },
      "source": [
        "def show_img(epoch, normal, super_resolution):\n",
        "    \n",
        "    tensor = transforms.ToTensor()\n",
        "    PIL = transforms.ToPILImage()\n",
        "    img_normal = PIL(normal)\n",
        "    \n",
        "    img_ycbcr = img_normal.convert('YCbCr')\n",
        "    _, img_cb, img_cr = img_ycbcr.split()\n",
        "    \n",
        "    #super_resolution = np.transpose(super_resolution, (1,2,0))\n",
        "    normal = np.transpose(normal, (1,2,0))\n",
        "    \n",
        "    out_img_y = super_resolution*255.0\n",
        "    out_img_y = out_img_y.clip(0, 255)\n",
        "    #print(out_img_y.shape)\n",
        "    #out_img_y = out_img_y.squeeze()\n",
        "    out_img_y = Image.fromarray(np.uint8(out_img_y[0]), mode='L')\n",
        "    print(out_img_y.size)\n",
        "    \n",
        "    out_img_cb = img_cb.resize(out_img_y.size, Image.BICUBIC)\n",
        "    out_img_cr = img_cr.resize(out_img_y.size, Image.BICUBIC)\n",
        "    out_img = Image.merge('YCbCr', [out_img_y, out_img_cb, out_img_cr])\n",
        "    out_img = out_img.convert('RGB')\n",
        "    #out_img = Image.merge('RGB', [out_img_y, out_img_cb, out_img_cr])\n",
        "    print(out_img.size)\n",
        "    \n",
        "    if epoch % 150 == 0:\n",
        "        out_img.save(root+'out.png')\n",
        "    fig=plt.figure(figsize=[10,5])\n",
        "    \n",
        "    fig.add_subplot(1, 2, 1, title='Original Image')\n",
        "    plt.imshow(normal)\n",
        "    \n",
        "    fig.add_subplot(1, 2, 2, title='Super resolution Image')\n",
        "    plt.imshow(out_img)\n",
        "    \n",
        "    \n",
        "    fig.subplots_adjust(wspace = 0.5)\n",
        "    plt.show()\n",
        "    "
      ],
      "execution_count": 21,
      "outputs": []
    },
    {
      "cell_type": "code",
      "metadata": {
        "id": "8s-e9eeYerQf"
      },
      "source": [
        "class Network(nn.Module):\n",
        "    def __init__(self, upscale_factor):\n",
        "        super(Network, self).__init__()\n",
        "\n",
        "        self.relu = nn.ReLU()\n",
        "        self.conv1 = nn.Conv2d(1, 64, (5, 5), (1, 1), (2, 2))\n",
        "        self.conv2 = nn.Conv2d(64, 64, (3, 3), (1, 1), (1, 1))\n",
        "        self.conv3 = nn.Conv2d(64, 32, (3, 3), (1, 1), (1, 1))\n",
        "        self.conv4 = nn.Conv2d(32, upscale_factor ** 2, (3, 3), (1, 1), (1, 1))\n",
        "        self.pixel_shuffle = nn.PixelShuffle(upscale_factor)\n",
        "\n",
        "        self._initialize_weights()\n",
        "\n",
        "    def forward(self, x):\n",
        "        x = self.relu(self.conv1(x))\n",
        "        x = self.relu(self.conv2(x))\n",
        "        x = self.relu(self.conv3(x))\n",
        "        x = self.pixel_shuffle(self.conv4(x))\n",
        "        return x\n",
        "    \n",
        "    # A way to initialize weights. Read more here: https://pytorch.org/docs/stable/_modules/torch/nn/init.html#orthogonal_\n",
        "    def _initialize_weights(self):\n",
        "        init.orthogonal_(self.conv1.weight, init.calculate_gain('relu'))\n",
        "        init.orthogonal_(self.conv2.weight, init.calculate_gain('relu'))\n",
        "        init.orthogonal_(self.conv3.weight, init.calculate_gain('relu'))\n",
        "        init.orthogonal_(self.conv4.weight)"
      ],
      "execution_count": 22,
      "outputs": []
    },
    {
      "cell_type": "code",
      "metadata": {
        "id": "wKbPBo8HerQg"
      },
      "source": [
        "model = Network(upscale_factor=upscale_factor).to(device)"
      ],
      "execution_count": 23,
      "outputs": []
    },
    {
      "cell_type": "code",
      "metadata": {
        "colab": {
          "base_uri": "https://localhost:8080/"
        },
        "id": "wch3wLaEerQg",
        "outputId": "2045413c-829f-4f5c-c808-32620b8cfc8d"
      },
      "source": [
        "model"
      ],
      "execution_count": 24,
      "outputs": [
        {
          "output_type": "execute_result",
          "data": {
            "text/plain": [
              "Network(\n",
              "  (relu): ReLU()\n",
              "  (conv1): Conv2d(1, 64, kernel_size=(5, 5), stride=(1, 1), padding=(2, 2))\n",
              "  (conv2): Conv2d(64, 64, kernel_size=(3, 3), stride=(1, 1), padding=(1, 1))\n",
              "  (conv3): Conv2d(64, 32, kernel_size=(3, 3), stride=(1, 1), padding=(1, 1))\n",
              "  (conv4): Conv2d(32, 9, kernel_size=(3, 3), stride=(1, 1), padding=(1, 1))\n",
              "  (pixel_shuffle): PixelShuffle(upscale_factor=3)\n",
              ")"
            ]
          },
          "metadata": {
            "tags": []
          },
          "execution_count": 24
        }
      ]
    },
    {
      "cell_type": "code",
      "metadata": {
        "id": "TtjOnrhZerQg"
      },
      "source": [
        "criterion = nn.MSELoss()\n",
        "optimizer = optim.Adam(model.parameters(),lr=lr)"
      ],
      "execution_count": 25,
      "outputs": []
    },
    {
      "cell_type": "code",
      "metadata": {
        "colab": {
          "base_uri": "https://localhost:8080/"
        },
        "id": "woI8gc9ierQg",
        "outputId": "b0f499db-9e41-4634-9db1-6c482318f648"
      },
      "source": [
        "train_losses = []\n",
        "test_losses = []\n",
        "print_every = 25\n",
        "steps = 1\n",
        "for e in range(epochs):\n",
        "    batch_loss = 0\n",
        "    test_loss = 0\n",
        "    avg_psnr = 0\n",
        "    print(f'Starting epoch: {e+1}/{epochs}')\n",
        "    for color, images, target in trainloader:\n",
        "        images, target = images.to(device), target.to(device)\n",
        "        #print('train images input shape:',images.shape)\n",
        "        \n",
        "        output = model(images)\n",
        "        #print('train model output shape:',output.shape)\n",
        "        loss = criterion(output,target)\n",
        "        \n",
        "        optimizer.zero_grad()\n",
        "        loss.backward()\n",
        "        optimizer.step()\n",
        "        \n",
        "        steps = steps + 1\n",
        "        batch_loss += loss.item()\n",
        "        \n",
        "        if steps % print_every == 0:\n",
        "            with torch.no_grad():\n",
        "                model.eval()\n",
        "                for color_test, images_test, target_test in testloader:\n",
        "                    images_test, target_test = images_test.to(device), target_test.to(device)\n",
        "                    #print('test images input shape:',images_test.shape)\n",
        "                    output_test = model(images_test)\n",
        "                    #print('test model output shape:',output_test.shape)\n",
        "                    loss = criterion(output_test,target_test)\n",
        "                    test_loss +=loss.item()\n",
        "\n",
        "                    psnr = 10 * log10(1 / loss.item())\n",
        "                    avg_psnr += psnr\n",
        "\n",
        "            #print(output.shape)\n",
        "            #print(target.shape)\n",
        "            #print(type(color))\n",
        "            image_out = output_test[0].cpu().numpy()\n",
        "            #target_out = target_test[0].cpu().numpy()\n",
        "            color = color_test[0]\n",
        "            if (e+1)%150 == 0:\n",
        "                show_img(e, color, image_out)\n",
        "            \n",
        "    if(e+1)%200 == 0:\n",
        "        model_out_path = \"model_epoch_{}.pth\".format(e)\n",
        "        torch.save(model, model_out_path)\n",
        "        print(\"Checkpoint saved to {}\".format(model_out_path))\n",
        "    train_losses.append(batch_loss/len(trainloader))\n",
        "    test_losses.append(test_loss/len(testloader))\n",
        "    print(f\"Training loss at epoch {e}: {batch_loss/len(trainloader)}\")\n",
        "    print(f\"Test loss at epoch {e}: {test_loss/len(testloader)}\")\n",
        "    print(f\"Average PSNR: {avg_psnr/len(testloader)}\")\n",
        "    model.train()"
      ],
      "execution_count": 26,
      "outputs": [
        {
          "output_type": "stream",
          "text": [
            "Starting epoch: 1/50\n",
            "Training loss at epoch 0: 0.02471798149868846\n",
            "Test loss at epoch 0: 0.016669172910042107\n",
            "Average PSNR: 42.947094617233844\n",
            "Starting epoch: 2/50\n",
            "Training loss at epoch 1: 0.00591379898134619\n",
            "Test loss at epoch 1: 0.00592293287627399\n",
            "Average PSNR: 52.42121645100697\n",
            "Starting epoch: 3/50\n",
            "Training loss at epoch 2: 0.004543734798207879\n",
            "Test loss at epoch 2: 0.0038431825523730367\n",
            "Average PSNR: 56.87080895870194\n",
            "Starting epoch: 4/50\n",
            "Training loss at epoch 3: 0.003978439818602055\n",
            "Test loss at epoch 3: 0.0030722775554750115\n",
            "Average PSNR: 59.00826780887776\n",
            "Starting epoch: 5/50\n",
            "Training loss at epoch 4: 0.0037350031756795943\n",
            "Test loss at epoch 4: 0.0028542785439640284\n",
            "Average PSNR: 59.17387312191029\n",
            "Starting epoch: 6/50\n",
            "Training loss at epoch 5: 0.0036912717088125645\n",
            "Test loss at epoch 5: 0.0027712090086424723\n",
            "Average PSNR: 59.29684246316546\n",
            "Starting epoch: 7/50\n",
            "Training loss at epoch 6: 0.0035165865067392586\n",
            "Test loss at epoch 6: 0.0024416307860519737\n",
            "Average PSNR: 61.05808252158373\n",
            "Starting epoch: 8/50\n",
            "Training loss at epoch 7: 0.0034401213959790768\n",
            "Test loss at epoch 7: 0.002368268309510313\n",
            "Average PSNR: 61.184663881387095\n",
            "Starting epoch: 9/50\n",
            "Training loss at epoch 8: 0.0034088582918047907\n",
            "Test loss at epoch 8: 0.002300014268257655\n",
            "Average PSNR: 61.426308690558486\n",
            "Starting epoch: 10/50\n",
            "Training loss at epoch 9: 0.003500240594148636\n",
            "Test loss at epoch 9: 0.002500513583072461\n",
            "Average PSNR: 59.83848645079536\n",
            "Starting epoch: 11/50\n",
            "Training loss at epoch 10: 0.0033552759536542\n",
            "Test loss at epoch 10: 0.0021970647358102724\n",
            "Average PSNR: 61.82954464605284\n",
            "Starting epoch: 12/50\n",
            "Training loss at epoch 11: 0.0033094276709016413\n",
            "Test loss at epoch 11: 0.0021567146613961086\n",
            "Average PSNR: 62.03805275371087\n",
            "Starting epoch: 13/50\n",
            "Training loss at epoch 12: 0.003303835359402001\n",
            "Test loss at epoch 12: 0.002118875869200565\n",
            "Average PSNR: 62.095079126516524\n",
            "Starting epoch: 14/50\n",
            "Training loss at epoch 13: 0.0033432889101095496\n",
            "Test loss at epoch 13: 0.002125144426827319\n",
            "Average PSNR: 61.93732825696496\n",
            "Starting epoch: 15/50\n",
            "Training loss at epoch 14: 0.0036576990014873445\n",
            "Test loss at epoch 14: 0.002435416914522648\n",
            "Average PSNR: 59.967495386505874\n",
            "Starting epoch: 16/50\n",
            "Training loss at epoch 15: 0.0032727159839123486\n",
            "Test loss at epoch 15: 0.00204926218430046\n",
            "Average PSNR: 62.463429471544366\n",
            "Starting epoch: 17/50\n",
            "Training loss at epoch 16: 0.0032476252084597946\n",
            "Test loss at epoch 16: 0.0020533808565232903\n",
            "Average PSNR: 62.3324299405165\n",
            "Starting epoch: 18/50\n",
            "Training loss at epoch 17: 0.0032333279168233276\n",
            "Test loss at epoch 17: 0.0019930357666453347\n",
            "Average PSNR: 62.71239156663043\n",
            "Starting epoch: 19/50\n",
            "Training loss at epoch 18: 0.0032310391194187104\n",
            "Test loss at epoch 18: 0.0020076884829904884\n",
            "Average PSNR: 62.53700553067486\n",
            "Starting epoch: 20/50\n",
            "Training loss at epoch 19: 0.0032232746272347866\n",
            "Test loss at epoch 19: 0.0019792084058281034\n",
            "Average PSNR: 62.68925319369713\n",
            "Starting epoch: 21/50\n",
            "Training loss at epoch 20: 0.0032092036143876613\n",
            "Test loss at epoch 20: 0.0019638481608126312\n",
            "Average PSNR: 62.77541403879771\n",
            "Starting epoch: 22/50\n",
            "Training loss at epoch 21: 0.0032121077040210364\n",
            "Test loss at epoch 21: 0.0019567309209378436\n",
            "Average PSNR: 62.72284644156214\n",
            "Starting epoch: 23/50\n",
            "Training loss at epoch 22: 0.0031985715380869807\n",
            "Test loss at epoch 22: 0.0019651628681458533\n",
            "Average PSNR: 62.535864513356984\n",
            "Starting epoch: 24/50\n",
            "Training loss at epoch 23: 0.0032453569886274638\n",
            "Test loss at epoch 23: 0.002098015116644092\n",
            "Average PSNR: 61.3696038336854\n",
            "Starting epoch: 25/50\n",
            "Training loss at epoch 24: 0.003281432157382369\n",
            "Test loss at epoch 24: 0.0020075588836334646\n",
            "Average PSNR: 62.13576064993726\n",
            "Starting epoch: 26/50\n",
            "Training loss at epoch 25: 0.003949185889214277\n",
            "Test loss at epoch 25: 0.002475157947628759\n",
            "Average PSNR: 59.93967266778107\n",
            "Starting epoch: 27/50\n",
            "Training loss at epoch 26: 0.0032293728226795793\n",
            "Test loss at epoch 26: 0.0019787183409789577\n",
            "Average PSNR: 62.38418280448931\n",
            "Starting epoch: 28/50\n",
            "Training loss at epoch 27: 0.003179234056733549\n",
            "Test loss at epoch 27: 0.0019070201233262196\n",
            "Average PSNR: 62.957108147981415\n",
            "Starting epoch: 29/50\n",
            "Training loss at epoch 28: 0.003170013874769211\n",
            "Test loss at epoch 28: 0.001873410408734344\n",
            "Average PSNR: 63.13597413974783\n",
            "Starting epoch: 30/50\n",
            "Training loss at epoch 29: 0.0031661681877449156\n",
            "Test loss at epoch 29: 0.0018636201857589185\n",
            "Average PSNR: 63.18644354292426\n",
            "Starting epoch: 31/50\n",
            "Training loss at epoch 30: 0.0031603752519004046\n",
            "Test loss at epoch 30: 0.0018752765899989754\n",
            "Average PSNR: 63.10884326791644\n",
            "Starting epoch: 32/50\n",
            "Training loss at epoch 31: 0.0031660183041822164\n",
            "Test loss at epoch 31: 0.0018936915294034407\n",
            "Average PSNR: 62.74845776767495\n",
            "Starting epoch: 33/50\n",
            "Training loss at epoch 32: 0.0031519603938795627\n",
            "Test loss at epoch 32: 0.0018521059828344733\n",
            "Average PSNR: 63.19315106720198\n",
            "Starting epoch: 34/50\n",
            "Training loss at epoch 33: 0.0031449899496510626\n",
            "Test loss at epoch 33: 0.0018408366740914062\n",
            "Average PSNR: 63.215423828668804\n",
            "Starting epoch: 35/50\n",
            "Training loss at epoch 34: 0.003142189143691212\n",
            "Test loss at epoch 34: 0.001850782398832962\n",
            "Average PSNR: 63.02554370072474\n",
            "Starting epoch: 36/50\n",
            "Training loss at epoch 35: 0.0031400460889562964\n",
            "Test loss at epoch 35: 0.0018150684045394883\n",
            "Average PSNR: 63.30800386324114\n",
            "Starting epoch: 37/50\n",
            "Training loss at epoch 36: 0.003139226238708943\n",
            "Test loss at epoch 36: 0.0018159099854528904\n",
            "Average PSNR: 63.26305814012531\n",
            "Starting epoch: 38/50\n",
            "Training loss at epoch 37: 0.0031531307322438806\n",
            "Test loss at epoch 37: 0.001871549102361314\n",
            "Average PSNR: 62.752540623423144\n",
            "Starting epoch: 39/50\n",
            "Training loss at epoch 38: 0.0031283808685839175\n",
            "Test loss at epoch 38: 0.001803141480195336\n",
            "Average PSNR: 63.36255676143146\n",
            "Starting epoch: 40/50\n",
            "Training loss at epoch 39: 0.0031257985974662006\n",
            "Test loss at epoch 39: 0.0017942745180334896\n",
            "Average PSNR: 63.369593663971976\n",
            "Starting epoch: 41/50\n",
            "Training loss at epoch 40: 0.003118151582311839\n",
            "Test loss at epoch 40: 0.0017947311862371862\n",
            "Average PSNR: 63.272952324985155\n",
            "Starting epoch: 42/50\n",
            "Training loss at epoch 41: 0.003120872632134706\n",
            "Test loss at epoch 41: 0.001813190770917572\n",
            "Average PSNR: 63.107096859651236\n",
            "Starting epoch: 43/50\n",
            "Training loss at epoch 42: 0.0031276479130610824\n",
            "Test loss at epoch 42: 0.0018069827783619985\n",
            "Average PSNR: 63.08588145062236\n",
            "Starting epoch: 44/50\n",
            "Training loss at epoch 43: 0.0031218974059447646\n",
            "Test loss at epoch 43: 0.0018233402806799859\n",
            "Average PSNR: 62.9632603306407\n",
            "Starting epoch: 45/50\n",
            "Training loss at epoch 44: 0.004738159098196775\n",
            "Test loss at epoch 44: 0.0033632798003964126\n",
            "Average PSNR: 55.76221269974964\n",
            "Starting epoch: 46/50\n",
            "Training loss at epoch 45: 0.003642943436279893\n",
            "Test loss at epoch 45: 0.002088567678583786\n",
            "Average PSNR: 61.80741140519031\n",
            "Starting epoch: 47/50\n",
            "Training loss at epoch 46: 0.003139964670408517\n",
            "Test loss at epoch 46: 0.0018232048605568707\n",
            "Average PSNR: 63.331836584866785\n",
            "Starting epoch: 48/50\n",
            "Training loss at epoch 47: 0.003113976907916367\n",
            "Test loss at epoch 47: 0.0017762108182068914\n",
            "Average PSNR: 63.54582529491908\n",
            "Starting epoch: 49/50\n",
            "Training loss at epoch 48: 0.0031049395888112486\n",
            "Test loss at epoch 48: 0.0017547219613334164\n",
            "Average PSNR: 63.56795750683399\n",
            "Starting epoch: 50/50\n",
            "Training loss at epoch 49: 0.0030976969888433814\n",
            "Test loss at epoch 49: 0.0017470836464781314\n",
            "Average PSNR: 63.57085492884393\n"
          ],
          "name": "stdout"
        }
      ]
    },
    {
      "cell_type": "code",
      "metadata": {
        "id": "e7BKsumAghGZ"
      },
      "source": [
        ""
      ],
      "execution_count": null,
      "outputs": []
    }
  ]
}