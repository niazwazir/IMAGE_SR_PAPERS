{
  "nbformat": 4,
  "nbformat_minor": 0,
  "metadata": {
    "accelerator": "GPU",
    "colab": {
      "name": "ESPCN.ipynb",
      "provenance": []
    },
    "kernelspec": {
      "display_name": "Python 3",
      "language": "python",
      "name": "python3"
    },
    "language_info": {
      "codemirror_mode": {
        "name": "ipython",
        "version": 3
      },
      "file_extension": ".py",
      "mimetype": "text/x-python",
      "name": "python",
      "nbconvert_exporter": "python",
      "pygments_lexer": "ipython3",
      "version": "3.7.9"
    }
  },
  "cells": [
    {
      "cell_type": "markdown",
      "metadata": {
        "id": "ltwP7z_ZamD2"
      },
      "source": [
        "The task of recovering a high resolution (HR) image from its low resolution counterpart is commonly referred to as Single Image Super Resolution (SISR). \n",
        "\n",
        "The model implemented here is ESPCN ([Real-Time Single Image and Video Super-Resolution Using an Efficient Sub-Pixel Convolutional Neural Network](https://arxiv.org/abs/1609.05158)) and we are going to use TensorFlow Lite to run inference on the trained model."
      ]
    },
    {
      "cell_type": "markdown",
      "metadata": {
        "id": "RGPuOaduamD8"
      },
      "source": [
        "## Setup"
      ]
    },
    {
      "cell_type": "markdown",
      "metadata": {
        "id": "R1aj6-55amD9"
      },
      "source": [
        "We are going to need to do some color space transformation, so let's install OpenCV first."
      ]
    },
    {
      "cell_type": "code",
      "metadata": {
        "colab": {
          "base_uri": "https://localhost:8080/"
        },
        "id": "D8KlTuA9amD9",
        "outputId": "f72f359e-e84d-4044-d176-c0cbf12028fe"
      },
      "source": [
        "!pip install opencv-python"
      ],
      "execution_count": 1,
      "outputs": [
        {
          "output_type": "stream",
          "text": [
            "Requirement already satisfied: opencv-python in /usr/local/lib/python3.6/dist-packages (4.1.2.30)\n",
            "Requirement already satisfied: numpy>=1.11.3 in /usr/local/lib/python3.6/dist-packages (from opencv-python) (1.19.5)\n"
          ],
          "name": "stdout"
        }
      ]
    },
    {
      "cell_type": "markdown",
      "metadata": {
        "id": "poAmc_GtamD-"
      },
      "source": [
        "Import dependencies."
      ]
    },
    {
      "cell_type": "code",
      "metadata": {
        "id": "jDOmSCAyamD_",
        "scrolled": true
      },
      "source": [
        "import tensorflow as tf\n",
        "import tarfile\n",
        "import datetime\n",
        "import cv2\n",
        "import numpy as np\n",
        "import matplotlib.pyplot as plt\n",
        "from tensorflow.python.keras.layers import Conv2D, Input, Lambda, Activation\n",
        "from tensorflow.python.keras.models import Model\n",
        "from os.path import exists, join, basename\n",
        "from os import makedirs, remove, path\n",
        "from six.moves import urllib"
      ],
      "execution_count": 2,
      "outputs": []
    },
    {
      "cell_type": "markdown",
      "metadata": {
        "id": "K7_XeZjJamD_"
      },
      "source": [
        "Set some parameters and download BSD300 dataset."
      ]
    },
    {
      "cell_type": "code",
      "metadata": {
        "colab": {
          "base_uri": "https://localhost:8080/"
        },
        "id": "QnempMrYamD_",
        "outputId": "58f7a77e-96e2-420b-f86b-324e2013558a"
      },
      "source": [
        "SCALE = 3\n",
        "LR_SIZE = 100\n",
        "# Make sure HR_SIZE is smaller than 300 since some images in the dataset have height/width < 300\n",
        "HR_SIZE = LR_SIZE * SCALE\n",
        "\n",
        "BATCH_SIZE = 100\n",
        "\n",
        "def download_dataset(file, target_dir=\"dataset\", extract=True):\n",
        "    if not exists(join(target_dir, \"BSDS300/images\")):\n",
        "        source_url = \"http://www2.eecs.berkeley.edu/Research/Projects/CS/vision/bsds/BSDS300-images.tgz\"\n",
        "        target_dir = path.abspath(target_dir)\n",
        "        tf.keras.utils.get_file(file, source_url, cache_subdir=target_dir, extract=extract)\n",
        "\n",
        "download_dataset('BSDS300-images.tgz')\n",
        "\n",
        "TRAIN_IMAGES = \"dataset/BSDS300/images/train/*.jpg\"  \n",
        "TEST_IMAGES = \"dataset/BSDS300/images/test/*.jpg\""
      ],
      "execution_count": 3,
      "outputs": [
        {
          "output_type": "stream",
          "text": [
            "Downloading data from http://www2.eecs.berkeley.edu/Research/Projects/CS/vision/bsds/BSDS300-images.tgz\n",
            "22216704/22211847 [==============================] - 9s 0us/step\n"
          ],
          "name": "stdout"
        }
      ]
    },
    {
      "cell_type": "markdown",
      "metadata": {
        "id": "HEnIAshXamEA"
      },
      "source": [
        "ESPCN implements a simple network with 3 convolutional layers and 1 pixel shuffle layer on the Y channel (luminance) in the YCbCr color space. Cb and Cr channels are upsampled using bicubic method. We can prepare our training and test datasets as the following."
      ]
    },
    {
      "cell_type": "code",
      "metadata": {
        "id": "2-mrUn9WamEA",
        "scrolled": false
      },
      "source": [
        "def extract_luminance(path):\n",
        "    img = cv2.imread(path.numpy().decode('UTF8'))\n",
        "    img = cv2.cvtColor(img, cv2.COLOR_BGR2YCrCb)\n",
        "    # Extract luminance\n",
        "    img_y = img[:, :, 0:1]\n",
        "    return img_y\n",
        "\n",
        "def load_image(img_path):\n",
        "    [hr_img,] = tf.py_function(extract_luminance, [img_path], [tf.float32])\n",
        "    hr_img = tf.convert_to_tensor(hr_img)\n",
        "    hr_img = tf.image.random_crop(hr_img, [HR_SIZE, HR_SIZE, 1])\n",
        "    hr_img = tf.cast(hr_img, tf.float32)\n",
        "    hr_img = hr_img / 255.\n",
        "    lr_img = tf.image.resize(hr_img, [HR_SIZE//SCALE, HR_SIZE//SCALE], tf.image.ResizeMethod.BICUBIC)\n",
        "    return lr_img, hr_img\n",
        "\n",
        "training_dataset = tf.data.Dataset.list_files(TRAIN_IMAGES) \\\n",
        "                   .map(load_image, num_parallel_calls=tf.data.experimental.AUTOTUNE) \\\n",
        "                   .batch(BATCH_SIZE) \\\n",
        "                   .prefetch(tf.data.experimental.AUTOTUNE) \\\n",
        "                   .shuffle(buffer_size = 200) \n",
        "\n",
        "test_dataset = tf.data.Dataset.list_files(TEST_IMAGES) \\\n",
        "                   .map(load_image, num_parallel_calls=tf.data.experimental.AUTOTUNE) \\\n",
        "                   .batch(BATCH_SIZE) \\\n",
        "                   .prefetch(tf.data.experimental.AUTOTUNE)"
      ],
      "execution_count": 4,
      "outputs": []
    },
    {
      "cell_type": "markdown",
      "metadata": {
        "id": "YZPPwoXsamEA"
      },
      "source": [
        "## Build the model"
      ]
    },
    {
      "cell_type": "code",
      "metadata": {
        "colab": {
          "base_uri": "https://localhost:8080/"
        },
        "id": "XrOm9v60amEA",
        "outputId": "b3df3ef4-71a9-4503-f4dc-9251d29b5628"
      },
      "source": [
        "# Helper function to wrap depth_to_space op (pixel shuffle) in a Lambda layer\n",
        "def pixel_shuffle(scale):\n",
        "    return lambda x: tf.nn.depth_to_space(x, scale)\n",
        "\n",
        "input = Input(shape=(LR_SIZE, LR_SIZE, 1))\n",
        "x = Conv2D(64, [5, 5], padding='same', activation='relu')(input)\n",
        "x = Conv2D(32, [3, 3], padding='same', activation='relu')(x)\n",
        "x = Conv2D(SCALE**2, [3, 3], padding='same')(x)\n",
        "x = Lambda(pixel_shuffle(scale=SCALE))(x)\n",
        "x = Activation('tanh')(x)\n",
        "model = Model(input, x, name=\"ESPCN\")\n",
        "\n",
        "logdir = \"./logdir/\" + datetime.datetime.now().strftime(\"%Y%m%d-%H%M%S\")\n",
        "tensorboard_callback = tf.keras.callbacks.TensorBoard(logdir, histogram_freq=1)\n",
        "\n",
        "model.compile(optimizer=tf.keras.optimizers.Adam(learning_rate=1e-4), loss=tf.keras.losses.MSE)\n",
        "\n",
        "model.summary()"
      ],
      "execution_count": 5,
      "outputs": [
        {
          "output_type": "stream",
          "text": [
            "Model: \"ESPCN\"\n",
            "_________________________________________________________________\n",
            "Layer (type)                 Output Shape              Param #   \n",
            "=================================================================\n",
            "input_1 (InputLayer)         [(None, 100, 100, 1)]     0         \n",
            "_________________________________________________________________\n",
            "conv2d (Conv2D)              (None, 100, 100, 64)      1664      \n",
            "_________________________________________________________________\n",
            "conv2d_1 (Conv2D)            (None, 100, 100, 32)      18464     \n",
            "_________________________________________________________________\n",
            "conv2d_2 (Conv2D)            (None, 100, 100, 9)       2601      \n",
            "_________________________________________________________________\n",
            "lambda (Lambda)              (None, 300, 300, 1)       0         \n",
            "_________________________________________________________________\n",
            "activation (Activation)      (None, 300, 300, 1)       0         \n",
            "=================================================================\n",
            "Total params: 22,729\n",
            "Trainable params: 22,729\n",
            "Non-trainable params: 0\n",
            "_________________________________________________________________\n"
          ],
          "name": "stdout"
        }
      ]
    },
    {
      "cell_type": "code",
      "metadata": {
        "colab": {
          "base_uri": "https://localhost:8080/",
          "height": 77
        },
        "id": "U6C3NdW2Eo0l",
        "outputId": "4177ff08-12a3-40b2-8957-c5abf4f2feae"
      },
      "source": [
        "tf.keras.utils.plot_model(\r\n",
        "    model, to_file='model.png', show_shapes=False, show_layer_names=True, rankdir='LR', expand_nested=False, dpi=96\r\n",
        ")"
      ],
      "execution_count": 6,
      "outputs": [
        {
          "output_type": "execute_result",
          "data": {
            "image/png": "[encoded data removed]",
            "text/plain": [
              "<IPython.core.display.Image object>"
            ]
          },
          "metadata": {
            "tags": []
          },
          "execution_count": 6
        }
      ]
    },
    {
      "cell_type": "code",
      "metadata": {
        "colab": {
          "base_uri": "https://localhost:8080/",
          "height": 564
        },
        "id": "1bnQZQAwErC2",
        "outputId": "2957e024-7e14-4f17-c777-8dda0134dfdd"
      },
      "source": [
        "tf.keras.utils.plot_model(\r\n",
        "    model, to_file='model.png', show_shapes=False, show_layer_names=True, expand_nested=False, dpi=96\r\n",
        ")"
      ],
      "execution_count": 7,
      "outputs": [
        {
          "output_type": "execute_result",
          "data": {
            "image/png": "[encoded data removed]",
            "text/plain": [
              "<IPython.core.display.Image object>"
            ]
          },
          "metadata": {
            "tags": []
          },
          "execution_count": 7
        }
      ]
    },
    {
      "cell_type": "markdown",
      "metadata": {
        "id": "UmhoK7GhamEB"
      },
      "source": [
        "## Train and export the model"
      ]
    },
    {
      "cell_type": "code",
      "metadata": {
        "colab": {
          "base_uri": "https://localhost:8080/"
        },
        "id": "ozg_JwF9amEB",
        "outputId": "34a49f3b-1b5b-45a4-deaf-79cf94a8f1fa"
      },
      "source": [
        "model.fit(training_dataset,epochs= 700,validation_data=test_dataset,\n",
        "                    callbacks = [tensorboard_callback],workers = 4)\n",
        "\n",
        "model.save(\"export\")"
      ],
      "execution_count": 8,
      "outputs": [
        {
          "output_type": "stream",
          "text": [
            "Epoch 1/700\n",
            "2/2 [==============================] - 9s 744ms/step - loss: 0.2093 - val_loss: 0.2013\n",
            "Epoch 2/700\n",
            "2/2 [==============================] - 1s 447ms/step - loss: 0.1969 - val_loss: 0.1960\n",
            "Epoch 3/700\n",
            "2/2 [==============================] - 1s 449ms/step - loss: 0.1930 - val_loss: 0.1837\n",
            "Epoch 4/700\n",
            "2/2 [==============================] - 1s 443ms/step - loss: 0.1812 - val_loss: 0.1763\n",
            "Epoch 5/700\n",
            "2/2 [==============================] - 1s 452ms/step - loss: 0.1720 - val_loss: 0.1682\n",
            "Epoch 6/700\n",
            "2/2 [==============================] - 1s 458ms/step - loss: 0.1673 - val_loss: 0.1587\n",
            "Epoch 7/700\n",
            "2/2 [==============================] - 1s 443ms/step - loss: 0.1551 - val_loss: 0.1503\n",
            "Epoch 8/700\n",
            "2/2 [==============================] - 1s 444ms/step - loss: 0.1479 - val_loss: 0.1460\n",
            "Epoch 9/700\n",
            "2/2 [==============================] - 1s 452ms/step - loss: 0.1434 - val_loss: 0.1359\n",
            "Epoch 10/700\n",
            "2/2 [==============================] - 1s 447ms/step - loss: 0.1357 - val_loss: 0.1287\n",
            "Epoch 11/700\n",
            "2/2 [==============================] - 1s 458ms/step - loss: 0.1271 - val_loss: 0.1204\n",
            "Epoch 12/700\n",
            "2/2 [==============================] - 1s 445ms/step - loss: 0.1190 - val_loss: 0.1114\n",
            "Epoch 13/700\n",
            "2/2 [==============================] - 1s 461ms/step - loss: 0.1108 - val_loss: 0.1042\n",
            "Epoch 14/700\n",
            "2/2 [==============================] - 1s 444ms/step - loss: 0.0987 - val_loss: 0.0950\n",
            "Epoch 15/700\n",
            "2/2 [==============================] - 1s 443ms/step - loss: 0.0940 - val_loss: 0.0876\n",
            "Epoch 16/700\n",
            "2/2 [==============================] - 1s 425ms/step - loss: 0.0844 - val_loss: 0.0792\n",
            "Epoch 17/700\n",
            "2/2 [==============================] - 1s 452ms/step - loss: 0.0764 - val_loss: 0.0704\n",
            "Epoch 18/700\n",
            "2/2 [==============================] - 1s 433ms/step - loss: 0.0694 - val_loss: 0.0629\n",
            "Epoch 19/700\n",
            "2/2 [==============================] - 1s 446ms/step - loss: 0.0614 - val_loss: 0.0569\n",
            "Epoch 20/700\n",
            "2/2 [==============================] - 1s 460ms/step - loss: 0.0542 - val_loss: 0.0501\n",
            "Epoch 21/700\n",
            "2/2 [==============================] - 1s 456ms/step - loss: 0.0489 - val_loss: 0.0448\n",
            "Epoch 22/700\n",
            "2/2 [==============================] - 1s 445ms/step - loss: 0.0441 - val_loss: 0.0397\n",
            "Epoch 23/700\n",
            "2/2 [==============================] - 1s 441ms/step - loss: 0.0390 - val_loss: 0.0360\n",
            "Epoch 24/700\n",
            "2/2 [==============================] - 1s 443ms/step - loss: 0.0346 - val_loss: 0.0323\n",
            "Epoch 25/700\n",
            "2/2 [==============================] - 1s 447ms/step - loss: 0.0309 - val_loss: 0.0293\n",
            "Epoch 26/700\n",
            "2/2 [==============================] - 1s 447ms/step - loss: 0.0284 - val_loss: 0.0276\n",
            "Epoch 27/700\n",
            "2/2 [==============================] - 1s 543ms/step - loss: 0.0253 - val_loss: 0.0254\n",
            "Epoch 28/700\n",
            "2/2 [==============================] - 1s 445ms/step - loss: 0.0241 - val_loss: 0.0240\n",
            "Epoch 29/700\n",
            "2/2 [==============================] - 1s 449ms/step - loss: 0.0226 - val_loss: 0.0222\n",
            "Epoch 30/700\n",
            "2/2 [==============================] - 1s 451ms/step - loss: 0.0213 - val_loss: 0.0218\n",
            "Epoch 31/700\n",
            "2/2 [==============================] - 1s 439ms/step - loss: 0.0202 - val_loss: 0.0205\n",
            "Epoch 32/700\n",
            "2/2 [==============================] - 1s 437ms/step - loss: 0.0197 - val_loss: 0.0198\n",
            "Epoch 33/700\n",
            "2/2 [==============================] - 1s 441ms/step - loss: 0.0187 - val_loss: 0.0194\n",
            "Epoch 34/700\n",
            "2/2 [==============================] - 1s 452ms/step - loss: 0.0180 - val_loss: 0.0185\n",
            "Epoch 35/700\n",
            "2/2 [==============================] - 1s 456ms/step - loss: 0.0174 - val_loss: 0.0180\n",
            "Epoch 36/700\n",
            "2/2 [==============================] - 1s 454ms/step - loss: 0.0173 - val_loss: 0.0173\n",
            "Epoch 37/700\n",
            "2/2 [==============================] - 1s 440ms/step - loss: 0.0162 - val_loss: 0.0170\n",
            "Epoch 38/700\n",
            "2/2 [==============================] - 1s 463ms/step - loss: 0.0163 - val_loss: 0.0168\n",
            "Epoch 39/700\n",
            "2/2 [==============================] - 1s 443ms/step - loss: 0.0158 - val_loss: 0.0168\n",
            "Epoch 40/700\n",
            "2/2 [==============================] - 1s 441ms/step - loss: 0.0158 - val_loss: 0.0165\n",
            "Epoch 41/700\n",
            "2/2 [==============================] - 1s 442ms/step - loss: 0.0155 - val_loss: 0.0166\n",
            "Epoch 42/700\n",
            "2/2 [==============================] - 1s 452ms/step - loss: 0.0152 - val_loss: 0.0164\n",
            "Epoch 43/700\n",
            "2/2 [==============================] - 1s 450ms/step - loss: 0.0153 - val_loss: 0.0161\n",
            "Epoch 44/700\n",
            "2/2 [==============================] - 1s 454ms/step - loss: 0.0156 - val_loss: 0.0162\n",
            "Epoch 45/700\n",
            "2/2 [==============================] - 1s 451ms/step - loss: 0.0154 - val_loss: 0.0161\n",
            "Epoch 46/700\n",
            "2/2 [==============================] - 1s 468ms/step - loss: 0.0155 - val_loss: 0.0162\n",
            "Epoch 47/700\n",
            "2/2 [==============================] - 1s 458ms/step - loss: 0.0149 - val_loss: 0.0158\n",
            "Epoch 48/700\n",
            "2/2 [==============================] - 1s 452ms/step - loss: 0.0151 - val_loss: 0.0159\n",
            "Epoch 49/700\n",
            "2/2 [==============================] - 1s 444ms/step - loss: 0.0147 - val_loss: 0.0162\n",
            "Epoch 50/700\n",
            "2/2 [==============================] - 1s 469ms/step - loss: 0.0151 - val_loss: 0.0164\n",
            "Epoch 51/700\n",
            "2/2 [==============================] - 1s 455ms/step - loss: 0.0150 - val_loss: 0.0161\n",
            "Epoch 52/700\n",
            "2/2 [==============================] - 1s 449ms/step - loss: 0.0144 - val_loss: 0.0158\n",
            "Epoch 53/700\n",
            "2/2 [==============================] - 1s 462ms/step - loss: 0.0148 - val_loss: 0.0158\n",
            "Epoch 54/700\n",
            "2/2 [==============================] - 1s 454ms/step - loss: 0.0150 - val_loss: 0.0158\n",
            "Epoch 55/700\n",
            "2/2 [==============================] - 1s 447ms/step - loss: 0.0147 - val_loss: 0.0157\n",
            "Epoch 56/700\n",
            "2/2 [==============================] - 1s 451ms/step - loss: 0.0146 - val_loss: 0.0154\n",
            "Epoch 57/700\n",
            "2/2 [==============================] - 1s 454ms/step - loss: 0.0144 - val_loss: 0.0154\n",
            "Epoch 58/700\n",
            "2/2 [==============================] - 1s 464ms/step - loss: 0.0147 - val_loss: 0.0152\n",
            "Epoch 59/700\n",
            "2/2 [==============================] - 1s 463ms/step - loss: 0.0146 - val_loss: 0.0155\n",
            "Epoch 60/700\n",
            "2/2 [==============================] - 1s 445ms/step - loss: 0.0145 - val_loss: 0.0155\n",
            "Epoch 61/700\n",
            "2/2 [==============================] - 1s 448ms/step - loss: 0.0144 - val_loss: 0.0152\n",
            "Epoch 62/700\n",
            "2/2 [==============================] - 1s 458ms/step - loss: 0.0140 - val_loss: 0.0149\n",
            "Epoch 63/700\n",
            "2/2 [==============================] - 1s 449ms/step - loss: 0.0143 - val_loss: 0.0151\n",
            "Epoch 64/700\n",
            "2/2 [==============================] - 1s 449ms/step - loss: 0.0143 - val_loss: 0.0152\n",
            "Epoch 65/700\n",
            "2/2 [==============================] - 1s 462ms/step - loss: 0.0143 - val_loss: 0.0150\n",
            "Epoch 66/700\n",
            "2/2 [==============================] - 1s 461ms/step - loss: 0.0137 - val_loss: 0.0151\n",
            "Epoch 67/700\n",
            "2/2 [==============================] - 1s 443ms/step - loss: 0.0140 - val_loss: 0.0149\n",
            "Epoch 68/700\n",
            "2/2 [==============================] - 1s 442ms/step - loss: 0.0137 - val_loss: 0.0149\n",
            "Epoch 69/700\n",
            "2/2 [==============================] - 1s 531ms/step - loss: 0.0137 - val_loss: 0.0145\n",
            "Epoch 70/700\n",
            "2/2 [==============================] - 1s 454ms/step - loss: 0.0140 - val_loss: 0.0145\n",
            "Epoch 71/700\n",
            "2/2 [==============================] - 1s 453ms/step - loss: 0.0133 - val_loss: 0.0144\n",
            "Epoch 72/700\n",
            "2/2 [==============================] - 1s 451ms/step - loss: 0.0135 - val_loss: 0.0143\n",
            "Epoch 73/700\n",
            "2/2 [==============================] - 1s 449ms/step - loss: 0.0136 - val_loss: 0.0144\n",
            "Epoch 74/700\n",
            "2/2 [==============================] - 1s 443ms/step - loss: 0.0134 - val_loss: 0.0142\n",
            "Epoch 75/700\n",
            "2/2 [==============================] - 1s 448ms/step - loss: 0.0132 - val_loss: 0.0142\n",
            "Epoch 76/700\n",
            "2/2 [==============================] - 1s 449ms/step - loss: 0.0131 - val_loss: 0.0141\n",
            "Epoch 77/700\n",
            "2/2 [==============================] - 1s 456ms/step - loss: 0.0129 - val_loss: 0.0139\n",
            "Epoch 78/700\n",
            "2/2 [==============================] - 1s 449ms/step - loss: 0.0129 - val_loss: 0.0140\n",
            "Epoch 79/700\n",
            "2/2 [==============================] - 1s 459ms/step - loss: 0.0131 - val_loss: 0.0139\n",
            "Epoch 80/700\n",
            "2/2 [==============================] - 1s 459ms/step - loss: 0.0125 - val_loss: 0.0133\n",
            "Epoch 81/700\n",
            "2/2 [==============================] - 1s 440ms/step - loss: 0.0130 - val_loss: 0.0135\n",
            "Epoch 82/700\n",
            "2/2 [==============================] - 1s 446ms/step - loss: 0.0124 - val_loss: 0.0135\n",
            "Epoch 83/700\n",
            "2/2 [==============================] - 1s 443ms/step - loss: 0.0128 - val_loss: 0.0137\n",
            "Epoch 84/700\n",
            "2/2 [==============================] - 1s 446ms/step - loss: 0.0128 - val_loss: 0.0132\n",
            "Epoch 85/700\n",
            "2/2 [==============================] - 1s 446ms/step - loss: 0.0124 - val_loss: 0.0131\n",
            "Epoch 86/700\n",
            "2/2 [==============================] - 1s 461ms/step - loss: 0.0124 - val_loss: 0.0132\n",
            "Epoch 87/700\n",
            "2/2 [==============================] - 1s 449ms/step - loss: 0.0123 - val_loss: 0.0129\n",
            "Epoch 88/700\n",
            "2/2 [==============================] - 1s 459ms/step - loss: 0.0119 - val_loss: 0.0128\n",
            "Epoch 89/700\n",
            "2/2 [==============================] - 1s 449ms/step - loss: 0.0121 - val_loss: 0.0128\n",
            "Epoch 90/700\n",
            "2/2 [==============================] - 1s 437ms/step - loss: 0.0123 - val_loss: 0.0127\n",
            "Epoch 91/700\n",
            "2/2 [==============================] - 1s 458ms/step - loss: 0.0119 - val_loss: 0.0127\n",
            "Epoch 92/700\n",
            "2/2 [==============================] - 1s 458ms/step - loss: 0.0118 - val_loss: 0.0127\n",
            "Epoch 93/700\n",
            "2/2 [==============================] - 1s 444ms/step - loss: 0.0119 - val_loss: 0.0126\n",
            "Epoch 94/700\n",
            "2/2 [==============================] - 1s 457ms/step - loss: 0.0115 - val_loss: 0.0122\n",
            "Epoch 95/700\n",
            "2/2 [==============================] - 1s 459ms/step - loss: 0.0115 - val_loss: 0.0124\n",
            "Epoch 96/700\n",
            "2/2 [==============================] - 1s 450ms/step - loss: 0.0115 - val_loss: 0.0122\n",
            "Epoch 97/700\n",
            "2/2 [==============================] - 1s 444ms/step - loss: 0.0113 - val_loss: 0.0121\n",
            "Epoch 98/700\n",
            "2/2 [==============================] - 1s 443ms/step - loss: 0.0113 - val_loss: 0.0119\n",
            "Epoch 99/700\n",
            "2/2 [==============================] - 1s 463ms/step - loss: 0.0108 - val_loss: 0.0121\n",
            "Epoch 100/700\n",
            "2/2 [==============================] - 1s 460ms/step - loss: 0.0111 - val_loss: 0.0119\n",
            "Epoch 101/700\n",
            "2/2 [==============================] - 1s 454ms/step - loss: 0.0112 - val_loss: 0.0117\n",
            "Epoch 102/700\n",
            "2/2 [==============================] - 1s 452ms/step - loss: 0.0109 - val_loss: 0.0117\n",
            "Epoch 103/700\n",
            "2/2 [==============================] - 1s 448ms/step - loss: 0.0107 - val_loss: 0.0117\n",
            "Epoch 104/700\n",
            "2/2 [==============================] - 1s 457ms/step - loss: 0.0108 - val_loss: 0.0116\n",
            "Epoch 105/700\n",
            "2/2 [==============================] - 1s 449ms/step - loss: 0.0107 - val_loss: 0.0113\n",
            "Epoch 106/700\n",
            "2/2 [==============================] - 1s 460ms/step - loss: 0.0107 - val_loss: 0.0112\n",
            "Epoch 107/700\n",
            "2/2 [==============================] - 1s 449ms/step - loss: 0.0103 - val_loss: 0.0115\n",
            "Epoch 108/700\n",
            "2/2 [==============================] - 1s 454ms/step - loss: 0.0105 - val_loss: 0.0108\n",
            "Epoch 109/700\n",
            "2/2 [==============================] - 1s 452ms/step - loss: 0.0102 - val_loss: 0.0111\n",
            "Epoch 110/700\n",
            "2/2 [==============================] - 1s 454ms/step - loss: 0.0103 - val_loss: 0.0110\n",
            "Epoch 111/700\n",
            "2/2 [==============================] - 1s 452ms/step - loss: 0.0101 - val_loss: 0.0110\n",
            "Epoch 112/700\n",
            "2/2 [==============================] - 1s 453ms/step - loss: 0.0102 - val_loss: 0.0108\n",
            "Epoch 113/700\n",
            "2/2 [==============================] - 1s 452ms/step - loss: 0.0100 - val_loss: 0.0106\n",
            "Epoch 114/700\n",
            "2/2 [==============================] - 1s 459ms/step - loss: 0.0098 - val_loss: 0.0108\n",
            "Epoch 115/700\n",
            "2/2 [==============================] - 1s 445ms/step - loss: 0.0100 - val_loss: 0.0105\n",
            "Epoch 116/700\n",
            "2/2 [==============================] - 1s 460ms/step - loss: 0.0096 - val_loss: 0.0103\n",
            "Epoch 117/700\n",
            "2/2 [==============================] - 1s 533ms/step - loss: 0.0098 - val_loss: 0.0103\n",
            "Epoch 118/700\n",
            "2/2 [==============================] - 1s 441ms/step - loss: 0.0098 - val_loss: 0.0103\n",
            "Epoch 119/700\n",
            "2/2 [==============================] - 1s 448ms/step - loss: 0.0094 - val_loss: 0.0104\n",
            "Epoch 120/700\n",
            "2/2 [==============================] - 1s 450ms/step - loss: 0.0098 - val_loss: 0.0103\n",
            "Epoch 121/700\n",
            "2/2 [==============================] - 1s 445ms/step - loss: 0.0094 - val_loss: 0.0102\n",
            "Epoch 122/700\n",
            "2/2 [==============================] - 1s 459ms/step - loss: 0.0096 - val_loss: 0.0102\n",
            "Epoch 123/700\n",
            "2/2 [==============================] - 1s 455ms/step - loss: 0.0094 - val_loss: 0.0100\n",
            "Epoch 124/700\n",
            "2/2 [==============================] - 1s 453ms/step - loss: 0.0096 - val_loss: 0.0099\n",
            "Epoch 125/700\n",
            "2/2 [==============================] - 1s 448ms/step - loss: 0.0093 - val_loss: 0.0098\n",
            "Epoch 126/700\n",
            "2/2 [==============================] - 1s 451ms/step - loss: 0.0091 - val_loss: 0.0098\n",
            "Epoch 127/700\n",
            "2/2 [==============================] - 1s 446ms/step - loss: 0.0091 - val_loss: 0.0098\n",
            "Epoch 128/700\n",
            "2/2 [==============================] - 1s 453ms/step - loss: 0.0090 - val_loss: 0.0096\n",
            "Epoch 129/700\n",
            "2/2 [==============================] - 1s 440ms/step - loss: 0.0090 - val_loss: 0.0096\n",
            "Epoch 130/700\n",
            "2/2 [==============================] - 1s 452ms/step - loss: 0.0091 - val_loss: 0.0095\n",
            "Epoch 131/700\n",
            "2/2 [==============================] - 1s 456ms/step - loss: 0.0092 - val_loss: 0.0097\n",
            "Epoch 132/700\n",
            "2/2 [==============================] - 1s 444ms/step - loss: 0.0088 - val_loss: 0.0096\n",
            "Epoch 133/700\n",
            "2/2 [==============================] - 1s 445ms/step - loss: 0.0088 - val_loss: 0.0094\n",
            "Epoch 134/700\n",
            "2/2 [==============================] - 1s 447ms/step - loss: 0.0086 - val_loss: 0.0093\n",
            "Epoch 135/700\n",
            "2/2 [==============================] - 1s 449ms/step - loss: 0.0088 - val_loss: 0.0094\n",
            "Epoch 136/700\n",
            "2/2 [==============================] - 1s 446ms/step - loss: 0.0089 - val_loss: 0.0095\n",
            "Epoch 137/700\n",
            "2/2 [==============================] - 1s 459ms/step - loss: 0.0086 - val_loss: 0.0094\n",
            "Epoch 138/700\n",
            "2/2 [==============================] - 1s 449ms/step - loss: 0.0088 - val_loss: 0.0092\n",
            "Epoch 139/700\n",
            "2/2 [==============================] - 1s 470ms/step - loss: 0.0086 - val_loss: 0.0092\n",
            "Epoch 140/700\n",
            "2/2 [==============================] - 1s 444ms/step - loss: 0.0084 - val_loss: 0.0091\n",
            "Epoch 141/700\n",
            "2/2 [==============================] - 1s 453ms/step - loss: 0.0086 - val_loss: 0.0092\n",
            "Epoch 142/700\n",
            "2/2 [==============================] - 1s 451ms/step - loss: 0.0084 - val_loss: 0.0091\n",
            "Epoch 143/700\n",
            "2/2 [==============================] - 1s 456ms/step - loss: 0.0081 - val_loss: 0.0091\n",
            "Epoch 144/700\n",
            "2/2 [==============================] - 1s 446ms/step - loss: 0.0083 - val_loss: 0.0091\n",
            "Epoch 145/700\n",
            "2/2 [==============================] - 1s 456ms/step - loss: 0.0083 - val_loss: 0.0088\n",
            "Epoch 146/700\n",
            "2/2 [==============================] - 1s 457ms/step - loss: 0.0083 - val_loss: 0.0090\n",
            "Epoch 147/700\n",
            "2/2 [==============================] - 1s 452ms/step - loss: 0.0084 - val_loss: 0.0088\n",
            "Epoch 148/700\n",
            "2/2 [==============================] - 1s 443ms/step - loss: 0.0082 - val_loss: 0.0087\n",
            "Epoch 149/700\n",
            "2/2 [==============================] - 1s 471ms/step - loss: 0.0081 - val_loss: 0.0086\n",
            "Epoch 150/700\n",
            "2/2 [==============================] - 1s 456ms/step - loss: 0.0082 - val_loss: 0.0085\n",
            "Epoch 151/700\n",
            "2/2 [==============================] - 1s 463ms/step - loss: 0.0082 - val_loss: 0.0087\n",
            "Epoch 152/700\n",
            "2/2 [==============================] - 1s 448ms/step - loss: 0.0080 - val_loss: 0.0086\n",
            "Epoch 153/700\n",
            "2/2 [==============================] - 1s 459ms/step - loss: 0.0078 - val_loss: 0.0087\n",
            "Epoch 154/700\n",
            "2/2 [==============================] - 1s 468ms/step - loss: 0.0079 - val_loss: 0.0087\n",
            "Epoch 155/700\n",
            "2/2 [==============================] - 1s 452ms/step - loss: 0.0077 - val_loss: 0.0087\n",
            "Epoch 156/700\n",
            "2/2 [==============================] - 1s 465ms/step - loss: 0.0078 - val_loss: 0.0086\n",
            "Epoch 157/700\n",
            "2/2 [==============================] - 1s 551ms/step - loss: 0.0080 - val_loss: 0.0084\n",
            "Epoch 158/700\n",
            "2/2 [==============================] - 1s 481ms/step - loss: 0.0078 - val_loss: 0.0085\n",
            "Epoch 159/700\n",
            "2/2 [==============================] - 1s 473ms/step - loss: 0.0076 - val_loss: 0.0083\n",
            "Epoch 160/700\n",
            "2/2 [==============================] - 1s 456ms/step - loss: 0.0076 - val_loss: 0.0084\n",
            "Epoch 161/700\n",
            "2/2 [==============================] - 1s 461ms/step - loss: 0.0077 - val_loss: 0.0083\n",
            "Epoch 162/700\n",
            "2/2 [==============================] - 1s 442ms/step - loss: 0.0073 - val_loss: 0.0081\n",
            "Epoch 163/700\n",
            "2/2 [==============================] - 1s 453ms/step - loss: 0.0077 - val_loss: 0.0081\n",
            "Epoch 164/700\n",
            "2/2 [==============================] - 1s 454ms/step - loss: 0.0075 - val_loss: 0.0081\n",
            "Epoch 165/700\n",
            "2/2 [==============================] - 1s 459ms/step - loss: 0.0076 - val_loss: 0.0082\n",
            "Epoch 166/700\n",
            "2/2 [==============================] - 1s 449ms/step - loss: 0.0075 - val_loss: 0.0081\n",
            "Epoch 167/700\n",
            "2/2 [==============================] - 1s 466ms/step - loss: 0.0074 - val_loss: 0.0081\n",
            "Epoch 168/700\n",
            "2/2 [==============================] - 1s 448ms/step - loss: 0.0072 - val_loss: 0.0082\n",
            "Epoch 169/700\n",
            "2/2 [==============================] - 1s 449ms/step - loss: 0.0075 - val_loss: 0.0078\n",
            "Epoch 170/700\n",
            "2/2 [==============================] - 1s 456ms/step - loss: 0.0073 - val_loss: 0.0079\n",
            "Epoch 171/700\n",
            "2/2 [==============================] - 1s 456ms/step - loss: 0.0073 - val_loss: 0.0079\n",
            "Epoch 172/700\n",
            "2/2 [==============================] - 1s 466ms/step - loss: 0.0071 - val_loss: 0.0080\n",
            "Epoch 173/700\n",
            "2/2 [==============================] - 1s 461ms/step - loss: 0.0073 - val_loss: 0.0079\n",
            "Epoch 174/700\n",
            "2/2 [==============================] - 1s 453ms/step - loss: 0.0070 - val_loss: 0.0079\n",
            "Epoch 175/700\n",
            "2/2 [==============================] - 1s 459ms/step - loss: 0.0072 - val_loss: 0.0080\n",
            "Epoch 176/700\n",
            "2/2 [==============================] - 1s 445ms/step - loss: 0.0072 - val_loss: 0.0077\n",
            "Epoch 177/700\n",
            "2/2 [==============================] - 1s 452ms/step - loss: 0.0072 - val_loss: 0.0078\n",
            "Epoch 178/700\n",
            "2/2 [==============================] - 1s 458ms/step - loss: 0.0071 - val_loss: 0.0076\n",
            "Epoch 179/700\n",
            "2/2 [==============================] - 1s 452ms/step - loss: 0.0069 - val_loss: 0.0076\n",
            "Epoch 180/700\n",
            "2/2 [==============================] - 1s 453ms/step - loss: 0.0070 - val_loss: 0.0076\n",
            "Epoch 181/700\n",
            "2/2 [==============================] - 1s 464ms/step - loss: 0.0070 - val_loss: 0.0076\n",
            "Epoch 182/700\n",
            "2/2 [==============================] - 1s 441ms/step - loss: 0.0068 - val_loss: 0.0076\n",
            "Epoch 183/700\n",
            "2/2 [==============================] - 1s 463ms/step - loss: 0.0069 - val_loss: 0.0074\n",
            "Epoch 184/700\n",
            "2/2 [==============================] - 1s 464ms/step - loss: 0.0068 - val_loss: 0.0077\n",
            "Epoch 185/700\n",
            "2/2 [==============================] - 1s 451ms/step - loss: 0.0069 - val_loss: 0.0075\n",
            "Epoch 186/700\n",
            "2/2 [==============================] - 1s 476ms/step - loss: 0.0066 - val_loss: 0.0074\n",
            "Epoch 187/700\n",
            "2/2 [==============================] - 1s 450ms/step - loss: 0.0068 - val_loss: 0.0073\n",
            "Epoch 188/700\n",
            "2/2 [==============================] - 1s 458ms/step - loss: 0.0068 - val_loss: 0.0075\n",
            "Epoch 189/700\n",
            "2/2 [==============================] - 1s 466ms/step - loss: 0.0069 - val_loss: 0.0074\n",
            "Epoch 190/700\n",
            "2/2 [==============================] - 1s 452ms/step - loss: 0.0067 - val_loss: 0.0075\n",
            "Epoch 191/700\n",
            "2/2 [==============================] - 1s 469ms/step - loss: 0.0068 - val_loss: 0.0075\n",
            "Epoch 192/700\n",
            "2/2 [==============================] - 1s 451ms/step - loss: 0.0067 - val_loss: 0.0074\n",
            "Epoch 193/700\n",
            "2/2 [==============================] - 1s 459ms/step - loss: 0.0068 - val_loss: 0.0073\n",
            "Epoch 194/700\n",
            "2/2 [==============================] - 1s 466ms/step - loss: 0.0067 - val_loss: 0.0073\n",
            "Epoch 195/700\n",
            "2/2 [==============================] - 1s 451ms/step - loss: 0.0067 - val_loss: 0.0074\n",
            "Epoch 196/700\n",
            "2/2 [==============================] - 1s 448ms/step - loss: 0.0067 - val_loss: 0.0073\n",
            "Epoch 197/700\n",
            "2/2 [==============================] - 1s 446ms/step - loss: 0.0066 - val_loss: 0.0072\n",
            "Epoch 198/700\n",
            "2/2 [==============================] - 1s 461ms/step - loss: 0.0065 - val_loss: 0.0072\n",
            "Epoch 199/700\n",
            "2/2 [==============================] - 1s 455ms/step - loss: 0.0064 - val_loss: 0.0071\n",
            "Epoch 200/700\n",
            "2/2 [==============================] - 1s 472ms/step - loss: 0.0065 - val_loss: 0.0071\n",
            "Epoch 201/700\n",
            "2/2 [==============================] - 1s 453ms/step - loss: 0.0066 - val_loss: 0.0072\n",
            "Epoch 202/700\n",
            "2/2 [==============================] - 1s 445ms/step - loss: 0.0067 - val_loss: 0.0072\n",
            "Epoch 203/700\n",
            "2/2 [==============================] - 1s 451ms/step - loss: 0.0067 - val_loss: 0.0071\n",
            "Epoch 204/700\n",
            "2/2 [==============================] - 1s 456ms/step - loss: 0.0063 - val_loss: 0.0072\n",
            "Epoch 205/700\n",
            "2/2 [==============================] - 1s 540ms/step - loss: 0.0064 - val_loss: 0.0071\n",
            "Epoch 206/700\n",
            "2/2 [==============================] - 1s 466ms/step - loss: 0.0066 - val_loss: 0.0070\n",
            "Epoch 207/700\n",
            "2/2 [==============================] - 1s 451ms/step - loss: 0.0063 - val_loss: 0.0072\n",
            "Epoch 208/700\n",
            "2/2 [==============================] - 1s 446ms/step - loss: 0.0063 - val_loss: 0.0072\n",
            "Epoch 209/700\n",
            "2/2 [==============================] - 1s 452ms/step - loss: 0.0061 - val_loss: 0.0070\n",
            "Epoch 210/700\n",
            "2/2 [==============================] - 1s 458ms/step - loss: 0.0065 - val_loss: 0.0071\n",
            "Epoch 211/700\n",
            "2/2 [==============================] - 1s 443ms/step - loss: 0.0064 - val_loss: 0.0070\n",
            "Epoch 212/700\n",
            "2/2 [==============================] - 1s 468ms/step - loss: 0.0064 - val_loss: 0.0070\n",
            "Epoch 213/700\n",
            "2/2 [==============================] - 1s 462ms/step - loss: 0.0065 - val_loss: 0.0069\n",
            "Epoch 214/700\n",
            "2/2 [==============================] - 1s 466ms/step - loss: 0.0065 - val_loss: 0.0070\n",
            "Epoch 215/700\n",
            "2/2 [==============================] - 1s 454ms/step - loss: 0.0065 - val_loss: 0.0069\n",
            "Epoch 216/700\n",
            "2/2 [==============================] - 1s 448ms/step - loss: 0.0063 - val_loss: 0.0068\n",
            "Epoch 217/700\n",
            "2/2 [==============================] - 1s 454ms/step - loss: 0.0062 - val_loss: 0.0068\n",
            "Epoch 218/700\n",
            "2/2 [==============================] - 1s 454ms/step - loss: 0.0067 - val_loss: 0.0067\n",
            "Epoch 219/700\n",
            "2/2 [==============================] - 1s 446ms/step - loss: 0.0063 - val_loss: 0.0069\n",
            "Epoch 220/700\n",
            "2/2 [==============================] - 1s 461ms/step - loss: 0.0063 - val_loss: 0.0068\n",
            "Epoch 221/700\n",
            "2/2 [==============================] - 1s 459ms/step - loss: 0.0062 - val_loss: 0.0069\n",
            "Epoch 222/700\n",
            "2/2 [==============================] - 1s 450ms/step - loss: 0.0062 - val_loss: 0.0068\n",
            "Epoch 223/700\n",
            "2/2 [==============================] - 1s 453ms/step - loss: 0.0064 - val_loss: 0.0068\n",
            "Epoch 224/700\n",
            "2/2 [==============================] - 1s 452ms/step - loss: 0.0061 - val_loss: 0.0068\n",
            "Epoch 225/700\n",
            "2/2 [==============================] - 1s 469ms/step - loss: 0.0061 - val_loss: 0.0069\n",
            "Epoch 226/700\n",
            "2/2 [==============================] - 1s 461ms/step - loss: 0.0061 - val_loss: 0.0068\n",
            "Epoch 227/700\n",
            "2/2 [==============================] - 1s 467ms/step - loss: 0.0058 - val_loss: 0.0067\n",
            "Epoch 228/700\n",
            "2/2 [==============================] - 1s 466ms/step - loss: 0.0060 - val_loss: 0.0067\n",
            "Epoch 229/700\n",
            "2/2 [==============================] - 1s 454ms/step - loss: 0.0063 - val_loss: 0.0067\n",
            "Epoch 230/700\n",
            "2/2 [==============================] - 1s 447ms/step - loss: 0.0062 - val_loss: 0.0068\n",
            "Epoch 231/700\n",
            "2/2 [==============================] - 1s 446ms/step - loss: 0.0061 - val_loss: 0.0067\n",
            "Epoch 232/700\n",
            "2/2 [==============================] - 1s 451ms/step - loss: 0.0059 - val_loss: 0.0067\n",
            "Epoch 233/700\n",
            "2/2 [==============================] - 1s 450ms/step - loss: 0.0060 - val_loss: 0.0066\n",
            "Epoch 234/700\n",
            "2/2 [==============================] - 1s 468ms/step - loss: 0.0059 - val_loss: 0.0066\n",
            "Epoch 235/700\n",
            "2/2 [==============================] - 1s 464ms/step - loss: 0.0063 - val_loss: 0.0066\n",
            "Epoch 236/700\n",
            "2/2 [==============================] - 1s 468ms/step - loss: 0.0059 - val_loss: 0.0066\n",
            "Epoch 237/700\n",
            "2/2 [==============================] - 1s 455ms/step - loss: 0.0060 - val_loss: 0.0066\n",
            "Epoch 238/700\n",
            "2/2 [==============================] - 1s 452ms/step - loss: 0.0060 - val_loss: 0.0066\n",
            "Epoch 239/700\n",
            "2/2 [==============================] - 1s 448ms/step - loss: 0.0058 - val_loss: 0.0065\n",
            "Epoch 240/700\n",
            "2/2 [==============================] - 1s 454ms/step - loss: 0.0059 - val_loss: 0.0064\n",
            "Epoch 241/700\n",
            "2/2 [==============================] - 1s 454ms/step - loss: 0.0060 - val_loss: 0.0066\n",
            "Epoch 242/700\n",
            "2/2 [==============================] - 1s 453ms/step - loss: 0.0059 - val_loss: 0.0066\n",
            "Epoch 243/700\n",
            "2/2 [==============================] - 1s 462ms/step - loss: 0.0059 - val_loss: 0.0065\n",
            "Epoch 244/700\n",
            "2/2 [==============================] - 1s 459ms/step - loss: 0.0059 - val_loss: 0.0064\n",
            "Epoch 245/700\n",
            "2/2 [==============================] - 1s 468ms/step - loss: 0.0057 - val_loss: 0.0064\n",
            "Epoch 246/700\n",
            "2/2 [==============================] - 1s 556ms/step - loss: 0.0062 - val_loss: 0.0065\n",
            "Epoch 247/700\n",
            "2/2 [==============================] - 1s 463ms/step - loss: 0.0061 - val_loss: 0.0065\n",
            "Epoch 248/700\n",
            "2/2 [==============================] - 1s 460ms/step - loss: 0.0060 - val_loss: 0.0066\n",
            "Epoch 249/700\n",
            "2/2 [==============================] - 1s 451ms/step - loss: 0.0059 - val_loss: 0.0064\n",
            "Epoch 250/700\n",
            "2/2 [==============================] - 1s 446ms/step - loss: 0.0060 - val_loss: 0.0064\n",
            "Epoch 251/700\n",
            "2/2 [==============================] - 1s 460ms/step - loss: 0.0058 - val_loss: 0.0064\n",
            "Epoch 252/700\n",
            "2/2 [==============================] - 1s 449ms/step - loss: 0.0057 - val_loss: 0.0063\n",
            "Epoch 253/700\n",
            "2/2 [==============================] - 1s 469ms/step - loss: 0.0057 - val_loss: 0.0064\n",
            "Epoch 254/700\n",
            "2/2 [==============================] - 1s 454ms/step - loss: 0.0058 - val_loss: 0.0064\n",
            "Epoch 255/700\n",
            "2/2 [==============================] - 1s 449ms/step - loss: 0.0058 - val_loss: 0.0063\n",
            "Epoch 256/700\n",
            "2/2 [==============================] - 1s 453ms/step - loss: 0.0056 - val_loss: 0.0064\n",
            "Epoch 257/700\n",
            "2/2 [==============================] - 1s 463ms/step - loss: 0.0057 - val_loss: 0.0063\n",
            "Epoch 258/700\n",
            "2/2 [==============================] - 1s 456ms/step - loss: 0.0057 - val_loss: 0.0063\n",
            "Epoch 259/700\n",
            "2/2 [==============================] - 1s 466ms/step - loss: 0.0056 - val_loss: 0.0062\n",
            "Epoch 260/700\n",
            "2/2 [==============================] - 1s 467ms/step - loss: 0.0057 - val_loss: 0.0063\n",
            "Epoch 261/700\n",
            "2/2 [==============================] - 1s 470ms/step - loss: 0.0056 - val_loss: 0.0063\n",
            "Epoch 262/700\n",
            "2/2 [==============================] - 1s 459ms/step - loss: 0.0059 - val_loss: 0.0063\n",
            "Epoch 263/700\n",
            "2/2 [==============================] - 1s 452ms/step - loss: 0.0056 - val_loss: 0.0064\n",
            "Epoch 264/700\n",
            "2/2 [==============================] - 1s 458ms/step - loss: 0.0058 - val_loss: 0.0063\n",
            "Epoch 265/700\n",
            "2/2 [==============================] - 1s 463ms/step - loss: 0.0058 - val_loss: 0.0063\n",
            "Epoch 266/700\n",
            "2/2 [==============================] - 1s 451ms/step - loss: 0.0056 - val_loss: 0.0063\n",
            "Epoch 267/700\n",
            "2/2 [==============================] - 1s 463ms/step - loss: 0.0057 - val_loss: 0.0062\n",
            "Epoch 268/700\n",
            "2/2 [==============================] - 1s 453ms/step - loss: 0.0056 - val_loss: 0.0063\n",
            "Epoch 269/700\n",
            "2/2 [==============================] - 1s 454ms/step - loss: 0.0055 - val_loss: 0.0062\n",
            "Epoch 270/700\n",
            "2/2 [==============================] - 1s 454ms/step - loss: 0.0057 - val_loss: 0.0060\n",
            "Epoch 271/700\n",
            "2/2 [==============================] - 1s 441ms/step - loss: 0.0056 - val_loss: 0.0061\n",
            "Epoch 272/700\n",
            "2/2 [==============================] - 1s 465ms/step - loss: 0.0056 - val_loss: 0.0063\n",
            "Epoch 273/700\n",
            "2/2 [==============================] - 1s 455ms/step - loss: 0.0056 - val_loss: 0.0063\n",
            "Epoch 274/700\n",
            "2/2 [==============================] - 1s 463ms/step - loss: 0.0057 - val_loss: 0.0062\n",
            "Epoch 275/700\n",
            "2/2 [==============================] - 1s 449ms/step - loss: 0.0058 - val_loss: 0.0062\n",
            "Epoch 276/700\n",
            "2/2 [==============================] - 1s 451ms/step - loss: 0.0056 - val_loss: 0.0062\n",
            "Epoch 277/700\n",
            "2/2 [==============================] - 1s 449ms/step - loss: 0.0056 - val_loss: 0.0061\n",
            "Epoch 278/700\n",
            "2/2 [==============================] - 1s 465ms/step - loss: 0.0054 - val_loss: 0.0062\n",
            "Epoch 279/700\n",
            "2/2 [==============================] - 1s 464ms/step - loss: 0.0056 - val_loss: 0.0062\n",
            "Epoch 280/700\n",
            "2/2 [==============================] - 1s 452ms/step - loss: 0.0057 - val_loss: 0.0061\n",
            "Epoch 281/700\n",
            "2/2 [==============================] - 1s 462ms/step - loss: 0.0055 - val_loss: 0.0062\n",
            "Epoch 282/700\n",
            "2/2 [==============================] - 1s 447ms/step - loss: 0.0055 - val_loss: 0.0062\n",
            "Epoch 283/700\n",
            "2/2 [==============================] - 1s 456ms/step - loss: 0.0056 - val_loss: 0.0060\n",
            "Epoch 284/700\n",
            "2/2 [==============================] - 1s 458ms/step - loss: 0.0054 - val_loss: 0.0061\n",
            "Epoch 285/700\n",
            "2/2 [==============================] - 1s 453ms/step - loss: 0.0055 - val_loss: 0.0060\n",
            "Epoch 286/700\n",
            "2/2 [==============================] - 1s 475ms/step - loss: 0.0057 - val_loss: 0.0060\n",
            "Epoch 287/700\n",
            "2/2 [==============================] - 1s 460ms/step - loss: 0.0055 - val_loss: 0.0061\n",
            "Epoch 288/700\n",
            "2/2 [==============================] - 1s 477ms/step - loss: 0.0055 - val_loss: 0.0060\n",
            "Epoch 289/700\n",
            "2/2 [==============================] - 1s 462ms/step - loss: 0.0055 - val_loss: 0.0060\n",
            "Epoch 290/700\n",
            "2/2 [==============================] - 1s 458ms/step - loss: 0.0053 - val_loss: 0.0060\n",
            "Epoch 291/700\n",
            "2/2 [==============================] - 1s 448ms/step - loss: 0.0056 - val_loss: 0.0062\n",
            "Epoch 292/700\n",
            "2/2 [==============================] - 1s 470ms/step - loss: 0.0053 - val_loss: 0.0060\n",
            "Epoch 293/700\n",
            "2/2 [==============================] - 1s 462ms/step - loss: 0.0055 - val_loss: 0.0060\n",
            "Epoch 294/700\n",
            "2/2 [==============================] - 1s 466ms/step - loss: 0.0056 - val_loss: 0.0060\n",
            "Epoch 295/700\n",
            "2/2 [==============================] - 1s 454ms/step - loss: 0.0055 - val_loss: 0.0061\n",
            "Epoch 296/700\n",
            "2/2 [==============================] - 1s 461ms/step - loss: 0.0056 - val_loss: 0.0059\n",
            "Epoch 297/700\n",
            "2/2 [==============================] - 1s 448ms/step - loss: 0.0053 - val_loss: 0.0061\n",
            "Epoch 298/700\n",
            "2/2 [==============================] - 1s 548ms/step - loss: 0.0055 - val_loss: 0.0060\n",
            "Epoch 299/700\n",
            "2/2 [==============================] - 1s 460ms/step - loss: 0.0053 - val_loss: 0.0060\n",
            "Epoch 300/700\n",
            "2/2 [==============================] - 1s 458ms/step - loss: 0.0057 - val_loss: 0.0061\n",
            "Epoch 301/700\n",
            "2/2 [==============================] - 1s 458ms/step - loss: 0.0053 - val_loss: 0.0058\n",
            "Epoch 302/700\n",
            "2/2 [==============================] - 1s 444ms/step - loss: 0.0055 - val_loss: 0.0059\n",
            "Epoch 303/700\n",
            "2/2 [==============================] - 1s 457ms/step - loss: 0.0054 - val_loss: 0.0060\n",
            "Epoch 304/700\n",
            "2/2 [==============================] - 1s 466ms/step - loss: 0.0054 - val_loss: 0.0059\n",
            "Epoch 305/700\n",
            "2/2 [==============================] - 1s 467ms/step - loss: 0.0053 - val_loss: 0.0059\n",
            "Epoch 306/700\n",
            "2/2 [==============================] - 1s 457ms/step - loss: 0.0053 - val_loss: 0.0059\n",
            "Epoch 307/700\n",
            "2/2 [==============================] - 1s 476ms/step - loss: 0.0054 - val_loss: 0.0059\n",
            "Epoch 308/700\n",
            "2/2 [==============================] - 1s 453ms/step - loss: 0.0054 - val_loss: 0.0060\n",
            "Epoch 309/700\n",
            "2/2 [==============================] - 1s 447ms/step - loss: 0.0055 - val_loss: 0.0060\n",
            "Epoch 310/700\n",
            "2/2 [==============================] - 1s 450ms/step - loss: 0.0054 - val_loss: 0.0059\n",
            "Epoch 311/700\n",
            "2/2 [==============================] - 1s 454ms/step - loss: 0.0052 - val_loss: 0.0060\n",
            "Epoch 312/700\n",
            "2/2 [==============================] - 1s 459ms/step - loss: 0.0054 - val_loss: 0.0058\n",
            "Epoch 313/700\n",
            "2/2 [==============================] - 1s 462ms/step - loss: 0.0054 - val_loss: 0.0058\n",
            "Epoch 314/700\n",
            "2/2 [==============================] - 1s 480ms/step - loss: 0.0052 - val_loss: 0.0059\n",
            "Epoch 315/700\n",
            "2/2 [==============================] - 1s 454ms/step - loss: 0.0052 - val_loss: 0.0059\n",
            "Epoch 316/700\n",
            "2/2 [==============================] - 1s 454ms/step - loss: 0.0054 - val_loss: 0.0060\n",
            "Epoch 317/700\n",
            "2/2 [==============================] - 1s 452ms/step - loss: 0.0053 - val_loss: 0.0058\n",
            "Epoch 318/700\n",
            "2/2 [==============================] - 1s 452ms/step - loss: 0.0055 - val_loss: 0.0059\n",
            "Epoch 319/700\n",
            "2/2 [==============================] - 1s 458ms/step - loss: 0.0053 - val_loss: 0.0058\n",
            "Epoch 320/700\n",
            "2/2 [==============================] - 1s 463ms/step - loss: 0.0053 - val_loss: 0.0059\n",
            "Epoch 321/700\n",
            "2/2 [==============================] - 1s 450ms/step - loss: 0.0052 - val_loss: 0.0058\n",
            "Epoch 322/700\n",
            "2/2 [==============================] - 1s 459ms/step - loss: 0.0053 - val_loss: 0.0058\n",
            "Epoch 323/700\n",
            "2/2 [==============================] - 1s 452ms/step - loss: 0.0054 - val_loss: 0.0058\n",
            "Epoch 324/700\n",
            "2/2 [==============================] - 1s 451ms/step - loss: 0.0051 - val_loss: 0.0057\n",
            "Epoch 325/700\n",
            "2/2 [==============================] - 1s 462ms/step - loss: 0.0054 - val_loss: 0.0057\n",
            "Epoch 326/700\n",
            "2/2 [==============================] - 1s 464ms/step - loss: 0.0053 - val_loss: 0.0057\n",
            "Epoch 327/700\n",
            "2/2 [==============================] - 1s 465ms/step - loss: 0.0054 - val_loss: 0.0059\n",
            "Epoch 328/700\n",
            "2/2 [==============================] - 1s 457ms/step - loss: 0.0052 - val_loss: 0.0058\n",
            "Epoch 329/700\n",
            "2/2 [==============================] - 1s 468ms/step - loss: 0.0051 - val_loss: 0.0058\n",
            "Epoch 330/700\n",
            "2/2 [==============================] - 1s 463ms/step - loss: 0.0052 - val_loss: 0.0058\n",
            "Epoch 331/700\n",
            "2/2 [==============================] - 1s 463ms/step - loss: 0.0051 - val_loss: 0.0057\n",
            "Epoch 332/700\n",
            "2/2 [==============================] - 1s 467ms/step - loss: 0.0054 - val_loss: 0.0059\n",
            "Epoch 333/700\n",
            "2/2 [==============================] - 1s 465ms/step - loss: 0.0053 - val_loss: 0.0057\n",
            "Epoch 334/700\n",
            "2/2 [==============================] - 1s 458ms/step - loss: 0.0051 - val_loss: 0.0058\n",
            "Epoch 335/700\n",
            "2/2 [==============================] - 1s 449ms/step - loss: 0.0051 - val_loss: 0.0058\n",
            "Epoch 336/700\n",
            "2/2 [==============================] - 1s 449ms/step - loss: 0.0053 - val_loss: 0.0058\n",
            "Epoch 337/700\n",
            "2/2 [==============================] - 1s 458ms/step - loss: 0.0052 - val_loss: 0.0057\n",
            "Epoch 338/700\n",
            "2/2 [==============================] - 1s 547ms/step - loss: 0.0053 - val_loss: 0.0058\n",
            "Epoch 339/700\n",
            "2/2 [==============================] - 1s 453ms/step - loss: 0.0052 - val_loss: 0.0058\n",
            "Epoch 340/700\n",
            "2/2 [==============================] - 1s 461ms/step - loss: 0.0054 - val_loss: 0.0058\n",
            "Epoch 341/700\n",
            "2/2 [==============================] - 1s 453ms/step - loss: 0.0051 - val_loss: 0.0057\n",
            "Epoch 342/700\n",
            "2/2 [==============================] - 1s 463ms/step - loss: 0.0051 - val_loss: 0.0058\n",
            "Epoch 343/700\n",
            "2/2 [==============================] - 1s 454ms/step - loss: 0.0051 - val_loss: 0.0057\n",
            "Epoch 344/700\n",
            "2/2 [==============================] - 1s 452ms/step - loss: 0.0051 - val_loss: 0.0058\n",
            "Epoch 345/700\n",
            "2/2 [==============================] - 1s 457ms/step - loss: 0.0054 - val_loss: 0.0058\n",
            "Epoch 346/700\n",
            "2/2 [==============================] - 1s 450ms/step - loss: 0.0054 - val_loss: 0.0058\n",
            "Epoch 347/700\n",
            "2/2 [==============================] - 1s 459ms/step - loss: 0.0051 - val_loss: 0.0058\n",
            "Epoch 348/700\n",
            "2/2 [==============================] - 1s 453ms/step - loss: 0.0050 - val_loss: 0.0057\n",
            "Epoch 349/700\n",
            "2/2 [==============================] - 1s 450ms/step - loss: 0.0051 - val_loss: 0.0057\n",
            "Epoch 350/700\n",
            "2/2 [==============================] - 1s 449ms/step - loss: 0.0050 - val_loss: 0.0057\n",
            "Epoch 351/700\n",
            "2/2 [==============================] - 1s 450ms/step - loss: 0.0052 - val_loss: 0.0057\n",
            "Epoch 352/700\n",
            "2/2 [==============================] - 1s 460ms/step - loss: 0.0053 - val_loss: 0.0057\n",
            "Epoch 353/700\n",
            "2/2 [==============================] - 1s 457ms/step - loss: 0.0051 - val_loss: 0.0057\n",
            "Epoch 354/700\n",
            "2/2 [==============================] - 1s 461ms/step - loss: 0.0050 - val_loss: 0.0058\n",
            "Epoch 355/700\n",
            "2/2 [==============================] - 1s 451ms/step - loss: 0.0052 - val_loss: 0.0057\n",
            "Epoch 356/700\n",
            "2/2 [==============================] - 1s 446ms/step - loss: 0.0052 - val_loss: 0.0057\n",
            "Epoch 357/700\n",
            "2/2 [==============================] - 1s 467ms/step - loss: 0.0052 - val_loss: 0.0057\n",
            "Epoch 358/700\n",
            "2/2 [==============================] - 1s 453ms/step - loss: 0.0052 - val_loss: 0.0058\n",
            "Epoch 359/700\n",
            "2/2 [==============================] - 1s 463ms/step - loss: 0.0049 - val_loss: 0.0057\n",
            "Epoch 360/700\n",
            "2/2 [==============================] - 1s 463ms/step - loss: 0.0050 - val_loss: 0.0058\n",
            "Epoch 361/700\n",
            "2/2 [==============================] - 1s 474ms/step - loss: 0.0052 - val_loss: 0.0056\n",
            "Epoch 362/700\n",
            "2/2 [==============================] - 1s 449ms/step - loss: 0.0050 - val_loss: 0.0057\n",
            "Epoch 363/700\n",
            "2/2 [==============================] - 1s 452ms/step - loss: 0.0050 - val_loss: 0.0056\n",
            "Epoch 364/700\n",
            "2/2 [==============================] - 1s 457ms/step - loss: 0.0051 - val_loss: 0.0057\n",
            "Epoch 365/700\n",
            "2/2 [==============================] - 1s 454ms/step - loss: 0.0051 - val_loss: 0.0056\n",
            "Epoch 366/700\n",
            "2/2 [==============================] - 1s 451ms/step - loss: 0.0051 - val_loss: 0.0057\n",
            "Epoch 367/700\n",
            "2/2 [==============================] - 1s 454ms/step - loss: 0.0050 - val_loss: 0.0057\n",
            "Epoch 368/700\n",
            "2/2 [==============================] - 1s 454ms/step - loss: 0.0051 - val_loss: 0.0057\n",
            "Epoch 369/700\n",
            "2/2 [==============================] - 1s 460ms/step - loss: 0.0053 - val_loss: 0.0055\n",
            "Epoch 370/700\n",
            "2/2 [==============================] - 1s 453ms/step - loss: 0.0052 - val_loss: 0.0056\n",
            "Epoch 371/700\n",
            "2/2 [==============================] - 1s 453ms/step - loss: 0.0051 - val_loss: 0.0056\n",
            "Epoch 372/700\n",
            "2/2 [==============================] - 1s 449ms/step - loss: 0.0052 - val_loss: 0.0056\n",
            "Epoch 373/700\n",
            "2/2 [==============================] - 1s 453ms/step - loss: 0.0051 - val_loss: 0.0057\n",
            "Epoch 374/700\n",
            "2/2 [==============================] - 1s 455ms/step - loss: 0.0050 - val_loss: 0.0057\n",
            "Epoch 375/700\n",
            "2/2 [==============================] - 1s 477ms/step - loss: 0.0050 - val_loss: 0.0056\n",
            "Epoch 376/700\n",
            "2/2 [==============================] - 1s 457ms/step - loss: 0.0051 - val_loss: 0.0057\n",
            "Epoch 377/700\n",
            "2/2 [==============================] - 1s 456ms/step - loss: 0.0051 - val_loss: 0.0056\n",
            "Epoch 378/700\n",
            "2/2 [==============================] - 1s 452ms/step - loss: 0.0051 - val_loss: 0.0056\n",
            "Epoch 379/700\n",
            "2/2 [==============================] - 1s 449ms/step - loss: 0.0051 - val_loss: 0.0056\n",
            "Epoch 380/700\n",
            "2/2 [==============================] - 1s 454ms/step - loss: 0.0051 - val_loss: 0.0056\n",
            "Epoch 381/700\n",
            "2/2 [==============================] - 1s 461ms/step - loss: 0.0051 - val_loss: 0.0055\n",
            "Epoch 382/700\n",
            "2/2 [==============================] - 1s 455ms/step - loss: 0.0051 - val_loss: 0.0056\n",
            "Epoch 383/700\n",
            "2/2 [==============================] - 1s 453ms/step - loss: 0.0049 - val_loss: 0.0056\n",
            "Epoch 384/700\n",
            "2/2 [==============================] - 1s 456ms/step - loss: 0.0050 - val_loss: 0.0057\n",
            "Epoch 385/700\n",
            "2/2 [==============================] - 1s 447ms/step - loss: 0.0050 - val_loss: 0.0056\n",
            "Epoch 386/700\n",
            "2/2 [==============================] - 1s 556ms/step - loss: 0.0049 - val_loss: 0.0055\n",
            "Epoch 387/700\n",
            "2/2 [==============================] - 1s 457ms/step - loss: 0.0051 - val_loss: 0.0055\n",
            "Epoch 388/700\n",
            "2/2 [==============================] - 1s 463ms/step - loss: 0.0053 - val_loss: 0.0056\n",
            "Epoch 389/700\n",
            "2/2 [==============================] - 1s 448ms/step - loss: 0.0049 - val_loss: 0.0055\n",
            "Epoch 390/700\n",
            "2/2 [==============================] - 1s 453ms/step - loss: 0.0051 - val_loss: 0.0056\n",
            "Epoch 391/700\n",
            "2/2 [==============================] - 1s 456ms/step - loss: 0.0051 - val_loss: 0.0057\n",
            "Epoch 392/700\n",
            "2/2 [==============================] - 1s 453ms/step - loss: 0.0051 - val_loss: 0.0056\n",
            "Epoch 393/700\n",
            "2/2 [==============================] - 1s 453ms/step - loss: 0.0051 - val_loss: 0.0056\n",
            "Epoch 394/700\n",
            "2/2 [==============================] - 1s 450ms/step - loss: 0.0051 - val_loss: 0.0055\n",
            "Epoch 395/700\n",
            "2/2 [==============================] - 1s 466ms/step - loss: 0.0052 - val_loss: 0.0055\n",
            "Epoch 396/700\n",
            "2/2 [==============================] - 1s 460ms/step - loss: 0.0051 - val_loss: 0.0056\n",
            "Epoch 397/700\n",
            "2/2 [==============================] - 1s 446ms/step - loss: 0.0051 - val_loss: 0.0055\n",
            "Epoch 398/700\n",
            "2/2 [==============================] - 1s 465ms/step - loss: 0.0050 - val_loss: 0.0055\n",
            "Epoch 399/700\n",
            "2/2 [==============================] - 1s 448ms/step - loss: 0.0049 - val_loss: 0.0056\n",
            "Epoch 400/700\n",
            "2/2 [==============================] - 1s 459ms/step - loss: 0.0050 - val_loss: 0.0055\n",
            "Epoch 401/700\n",
            "2/2 [==============================] - 1s 468ms/step - loss: 0.0048 - val_loss: 0.0054\n",
            "Epoch 402/700\n",
            "2/2 [==============================] - 1s 453ms/step - loss: 0.0051 - val_loss: 0.0056\n",
            "Epoch 403/700\n",
            "2/2 [==============================] - 1s 466ms/step - loss: 0.0051 - val_loss: 0.0055\n",
            "Epoch 404/700\n",
            "2/2 [==============================] - 1s 450ms/step - loss: 0.0050 - val_loss: 0.0055\n",
            "Epoch 405/700\n",
            "2/2 [==============================] - 1s 455ms/step - loss: 0.0050 - val_loss: 0.0055\n",
            "Epoch 406/700\n",
            "2/2 [==============================] - 1s 446ms/step - loss: 0.0050 - val_loss: 0.0054\n",
            "Epoch 407/700\n",
            "2/2 [==============================] - 1s 463ms/step - loss: 0.0051 - val_loss: 0.0056\n",
            "Epoch 408/700\n",
            "2/2 [==============================] - 1s 459ms/step - loss: 0.0052 - val_loss: 0.0055\n",
            "Epoch 409/700\n",
            "2/2 [==============================] - 1s 457ms/step - loss: 0.0049 - val_loss: 0.0055\n",
            "Epoch 410/700\n",
            "2/2 [==============================] - 1s 448ms/step - loss: 0.0051 - val_loss: 0.0055\n",
            "Epoch 411/700\n",
            "2/2 [==============================] - 1s 448ms/step - loss: 0.0050 - val_loss: 0.0055\n",
            "Epoch 412/700\n",
            "2/2 [==============================] - 1s 453ms/step - loss: 0.0051 - val_loss: 0.0055\n",
            "Epoch 413/700\n",
            "2/2 [==============================] - 1s 460ms/step - loss: 0.0050 - val_loss: 0.0054\n",
            "Epoch 414/700\n",
            "2/2 [==============================] - 1s 450ms/step - loss: 0.0050 - val_loss: 0.0055\n",
            "Epoch 415/700\n",
            "2/2 [==============================] - 1s 452ms/step - loss: 0.0051 - val_loss: 0.0055\n",
            "Epoch 416/700\n",
            "2/2 [==============================] - 1s 458ms/step - loss: 0.0050 - val_loss: 0.0055\n",
            "Epoch 417/700\n",
            "2/2 [==============================] - 1s 454ms/step - loss: 0.0049 - val_loss: 0.0055\n",
            "Epoch 418/700\n",
            "2/2 [==============================] - 1s 444ms/step - loss: 0.0050 - val_loss: 0.0054\n",
            "Epoch 419/700\n",
            "2/2 [==============================] - 1s 452ms/step - loss: 0.0051 - val_loss: 0.0055\n",
            "Epoch 420/700\n",
            "2/2 [==============================] - 1s 454ms/step - loss: 0.0049 - val_loss: 0.0056\n",
            "Epoch 421/700\n",
            "2/2 [==============================] - 1s 456ms/step - loss: 0.0048 - val_loss: 0.0055\n",
            "Epoch 422/700\n",
            "2/2 [==============================] - 1s 463ms/step - loss: 0.0050 - val_loss: 0.0055\n",
            "Epoch 423/700\n",
            "2/2 [==============================] - 1s 459ms/step - loss: 0.0049 - val_loss: 0.0055\n",
            "Epoch 424/700\n",
            "2/2 [==============================] - 1s 448ms/step - loss: 0.0050 - val_loss: 0.0055\n",
            "Epoch 425/700\n",
            "2/2 [==============================] - 1s 447ms/step - loss: 0.0051 - val_loss: 0.0054\n",
            "Epoch 426/700\n",
            "2/2 [==============================] - 1s 528ms/step - loss: 0.0049 - val_loss: 0.0054\n",
            "Epoch 427/700\n",
            "2/2 [==============================] - 1s 459ms/step - loss: 0.0050 - val_loss: 0.0055\n",
            "Epoch 428/700\n",
            "2/2 [==============================] - 1s 461ms/step - loss: 0.0050 - val_loss: 0.0055\n",
            "Epoch 429/700\n",
            "2/2 [==============================] - 1s 468ms/step - loss: 0.0050 - val_loss: 0.0055\n",
            "Epoch 430/700\n",
            "2/2 [==============================] - 1s 458ms/step - loss: 0.0049 - val_loss: 0.0055\n",
            "Epoch 431/700\n",
            "2/2 [==============================] - 1s 451ms/step - loss: 0.0051 - val_loss: 0.0054\n",
            "Epoch 432/700\n",
            "2/2 [==============================] - 1s 458ms/step - loss: 0.0050 - val_loss: 0.0054\n",
            "Epoch 433/700\n",
            "2/2 [==============================] - 1s 461ms/step - loss: 0.0050 - val_loss: 0.0055\n",
            "Epoch 434/700\n",
            "2/2 [==============================] - 1s 446ms/step - loss: 0.0048 - val_loss: 0.0056\n",
            "Epoch 435/700\n",
            "2/2 [==============================] - 1s 466ms/step - loss: 0.0050 - val_loss: 0.0054\n",
            "Epoch 436/700\n",
            "2/2 [==============================] - 1s 458ms/step - loss: 0.0050 - val_loss: 0.0054\n",
            "Epoch 437/700\n",
            "2/2 [==============================] - 1s 468ms/step - loss: 0.0050 - val_loss: 0.0053\n",
            "Epoch 438/700\n",
            "2/2 [==============================] - 1s 454ms/step - loss: 0.0049 - val_loss: 0.0054\n",
            "Epoch 439/700\n",
            "2/2 [==============================] - 1s 450ms/step - loss: 0.0049 - val_loss: 0.0055\n",
            "Epoch 440/700\n",
            "2/2 [==============================] - 1s 454ms/step - loss: 0.0049 - val_loss: 0.0055\n",
            "Epoch 441/700\n",
            "2/2 [==============================] - 1s 461ms/step - loss: 0.0049 - val_loss: 0.0054\n",
            "Epoch 442/700\n",
            "2/2 [==============================] - 1s 456ms/step - loss: 0.0050 - val_loss: 0.0054\n",
            "Epoch 443/700\n",
            "2/2 [==============================] - 1s 466ms/step - loss: 0.0049 - val_loss: 0.0053\n",
            "Epoch 444/700\n",
            "2/2 [==============================] - 1s 451ms/step - loss: 0.0050 - val_loss: 0.0054\n",
            "Epoch 445/700\n",
            "2/2 [==============================] - 1s 446ms/step - loss: 0.0048 - val_loss: 0.0054\n",
            "Epoch 446/700\n",
            "2/2 [==============================] - 1s 446ms/step - loss: 0.0051 - val_loss: 0.0055\n",
            "Epoch 447/700\n",
            "2/2 [==============================] - 1s 453ms/step - loss: 0.0048 - val_loss: 0.0054\n",
            "Epoch 448/700\n",
            "2/2 [==============================] - 1s 462ms/step - loss: 0.0049 - val_loss: 0.0054\n",
            "Epoch 449/700\n",
            "2/2 [==============================] - 1s 460ms/step - loss: 0.0049 - val_loss: 0.0054\n",
            "Epoch 450/700\n",
            "2/2 [==============================] - 1s 461ms/step - loss: 0.0049 - val_loss: 0.0055\n",
            "Epoch 451/700\n",
            "2/2 [==============================] - 1s 442ms/step - loss: 0.0046 - val_loss: 0.0055\n",
            "Epoch 452/700\n",
            "2/2 [==============================] - 1s 452ms/step - loss: 0.0049 - val_loss: 0.0054\n",
            "Epoch 453/700\n",
            "2/2 [==============================] - 1s 464ms/step - loss: 0.0050 - val_loss: 0.0054\n",
            "Epoch 454/700\n",
            "2/2 [==============================] - 1s 454ms/step - loss: 0.0049 - val_loss: 0.0054\n",
            "Epoch 455/700\n",
            "2/2 [==============================] - 1s 464ms/step - loss: 0.0048 - val_loss: 0.0054\n",
            "Epoch 456/700\n",
            "2/2 [==============================] - 1s 461ms/step - loss: 0.0049 - val_loss: 0.0054\n",
            "Epoch 457/700\n",
            "2/2 [==============================] - 1s 453ms/step - loss: 0.0050 - val_loss: 0.0055\n",
            "Epoch 458/700\n",
            "2/2 [==============================] - 1s 450ms/step - loss: 0.0049 - val_loss: 0.0054\n",
            "Epoch 459/700\n",
            "2/2 [==============================] - 1s 462ms/step - loss: 0.0048 - val_loss: 0.0053\n",
            "Epoch 460/700\n",
            "2/2 [==============================] - 1s 469ms/step - loss: 0.0048 - val_loss: 0.0054\n",
            "Epoch 461/700\n",
            "2/2 [==============================] - 1s 457ms/step - loss: 0.0050 - val_loss: 0.0054\n",
            "Epoch 462/700\n",
            "2/2 [==============================] - 1s 458ms/step - loss: 0.0049 - val_loss: 0.0054\n",
            "Epoch 463/700\n",
            "2/2 [==============================] - 1s 466ms/step - loss: 0.0049 - val_loss: 0.0054\n",
            "Epoch 464/700\n",
            "2/2 [==============================] - 1s 455ms/step - loss: 0.0050 - val_loss: 0.0054\n",
            "Epoch 465/700\n",
            "2/2 [==============================] - 1s 466ms/step - loss: 0.0048 - val_loss: 0.0055\n",
            "Epoch 466/700\n",
            "2/2 [==============================] - 1s 457ms/step - loss: 0.0048 - val_loss: 0.0054\n",
            "Epoch 467/700\n",
            "2/2 [==============================] - 1s 456ms/step - loss: 0.0046 - val_loss: 0.0054\n",
            "Epoch 468/700\n",
            "2/2 [==============================] - 1s 455ms/step - loss: 0.0048 - val_loss: 0.0054\n",
            "Epoch 469/700\n",
            "2/2 [==============================] - 1s 470ms/step - loss: 0.0049 - val_loss: 0.0053\n",
            "Epoch 470/700\n",
            "2/2 [==============================] - 1s 465ms/step - loss: 0.0050 - val_loss: 0.0053\n",
            "Epoch 471/700\n",
            "2/2 [==============================] - 1s 454ms/step - loss: 0.0048 - val_loss: 0.0053\n",
            "Epoch 472/700\n",
            "2/2 [==============================] - 1s 461ms/step - loss: 0.0046 - val_loss: 0.0054\n",
            "Epoch 473/700\n",
            "2/2 [==============================] - 1s 448ms/step - loss: 0.0048 - val_loss: 0.0054\n",
            "Epoch 474/700\n",
            "2/2 [==============================] - 1s 540ms/step - loss: 0.0049 - val_loss: 0.0053\n",
            "Epoch 475/700\n",
            "2/2 [==============================] - 1s 456ms/step - loss: 0.0047 - val_loss: 0.0054\n",
            "Epoch 476/700\n",
            "2/2 [==============================] - 1s 456ms/step - loss: 0.0048 - val_loss: 0.0054\n",
            "Epoch 477/700\n",
            "2/2 [==============================] - 1s 470ms/step - loss: 0.0049 - val_loss: 0.0053\n",
            "Epoch 478/700\n",
            "2/2 [==============================] - 1s 455ms/step - loss: 0.0048 - val_loss: 0.0055\n",
            "Epoch 479/700\n",
            "2/2 [==============================] - 1s 461ms/step - loss: 0.0048 - val_loss: 0.0053\n",
            "Epoch 480/700\n",
            "2/2 [==============================] - 1s 448ms/step - loss: 0.0048 - val_loss: 0.0054\n",
            "Epoch 481/700\n",
            "2/2 [==============================] - 1s 461ms/step - loss: 0.0049 - val_loss: 0.0055\n",
            "Epoch 482/700\n",
            "2/2 [==============================] - 1s 466ms/step - loss: 0.0047 - val_loss: 0.0053\n",
            "Epoch 483/700\n",
            "2/2 [==============================] - 1s 455ms/step - loss: 0.0048 - val_loss: 0.0053\n",
            "Epoch 484/700\n",
            "2/2 [==============================] - 1s 453ms/step - loss: 0.0049 - val_loss: 0.0053\n",
            "Epoch 485/700\n",
            "2/2 [==============================] - 1s 460ms/step - loss: 0.0049 - val_loss: 0.0053\n",
            "Epoch 486/700\n",
            "2/2 [==============================] - 1s 446ms/step - loss: 0.0048 - val_loss: 0.0054\n",
            "Epoch 487/700\n",
            "2/2 [==============================] - 1s 448ms/step - loss: 0.0050 - val_loss: 0.0053\n",
            "Epoch 488/700\n",
            "2/2 [==============================] - 1s 467ms/step - loss: 0.0050 - val_loss: 0.0054\n",
            "Epoch 489/700\n",
            "2/2 [==============================] - 1s 457ms/step - loss: 0.0049 - val_loss: 0.0054\n",
            "Epoch 490/700\n",
            "2/2 [==============================] - 1s 468ms/step - loss: 0.0050 - val_loss: 0.0054\n",
            "Epoch 491/700\n",
            "2/2 [==============================] - 1s 446ms/step - loss: 0.0050 - val_loss: 0.0052\n",
            "Epoch 492/700\n",
            "2/2 [==============================] - 1s 449ms/step - loss: 0.0047 - val_loss: 0.0053\n",
            "Epoch 493/700\n",
            "2/2 [==============================] - 1s 466ms/step - loss: 0.0048 - val_loss: 0.0054\n",
            "Epoch 494/700\n",
            "2/2 [==============================] - 1s 461ms/step - loss: 0.0049 - val_loss: 0.0054\n",
            "Epoch 495/700\n",
            "2/2 [==============================] - 1s 461ms/step - loss: 0.0047 - val_loss: 0.0054\n",
            "Epoch 496/700\n",
            "2/2 [==============================] - 1s 466ms/step - loss: 0.0049 - val_loss: 0.0053\n",
            "Epoch 497/700\n",
            "2/2 [==============================] - 1s 456ms/step - loss: 0.0048 - val_loss: 0.0052\n",
            "Epoch 498/700\n",
            "2/2 [==============================] - 1s 447ms/step - loss: 0.0049 - val_loss: 0.0054\n",
            "Epoch 499/700\n",
            "2/2 [==============================] - 1s 449ms/step - loss: 0.0049 - val_loss: 0.0054\n",
            "Epoch 500/700\n",
            "2/2 [==============================] - 1s 446ms/step - loss: 0.0049 - val_loss: 0.0052\n",
            "Epoch 501/700\n",
            "2/2 [==============================] - 1s 451ms/step - loss: 0.0047 - val_loss: 0.0053\n",
            "Epoch 502/700\n",
            "2/2 [==============================] - 1s 462ms/step - loss: 0.0047 - val_loss: 0.0054\n",
            "Epoch 503/700\n",
            "2/2 [==============================] - 1s 466ms/step - loss: 0.0048 - val_loss: 0.0053\n",
            "Epoch 504/700\n",
            "2/2 [==============================] - 1s 452ms/step - loss: 0.0049 - val_loss: 0.0053\n",
            "Epoch 505/700\n",
            "2/2 [==============================] - 1s 448ms/step - loss: 0.0048 - val_loss: 0.0053\n",
            "Epoch 506/700\n",
            "2/2 [==============================] - 1s 440ms/step - loss: 0.0049 - val_loss: 0.0052\n",
            "Epoch 507/700\n",
            "2/2 [==============================] - 1s 456ms/step - loss: 0.0049 - val_loss: 0.0053\n",
            "Epoch 508/700\n",
            "2/2 [==============================] - 1s 463ms/step - loss: 0.0049 - val_loss: 0.0053\n",
            "Epoch 509/700\n",
            "2/2 [==============================] - 1s 460ms/step - loss: 0.0048 - val_loss: 0.0053\n",
            "Epoch 510/700\n",
            "2/2 [==============================] - 1s 454ms/step - loss: 0.0048 - val_loss: 0.0053\n",
            "Epoch 511/700\n",
            "2/2 [==============================] - 1s 458ms/step - loss: 0.0047 - val_loss: 0.0054\n",
            "Epoch 512/700\n",
            "2/2 [==============================] - 1s 466ms/step - loss: 0.0048 - val_loss: 0.0053\n",
            "Epoch 513/700\n",
            "2/2 [==============================] - 1s 469ms/step - loss: 0.0047 - val_loss: 0.0054\n",
            "Epoch 514/700\n",
            "2/2 [==============================] - 1s 464ms/step - loss: 0.0049 - val_loss: 0.0054\n",
            "Epoch 515/700\n",
            "2/2 [==============================] - 1s 553ms/step - loss: 0.0046 - val_loss: 0.0053\n",
            "Epoch 516/700\n",
            "2/2 [==============================] - 1s 458ms/step - loss: 0.0050 - val_loss: 0.0053\n",
            "Epoch 517/700\n",
            "2/2 [==============================] - 1s 458ms/step - loss: 0.0048 - val_loss: 0.0053\n",
            "Epoch 518/700\n",
            "2/2 [==============================] - 1s 461ms/step - loss: 0.0048 - val_loss: 0.0052\n",
            "Epoch 519/700\n",
            "2/2 [==============================] - 1s 451ms/step - loss: 0.0049 - val_loss: 0.0053\n",
            "Epoch 520/700\n",
            "2/2 [==============================] - 1s 476ms/step - loss: 0.0049 - val_loss: 0.0053\n",
            "Epoch 521/700\n",
            "2/2 [==============================] - 1s 469ms/step - loss: 0.0049 - val_loss: 0.0052\n",
            "Epoch 522/700\n",
            "2/2 [==============================] - 1s 445ms/step - loss: 0.0048 - val_loss: 0.0053\n",
            "Epoch 523/700\n",
            "2/2 [==============================] - 1s 451ms/step - loss: 0.0049 - val_loss: 0.0052\n",
            "Epoch 524/700\n",
            "2/2 [==============================] - 1s 449ms/step - loss: 0.0049 - val_loss: 0.0053\n",
            "Epoch 525/700\n",
            "2/2 [==============================] - 1s 454ms/step - loss: 0.0048 - val_loss: 0.0053\n",
            "Epoch 526/700\n",
            "2/2 [==============================] - 1s 454ms/step - loss: 0.0047 - val_loss: 0.0053\n",
            "Epoch 527/700\n",
            "2/2 [==============================] - 1s 463ms/step - loss: 0.0049 - val_loss: 0.0053\n",
            "Epoch 528/700\n",
            "2/2 [==============================] - 1s 463ms/step - loss: 0.0048 - val_loss: 0.0052\n",
            "Epoch 529/700\n",
            "2/2 [==============================] - 1s 461ms/step - loss: 0.0048 - val_loss: 0.0053\n",
            "Epoch 530/700\n",
            "2/2 [==============================] - 1s 456ms/step - loss: 0.0047 - val_loss: 0.0053\n",
            "Epoch 531/700\n",
            "2/2 [==============================] - 1s 445ms/step - loss: 0.0048 - val_loss: 0.0053\n",
            "Epoch 532/700\n",
            "2/2 [==============================] - 1s 453ms/step - loss: 0.0049 - val_loss: 0.0053\n",
            "Epoch 533/700\n",
            "2/2 [==============================] - 1s 452ms/step - loss: 0.0048 - val_loss: 0.0052\n",
            "Epoch 534/700\n",
            "2/2 [==============================] - 1s 452ms/step - loss: 0.0046 - val_loss: 0.0053\n",
            "Epoch 535/700\n",
            "2/2 [==============================] - 1s 463ms/step - loss: 0.0047 - val_loss: 0.0054\n",
            "Epoch 536/700\n",
            "2/2 [==============================] - 1s 480ms/step - loss: 0.0049 - val_loss: 0.0053\n",
            "Epoch 537/700\n",
            "2/2 [==============================] - 1s 477ms/step - loss: 0.0051 - val_loss: 0.0053\n",
            "Epoch 538/700\n",
            "2/2 [==============================] - 1s 457ms/step - loss: 0.0048 - val_loss: 0.0052\n",
            "Epoch 539/700\n",
            "2/2 [==============================] - 1s 460ms/step - loss: 0.0048 - val_loss: 0.0053\n",
            "Epoch 540/700\n",
            "2/2 [==============================] - 1s 453ms/step - loss: 0.0048 - val_loss: 0.0052\n",
            "Epoch 541/700\n",
            "2/2 [==============================] - 1s 464ms/step - loss: 0.0047 - val_loss: 0.0053\n",
            "Epoch 542/700\n",
            "2/2 [==============================] - 1s 458ms/step - loss: 0.0047 - val_loss: 0.0052\n",
            "Epoch 543/700\n",
            "2/2 [==============================] - 1s 463ms/step - loss: 0.0049 - val_loss: 0.0052\n",
            "Epoch 544/700\n",
            "2/2 [==============================] - 1s 460ms/step - loss: 0.0049 - val_loss: 0.0053\n",
            "Epoch 545/700\n",
            "2/2 [==============================] - 1s 459ms/step - loss: 0.0047 - val_loss: 0.0053\n",
            "Epoch 546/700\n",
            "2/2 [==============================] - 1s 450ms/step - loss: 0.0048 - val_loss: 0.0053\n",
            "Epoch 547/700\n",
            "2/2 [==============================] - 1s 464ms/step - loss: 0.0048 - val_loss: 0.0052\n",
            "Epoch 548/700\n",
            "2/2 [==============================] - 1s 455ms/step - loss: 0.0049 - val_loss: 0.0053\n",
            "Epoch 549/700\n",
            "2/2 [==============================] - 1s 463ms/step - loss: 0.0048 - val_loss: 0.0053\n",
            "Epoch 550/700\n",
            "2/2 [==============================] - 1s 500ms/step - loss: 0.0048 - val_loss: 0.0053\n",
            "Epoch 551/700\n",
            "2/2 [==============================] - 1s 462ms/step - loss: 0.0049 - val_loss: 0.0053\n",
            "Epoch 552/700\n",
            "2/2 [==============================] - 1s 461ms/step - loss: 0.0047 - val_loss: 0.0052\n",
            "Epoch 553/700\n",
            "2/2 [==============================] - 1s 468ms/step - loss: 0.0046 - val_loss: 0.0052\n",
            "Epoch 554/700\n",
            "2/2 [==============================] - 1s 464ms/step - loss: 0.0048 - val_loss: 0.0052\n",
            "Epoch 555/700\n",
            "2/2 [==============================] - 1s 448ms/step - loss: 0.0047 - val_loss: 0.0053\n",
            "Epoch 556/700\n",
            "2/2 [==============================] - 1s 454ms/step - loss: 0.0047 - val_loss: 0.0052\n",
            "Epoch 557/700\n",
            "2/2 [==============================] - 1s 472ms/step - loss: 0.0048 - val_loss: 0.0053\n",
            "Epoch 558/700\n",
            "2/2 [==============================] - 1s 457ms/step - loss: 0.0047 - val_loss: 0.0052\n",
            "Epoch 559/700\n",
            "2/2 [==============================] - 1s 466ms/step - loss: 0.0047 - val_loss: 0.0052\n",
            "Epoch 560/700\n",
            "2/2 [==============================] - 1s 450ms/step - loss: 0.0045 - val_loss: 0.0053\n",
            "Epoch 561/700\n",
            "2/2 [==============================] - 1s 463ms/step - loss: 0.0049 - val_loss: 0.0052\n",
            "Epoch 562/700\n",
            "2/2 [==============================] - 1s 463ms/step - loss: 0.0047 - val_loss: 0.0053\n",
            "Epoch 563/700\n",
            "2/2 [==============================] - 1s 458ms/step - loss: 0.0049 - val_loss: 0.0052\n",
            "Epoch 564/700\n",
            "2/2 [==============================] - 1s 459ms/step - loss: 0.0049 - val_loss: 0.0052\n",
            "Epoch 565/700\n",
            "2/2 [==============================] - 1s 454ms/step - loss: 0.0049 - val_loss: 0.0053\n",
            "Epoch 566/700\n",
            "2/2 [==============================] - 1s 463ms/step - loss: 0.0046 - val_loss: 0.0053\n",
            "Epoch 567/700\n",
            "2/2 [==============================] - 1s 535ms/step - loss: 0.0048 - val_loss: 0.0053\n",
            "Epoch 568/700\n",
            "2/2 [==============================] - 1s 467ms/step - loss: 0.0047 - val_loss: 0.0053\n",
            "Epoch 569/700\n",
            "2/2 [==============================] - 1s 448ms/step - loss: 0.0049 - val_loss: 0.0052\n",
            "Epoch 570/700\n",
            "2/2 [==============================] - 1s 445ms/step - loss: 0.0048 - val_loss: 0.0052\n",
            "Epoch 571/700\n",
            "2/2 [==============================] - 1s 461ms/step - loss: 0.0047 - val_loss: 0.0053\n",
            "Epoch 572/700\n",
            "2/2 [==============================] - 1s 463ms/step - loss: 0.0048 - val_loss: 0.0053\n",
            "Epoch 573/700\n",
            "2/2 [==============================] - 1s 456ms/step - loss: 0.0049 - val_loss: 0.0053\n",
            "Epoch 574/700\n",
            "2/2 [==============================] - 1s 451ms/step - loss: 0.0048 - val_loss: 0.0052\n",
            "Epoch 575/700\n",
            "2/2 [==============================] - 1s 447ms/step - loss: 0.0046 - val_loss: 0.0053\n",
            "Epoch 576/700\n",
            "2/2 [==============================] - 1s 456ms/step - loss: 0.0047 - val_loss: 0.0053\n",
            "Epoch 577/700\n",
            "2/2 [==============================] - 1s 452ms/step - loss: 0.0047 - val_loss: 0.0052\n",
            "Epoch 578/700\n",
            "2/2 [==============================] - 1s 457ms/step - loss: 0.0047 - val_loss: 0.0052\n",
            "Epoch 579/700\n",
            "2/2 [==============================] - 1s 465ms/step - loss: 0.0048 - val_loss: 0.0052\n",
            "Epoch 580/700\n",
            "2/2 [==============================] - 1s 436ms/step - loss: 0.0046 - val_loss: 0.0053\n",
            "Epoch 581/700\n",
            "2/2 [==============================] - 1s 447ms/step - loss: 0.0047 - val_loss: 0.0053\n",
            "Epoch 582/700\n",
            "2/2 [==============================] - 1s 448ms/step - loss: 0.0046 - val_loss: 0.0052\n",
            "Epoch 583/700\n",
            "2/2 [==============================] - 1s 438ms/step - loss: 0.0048 - val_loss: 0.0053\n",
            "Epoch 584/700\n",
            "2/2 [==============================] - 1s 449ms/step - loss: 0.0047 - val_loss: 0.0051\n",
            "Epoch 585/700\n",
            "2/2 [==============================] - 1s 466ms/step - loss: 0.0048 - val_loss: 0.0051\n",
            "Epoch 586/700\n",
            "2/2 [==============================] - 1s 465ms/step - loss: 0.0047 - val_loss: 0.0052\n",
            "Epoch 587/700\n",
            "2/2 [==============================] - 1s 473ms/step - loss: 0.0046 - val_loss: 0.0052\n",
            "Epoch 588/700\n",
            "2/2 [==============================] - 1s 473ms/step - loss: 0.0049 - val_loss: 0.0052\n",
            "Epoch 589/700\n",
            "2/2 [==============================] - 1s 454ms/step - loss: 0.0047 - val_loss: 0.0053\n",
            "Epoch 590/700\n",
            "2/2 [==============================] - 1s 456ms/step - loss: 0.0048 - val_loss: 0.0053\n",
            "Epoch 591/700\n",
            "2/2 [==============================] - 1s 453ms/step - loss: 0.0048 - val_loss: 0.0052\n",
            "Epoch 592/700\n",
            "2/2 [==============================] - 1s 450ms/step - loss: 0.0048 - val_loss: 0.0052\n",
            "Epoch 593/700\n",
            "2/2 [==============================] - 1s 462ms/step - loss: 0.0047 - val_loss: 0.0052\n",
            "Epoch 594/700\n",
            "2/2 [==============================] - 1s 481ms/step - loss: 0.0049 - val_loss: 0.0052\n",
            "Epoch 595/700\n",
            "2/2 [==============================] - 1s 451ms/step - loss: 0.0047 - val_loss: 0.0052\n",
            "Epoch 596/700\n",
            "2/2 [==============================] - 1s 466ms/step - loss: 0.0047 - val_loss: 0.0053\n",
            "Epoch 597/700\n",
            "2/2 [==============================] - 1s 475ms/step - loss: 0.0048 - val_loss: 0.0051\n",
            "Epoch 598/700\n",
            "2/2 [==============================] - 1s 455ms/step - loss: 0.0048 - val_loss: 0.0052\n",
            "Epoch 599/700\n",
            "2/2 [==============================] - 1s 452ms/step - loss: 0.0047 - val_loss: 0.0053\n",
            "Epoch 600/700\n",
            "2/2 [==============================] - 1s 460ms/step - loss: 0.0047 - val_loss: 0.0052\n",
            "Epoch 601/700\n",
            "2/2 [==============================] - 1s 471ms/step - loss: 0.0047 - val_loss: 0.0053\n",
            "Epoch 602/700\n",
            "2/2 [==============================] - 1s 461ms/step - loss: 0.0048 - val_loss: 0.0051\n",
            "Epoch 603/700\n",
            "2/2 [==============================] - 1s 474ms/step - loss: 0.0047 - val_loss: 0.0052\n",
            "Epoch 604/700\n",
            "2/2 [==============================] - 1s 464ms/step - loss: 0.0049 - val_loss: 0.0052\n",
            "Epoch 605/700\n",
            "2/2 [==============================] - 1s 457ms/step - loss: 0.0048 - val_loss: 0.0052\n",
            "Epoch 606/700\n",
            "2/2 [==============================] - 1s 469ms/step - loss: 0.0049 - val_loss: 0.0050\n",
            "Epoch 607/700\n",
            "2/2 [==============================] - 1s 544ms/step - loss: 0.0048 - val_loss: 0.0052\n",
            "Epoch 608/700\n",
            "2/2 [==============================] - 1s 460ms/step - loss: 0.0050 - val_loss: 0.0052\n",
            "Epoch 609/700\n",
            "2/2 [==============================] - 1s 456ms/step - loss: 0.0047 - val_loss: 0.0051\n",
            "Epoch 610/700\n",
            "2/2 [==============================] - 1s 462ms/step - loss: 0.0047 - val_loss: 0.0050\n",
            "Epoch 611/700\n",
            "2/2 [==============================] - 1s 461ms/step - loss: 0.0048 - val_loss: 0.0052\n",
            "Epoch 612/700\n",
            "2/2 [==============================] - 1s 454ms/step - loss: 0.0046 - val_loss: 0.0052\n",
            "Epoch 613/700\n",
            "2/2 [==============================] - 1s 456ms/step - loss: 0.0047 - val_loss: 0.0051\n",
            "Epoch 614/700\n",
            "2/2 [==============================] - 1s 452ms/step - loss: 0.0047 - val_loss: 0.0052\n",
            "Epoch 615/700\n",
            "2/2 [==============================] - 1s 463ms/step - loss: 0.0049 - val_loss: 0.0051\n",
            "Epoch 616/700\n",
            "2/2 [==============================] - 1s 451ms/step - loss: 0.0046 - val_loss: 0.0052\n",
            "Epoch 617/700\n",
            "2/2 [==============================] - 1s 455ms/step - loss: 0.0047 - val_loss: 0.0052\n",
            "Epoch 618/700\n",
            "2/2 [==============================] - 1s 468ms/step - loss: 0.0046 - val_loss: 0.0052\n",
            "Epoch 619/700\n",
            "2/2 [==============================] - 1s 462ms/step - loss: 0.0047 - val_loss: 0.0052\n",
            "Epoch 620/700\n",
            "2/2 [==============================] - 1s 468ms/step - loss: 0.0046 - val_loss: 0.0052\n",
            "Epoch 621/700\n",
            "2/2 [==============================] - 1s 448ms/step - loss: 0.0048 - val_loss: 0.0052\n",
            "Epoch 622/700\n",
            "2/2 [==============================] - 1s 469ms/step - loss: 0.0047 - val_loss: 0.0052\n",
            "Epoch 623/700\n",
            "2/2 [==============================] - 1s 456ms/step - loss: 0.0048 - val_loss: 0.0051\n",
            "Epoch 624/700\n",
            "2/2 [==============================] - 1s 462ms/step - loss: 0.0045 - val_loss: 0.0051\n",
            "Epoch 625/700\n",
            "2/2 [==============================] - 1s 467ms/step - loss: 0.0046 - val_loss: 0.0052\n",
            "Epoch 626/700\n",
            "2/2 [==============================] - 1s 450ms/step - loss: 0.0048 - val_loss: 0.0050\n",
            "Epoch 627/700\n",
            "2/2 [==============================] - 1s 474ms/step - loss: 0.0048 - val_loss: 0.0051\n",
            "Epoch 628/700\n",
            "2/2 [==============================] - 1s 453ms/step - loss: 0.0048 - val_loss: 0.0052\n",
            "Epoch 629/700\n",
            "2/2 [==============================] - 1s 466ms/step - loss: 0.0049 - val_loss: 0.0052\n",
            "Epoch 630/700\n",
            "2/2 [==============================] - 1s 449ms/step - loss: 0.0047 - val_loss: 0.0051\n",
            "Epoch 631/700\n",
            "2/2 [==============================] - 1s 465ms/step - loss: 0.0048 - val_loss: 0.0052\n",
            "Epoch 632/700\n",
            "2/2 [==============================] - 1s 463ms/step - loss: 0.0047 - val_loss: 0.0052\n",
            "Epoch 633/700\n",
            "2/2 [==============================] - 1s 468ms/step - loss: 0.0047 - val_loss: 0.0053\n",
            "Epoch 634/700\n",
            "2/2 [==============================] - 1s 463ms/step - loss: 0.0047 - val_loss: 0.0051\n",
            "Epoch 635/700\n",
            "2/2 [==============================] - 1s 454ms/step - loss: 0.0046 - val_loss: 0.0052\n",
            "Epoch 636/700\n",
            "2/2 [==============================] - 1s 456ms/step - loss: 0.0047 - val_loss: 0.0051\n",
            "Epoch 637/700\n",
            "2/2 [==============================] - 1s 460ms/step - loss: 0.0047 - val_loss: 0.0052\n",
            "Epoch 638/700\n",
            "2/2 [==============================] - 1s 474ms/step - loss: 0.0046 - val_loss: 0.0052\n",
            "Epoch 639/700\n",
            "2/2 [==============================] - 1s 456ms/step - loss: 0.0046 - val_loss: 0.0052\n",
            "Epoch 640/700\n",
            "2/2 [==============================] - 1s 461ms/step - loss: 0.0047 - val_loss: 0.0052\n",
            "Epoch 641/700\n",
            "2/2 [==============================] - 1s 464ms/step - loss: 0.0049 - val_loss: 0.0053\n",
            "Epoch 642/700\n",
            "2/2 [==============================] - 1s 458ms/step - loss: 0.0048 - val_loss: 0.0051\n",
            "Epoch 643/700\n",
            "2/2 [==============================] - 1s 468ms/step - loss: 0.0048 - val_loss: 0.0052\n",
            "Epoch 644/700\n",
            "2/2 [==============================] - 1s 456ms/step - loss: 0.0046 - val_loss: 0.0051\n",
            "Epoch 645/700\n",
            "2/2 [==============================] - 1s 464ms/step - loss: 0.0047 - val_loss: 0.0051\n",
            "Epoch 646/700\n",
            "2/2 [==============================] - 1s 471ms/step - loss: 0.0048 - val_loss: 0.0052\n",
            "Epoch 647/700\n",
            "2/2 [==============================] - 1s 460ms/step - loss: 0.0047 - val_loss: 0.0051\n",
            "Epoch 648/700\n",
            "2/2 [==============================] - 1s 458ms/step - loss: 0.0046 - val_loss: 0.0051\n",
            "Epoch 649/700\n",
            "2/2 [==============================] - 1s 464ms/step - loss: 0.0047 - val_loss: 0.0052\n",
            "Epoch 650/700\n",
            "2/2 [==============================] - 1s 460ms/step - loss: 0.0047 - val_loss: 0.0052\n",
            "Epoch 651/700\n",
            "2/2 [==============================] - 1s 463ms/step - loss: 0.0046 - val_loss: 0.0052\n",
            "Epoch 652/700\n",
            "2/2 [==============================] - 1s 466ms/step - loss: 0.0046 - val_loss: 0.0052\n",
            "Epoch 653/700\n",
            "2/2 [==============================] - 1s 454ms/step - loss: 0.0048 - val_loss: 0.0051\n",
            "Epoch 654/700\n",
            "2/2 [==============================] - 1s 458ms/step - loss: 0.0047 - val_loss: 0.0052\n",
            "Epoch 655/700\n",
            "2/2 [==============================] - 1s 545ms/step - loss: 0.0046 - val_loss: 0.0052\n",
            "Epoch 656/700\n",
            "2/2 [==============================] - 1s 469ms/step - loss: 0.0047 - val_loss: 0.0051\n",
            "Epoch 657/700\n",
            "2/2 [==============================] - 1s 460ms/step - loss: 0.0047 - val_loss: 0.0051\n",
            "Epoch 658/700\n",
            "2/2 [==============================] - 1s 472ms/step - loss: 0.0047 - val_loss: 0.0052\n",
            "Epoch 659/700\n",
            "2/2 [==============================] - 1s 456ms/step - loss: 0.0047 - val_loss: 0.0051\n",
            "Epoch 660/700\n",
            "2/2 [==============================] - 1s 455ms/step - loss: 0.0048 - val_loss: 0.0052\n",
            "Epoch 661/700\n",
            "2/2 [==============================] - 1s 458ms/step - loss: 0.0045 - val_loss: 0.0051\n",
            "Epoch 662/700\n",
            "2/2 [==============================] - 1s 459ms/step - loss: 0.0047 - val_loss: 0.0051\n",
            "Epoch 663/700\n",
            "2/2 [==============================] - 1s 452ms/step - loss: 0.0047 - val_loss: 0.0052\n",
            "Epoch 664/700\n",
            "2/2 [==============================] - 1s 468ms/step - loss: 0.0049 - val_loss: 0.0052\n",
            "Epoch 665/700\n",
            "2/2 [==============================] - 1s 466ms/step - loss: 0.0048 - val_loss: 0.0051\n",
            "Epoch 666/700\n",
            "2/2 [==============================] - 1s 460ms/step - loss: 0.0047 - val_loss: 0.0051\n",
            "Epoch 667/700\n",
            "2/2 [==============================] - 1s 456ms/step - loss: 0.0047 - val_loss: 0.0052\n",
            "Epoch 668/700\n",
            "2/2 [==============================] - 1s 455ms/step - loss: 0.0048 - val_loss: 0.0051\n",
            "Epoch 669/700\n",
            "2/2 [==============================] - 1s 470ms/step - loss: 0.0048 - val_loss: 0.0052\n",
            "Epoch 670/700\n",
            "2/2 [==============================] - 1s 477ms/step - loss: 0.0047 - val_loss: 0.0052\n",
            "Epoch 671/700\n",
            "2/2 [==============================] - 1s 469ms/step - loss: 0.0046 - val_loss: 0.0051\n",
            "Epoch 672/700\n",
            "2/2 [==============================] - 1s 456ms/step - loss: 0.0048 - val_loss: 0.0051\n",
            "Epoch 673/700\n",
            "2/2 [==============================] - 1s 461ms/step - loss: 0.0048 - val_loss: 0.0051\n",
            "Epoch 674/700\n",
            "2/2 [==============================] - 1s 471ms/step - loss: 0.0046 - val_loss: 0.0052\n",
            "Epoch 675/700\n",
            "2/2 [==============================] - 1s 464ms/step - loss: 0.0045 - val_loss: 0.0051\n",
            "Epoch 676/700\n",
            "2/2 [==============================] - 1s 466ms/step - loss: 0.0046 - val_loss: 0.0051\n",
            "Epoch 677/700\n",
            "2/2 [==============================] - 1s 469ms/step - loss: 0.0048 - val_loss: 0.0051\n",
            "Epoch 678/700\n",
            "2/2 [==============================] - 1s 480ms/step - loss: 0.0046 - val_loss: 0.0050\n",
            "Epoch 679/700\n",
            "2/2 [==============================] - 1s 455ms/step - loss: 0.0047 - val_loss: 0.0051\n",
            "Epoch 680/700\n",
            "2/2 [==============================] - 1s 461ms/step - loss: 0.0045 - val_loss: 0.0051\n",
            "Epoch 681/700\n",
            "2/2 [==============================] - 1s 453ms/step - loss: 0.0048 - val_loss: 0.0051\n",
            "Epoch 682/700\n",
            "2/2 [==============================] - 1s 466ms/step - loss: 0.0047 - val_loss: 0.0050\n",
            "Epoch 683/700\n",
            "2/2 [==============================] - 1s 460ms/step - loss: 0.0046 - val_loss: 0.0051\n",
            "Epoch 684/700\n",
            "2/2 [==============================] - 1s 456ms/step - loss: 0.0046 - val_loss: 0.0051\n",
            "Epoch 685/700\n",
            "2/2 [==============================] - 1s 469ms/step - loss: 0.0047 - val_loss: 0.0051\n",
            "Epoch 686/700\n",
            "2/2 [==============================] - 1s 449ms/step - loss: 0.0048 - val_loss: 0.0052\n",
            "Epoch 687/700\n",
            "2/2 [==============================] - 1s 454ms/step - loss: 0.0046 - val_loss: 0.0051\n",
            "Epoch 688/700\n",
            "2/2 [==============================] - 1s 450ms/step - loss: 0.0047 - val_loss: 0.0051\n",
            "Epoch 689/700\n",
            "2/2 [==============================] - 1s 471ms/step - loss: 0.0048 - val_loss: 0.0051\n",
            "Epoch 690/700\n",
            "2/2 [==============================] - 1s 468ms/step - loss: 0.0046 - val_loss: 0.0051\n",
            "Epoch 691/700\n",
            "2/2 [==============================] - 1s 459ms/step - loss: 0.0048 - val_loss: 0.0051\n",
            "Epoch 692/700\n",
            "2/2 [==============================] - 1s 463ms/step - loss: 0.0048 - val_loss: 0.0050\n",
            "Epoch 693/700\n",
            "2/2 [==============================] - 1s 465ms/step - loss: 0.0048 - val_loss: 0.0052\n",
            "Epoch 694/700\n",
            "2/2 [==============================] - 1s 461ms/step - loss: 0.0046 - val_loss: 0.0052\n",
            "Epoch 695/700\n",
            "2/2 [==============================] - 1s 546ms/step - loss: 0.0048 - val_loss: 0.0051\n",
            "Epoch 696/700\n",
            "2/2 [==============================] - 1s 461ms/step - loss: 0.0046 - val_loss: 0.0050\n",
            "Epoch 697/700\n",
            "2/2 [==============================] - 1s 480ms/step - loss: 0.0048 - val_loss: 0.0051\n",
            "Epoch 698/700\n",
            "2/2 [==============================] - 1s 459ms/step - loss: 0.0047 - val_loss: 0.0051\n",
            "Epoch 699/700\n",
            "2/2 [==============================] - 1s 457ms/step - loss: 0.0047 - val_loss: 0.0052\n",
            "Epoch 700/700\n",
            "2/2 [==============================] - 1s 448ms/step - loss: 0.0047 - val_loss: 0.0051\n",
            "INFO:tensorflow:Assets written to: export/assets\n"
          ],
          "name": "stdout"
        }
      ]
    },
    {
      "cell_type": "markdown",
      "metadata": {
        "id": "XFUYtATUamEB"
      },
      "source": [
        "## Super resolve a test low resolution image using TensorFlow Lite."
      ]
    },
    {
      "cell_type": "code",
      "metadata": {
        "colab": {
          "base_uri": "https://localhost:8080/"
        },
        "id": "MYTx9188amEC",
        "outputId": "2257010e-381c-4054-f623-72c48f02650b"
      },
      "source": [
        "def load_test_image(img_path):\n",
        "    hr = cv2.imread(img_path)\n",
        "    hr = cv2.cvtColor(hr, cv2.COLOR_BGR2YCrCb)\n",
        "    hr = tf.image.crop_to_bounding_box(hr, 0, 0, HR_SIZE, HR_SIZE)\n",
        "    lr = tf.image.resize(hr, [HR_SIZE//SCALE, HR_SIZE//SCALE])\n",
        "    lr = tf.cast(lr, tf.uint8)\n",
        "    return lr, hr\n",
        "\n",
        "def super_resolve(original_img_path):\n",
        "    # lr - low resolution image\n",
        "    # hr - high resolution image (cropped from original)\n",
        "    # sr - super resolved image from lr\n",
        "    lr, hr = load_test_image(original_img_path)\n",
        "    lr_ycrcb = lr.numpy().copy()    \n",
        "    lr = cv2.cvtColor(lr.numpy(), cv2.COLOR_YCrCb2RGB)\n",
        "    hr = cv2.cvtColor(hr.numpy(), cv2.COLOR_YCrCb2RGB)   \n",
        "    lr_ycrcb = tf.cast(lr_ycrcb, tf.float32)\n",
        "    lr_y = lr_ycrcb[:, :, 0:1] / 255.\n",
        "    lr_cr = lr_ycrcb[:, :, 1:2]\n",
        "    lr_cb = lr_ycrcb[:, :, 2:3]\n",
        "    lr_y = tf.expand_dims(lr_y, axis=0)\n",
        "    \n",
        "    # Use TFLite to super resolve luminance\n",
        "    converter = tf.lite.TFLiteConverter.from_keras_model(model)\n",
        "    tflite_model = converter.convert()\n",
        "    interpreter = tf.lite.Interpreter(model_content=tflite_model)\n",
        "    interpreter.allocate_tensors()\n",
        "    input_details = interpreter.get_input_details()\n",
        "    output_details = interpreter.get_output_details()\n",
        "    interpreter.set_tensor(input_details[0]['index'], lr_y)\n",
        "    interpreter.invoke()\n",
        "    sr_y = interpreter.get_tensor(output_details[0]['index'])\n",
        "    open(\"ESPCN.tflite\", 'wb').write(tflite_model)\n",
        "    \n",
        "    # Transform super resolved image back into RGB color space\n",
        "    sr_y = sr_y * 255\n",
        "    sr_cr = tf.image.resize(lr_cr, [HR_SIZE, HR_SIZE], tf.image.ResizeMethod.BICUBIC)\n",
        "    sr_cb = tf.image.resize(lr_cb, [HR_SIZE, HR_SIZE], tf.image.ResizeMethod.BICUBIC)\n",
        "    sr = tf.concat([sr_y[0], sr_cr, sr_cb], axis=2)\n",
        "    sr = tf.clip_by_value(sr, 0, 255)\n",
        "    sr = tf.round(sr)\n",
        "    sr = tf.cast(sr, tf.uint8)\n",
        "    sr = cv2.cvtColor(sr.numpy(), cv2.COLOR_YCrCb2RGB)\n",
        "    return lr, sr, hr\n",
        "\n",
        "# test_img_path = \"dataset/BSDS300/images/test/170057.jpg\"\n",
        "test_img_path = \"dataset/BSDS300/images/test/302008.jpg\"\n",
        "lr, sr, hr = super_resolve(test_img_path)"
      ],
      "execution_count": 9,
      "outputs": [
        {
          "output_type": "stream",
          "text": [
            "INFO:tensorflow:Assets written to: /tmp/tmpnre0pgv_/assets\n"
          ],
          "name": "stdout"
        }
      ]
    },
    {
      "cell_type": "markdown",
      "metadata": {
        "id": "u-79UQNEamEC"
      },
      "source": [
        "## Visualize the result"
      ]
    },
    {
      "cell_type": "markdown",
      "metadata": {
        "id": "i3KzkzCmamEC"
      },
      "source": [
        "PSNR ([Peak Signal-to-Noise Ratio](https://en.wikipedia.org/wiki/Peak_signal-to-noise_ratio)) is a commonly used metric to measure the image recovery quality."
      ]
    },
    {
      "cell_type": "code",
      "metadata": {
        "colab": {
          "base_uri": "https://localhost:8080/",
          "height": 400
        },
        "id": "sj7_UwoeamED",
        "scrolled": true,
        "outputId": "fd7c5363-8f00-40a5-9bb2-91082d835c92"
      },
      "source": [
        "print(\"PSNR of super resolved image: %f\", tf.image.psnr(sr, hr, 255).numpy())  \n",
        "\n",
        "plt.figure(figsize = (1, 1))\n",
        "plt.title('LR')\n",
        "plt.imshow(lr);\n",
        "\n",
        "\n",
        "plt.figure(figsize=(10, 4))\n",
        "plt.subplot(1, 2, 1)        \n",
        "plt.title(f'SR (x{SCALE})')\n",
        "plt.imshow(sr);\n",
        "\n",
        "\n",
        "plt.subplot(1, 2, 2)   \n",
        "plt.title('ORIGINAL(CROPPED)')\n",
        "plt.imshow(hr);"
      ],
      "execution_count": 10,
      "outputs": [
        {
          "output_type": "stream",
          "text": [
            "PSNR of super resolved image: %f 29.106602\n"
          ],
          "name": "stdout"
        },
        {
          "output_type": "display_data",
          "data": {
            "image/png": "[encoded data removed]",
            "text/plain": [
              "<Figure size 72x72 with 1 Axes>"
            ]
          },
          "metadata": {
            "tags": [],
            "needs_background": "light"
          }
        },
        {
          "output_type": "display_data",
          "data": {
            "image/png": "[encoded data removed]",
            "text/plain": [
              "<Figure size 720x288 with 2 Axes>"
            ]
          },
          "metadata": {
            "tags": [],
            "needs_background": "light"
          }
        }
      ]
    },
    {
      "cell_type": "markdown",
      "metadata": {
        "id": "g3qbT-pJamED"
      },
      "source": [
        "## Check the PSNR for the entire test set"
      ]
    },
    {
      "cell_type": "code",
      "metadata": {
        "colab": {
          "base_uri": "https://localhost:8080/"
        },
        "id": "IZ01voAfamED",
        "outputId": "3162aef3-8bb2-42a8-be76-9a0b46ad2e6f"
      },
      "source": [
        "import os\n",
        "test_directory = 'dataset/BSDS300/images/test/'\n",
        "psnr_list = []\n",
        "for file in os.listdir(test_directory):\n",
        "    print(file)\n",
        "    lr, sr, hr = super_resolve(os.path.join(test_directory + file))\n",
        "    psnr = tf.image.psnr(sr, hr, 255).numpy()\n",
        "    print('PSNR:', psnr)\n",
        "    psnr_list.append(psnr)\n",
        "    \n",
        "print('Average PSNR for the test set: ', np.mean(psnr_list))"
      ],
      "execution_count": 11,
      "outputs": [
        {
          "output_type": "stream",
          "text": [
            "219090.jpg\n",
            "INFO:tensorflow:Assets written to: /tmp/tmprd10andc/assets\n"
          ],
          "name": "stdout"
        },
        {
          "output_type": "stream",
          "text": [
            "INFO:tensorflow:Assets written to: /tmp/tmprd10andc/assets\n"
          ],
          "name": "stderr"
        },
        {
          "output_type": "stream",
          "text": [
            "PSNR: 23.597357\n",
            "296059.jpg\n",
            "INFO:tensorflow:Assets written to: /tmp/tmpwrpgowli/assets\n"
          ],
          "name": "stdout"
        },
        {
          "output_type": "stream",
          "text": [
            "INFO:tensorflow:Assets written to: /tmp/tmpwrpgowli/assets\n"
          ],
          "name": "stderr"
        },
        {
          "output_type": "stream",
          "text": [
            "PSNR: 27.965336\n",
            "229036.jpg\n",
            "INFO:tensorflow:Assets written to: /tmp/tmpnkhm08h2/assets\n"
          ],
          "name": "stdout"
        },
        {
          "output_type": "stream",
          "text": [
            "INFO:tensorflow:Assets written to: /tmp/tmpnkhm08h2/assets\n"
          ],
          "name": "stderr"
        },
        {
          "output_type": "stream",
          "text": [
            "PSNR: 20.313387\n",
            "103070.jpg\n",
            "INFO:tensorflow:Assets written to: /tmp/tmp8kde6by2/assets\n"
          ],
          "name": "stdout"
        },
        {
          "output_type": "stream",
          "text": [
            "INFO:tensorflow:Assets written to: /tmp/tmp8kde6by2/assets\n"
          ],
          "name": "stderr"
        },
        {
          "output_type": "stream",
          "text": [
            "PSNR: 26.93821\n",
            "45096.jpg\n",
            "INFO:tensorflow:Assets written to: /tmp/tmpp7dghpzm/assets\n"
          ],
          "name": "stdout"
        },
        {
          "output_type": "stream",
          "text": [
            "INFO:tensorflow:Assets written to: /tmp/tmpp7dghpzm/assets\n"
          ],
          "name": "stderr"
        },
        {
          "output_type": "stream",
          "text": [
            "PSNR: 30.320574\n",
            "148026.jpg\n",
            "INFO:tensorflow:Assets written to: /tmp/tmpk9o9qrz_/assets\n"
          ],
          "name": "stdout"
        },
        {
          "output_type": "stream",
          "text": [
            "INFO:tensorflow:Assets written to: /tmp/tmpk9o9qrz_/assets\n"
          ],
          "name": "stderr"
        },
        {
          "output_type": "stream",
          "text": [
            "PSNR: 18.833908\n",
            "163085.jpg\n",
            "INFO:tensorflow:Assets written to: /tmp/tmpl36kisng/assets\n"
          ],
          "name": "stdout"
        },
        {
          "output_type": "stream",
          "text": [
            "INFO:tensorflow:Assets written to: /tmp/tmpl36kisng/assets\n"
          ],
          "name": "stderr"
        },
        {
          "output_type": "stream",
          "text": [
            "PSNR: 27.017345\n",
            "236037.jpg\n",
            "INFO:tensorflow:Assets written to: /tmp/tmppz3ypcpf/assets\n"
          ],
          "name": "stdout"
        },
        {
          "output_type": "stream",
          "text": [
            "INFO:tensorflow:Assets written to: /tmp/tmppz3ypcpf/assets\n"
          ],
          "name": "stderr"
        },
        {
          "output_type": "stream",
          "text": [
            "PSNR: 22.687662\n",
            "271035.jpg\n",
            "INFO:tensorflow:Assets written to: /tmp/tmpwn3z435d/assets\n"
          ],
          "name": "stdout"
        },
        {
          "output_type": "stream",
          "text": [
            "INFO:tensorflow:Assets written to: /tmp/tmpwn3z435d/assets\n"
          ],
          "name": "stderr"
        },
        {
          "output_type": "stream",
          "text": [
            "PSNR: 23.747517\n",
            "86016.jpg\n",
            "INFO:tensorflow:Assets written to: /tmp/tmpg48d1cpp/assets\n"
          ],
          "name": "stdout"
        },
        {
          "output_type": "stream",
          "text": [
            "INFO:tensorflow:Assets written to: /tmp/tmpg48d1cpp/assets\n"
          ],
          "name": "stderr"
        },
        {
          "output_type": "stream",
          "text": [
            "PSNR: 20.159733\n",
            "3096.jpg\n",
            "INFO:tensorflow:Assets written to: /tmp/tmpmdi_385t/assets\n"
          ],
          "name": "stdout"
        },
        {
          "output_type": "stream",
          "text": [
            "INFO:tensorflow:Assets written to: /tmp/tmpmdi_385t/assets\n"
          ],
          "name": "stderr"
        },
        {
          "output_type": "stream",
          "text": [
            "PSNR: 35.460262\n",
            "291000.jpg\n",
            "INFO:tensorflow:Assets written to: /tmp/tmpa8w4bnz1/assets\n"
          ],
          "name": "stdout"
        },
        {
          "output_type": "stream",
          "text": [
            "INFO:tensorflow:Assets written to: /tmp/tmpa8w4bnz1/assets\n"
          ],
          "name": "stderr"
        },
        {
          "output_type": "stream",
          "text": [
            "PSNR: 19.047691\n",
            "167083.jpg\n",
            "INFO:tensorflow:Assets written to: /tmp/tmpaew701d4/assets\n"
          ],
          "name": "stdout"
        },
        {
          "output_type": "stream",
          "text": [
            "INFO:tensorflow:Assets written to: /tmp/tmpaew701d4/assets\n"
          ],
          "name": "stderr"
        },
        {
          "output_type": "stream",
          "text": [
            "PSNR: 16.937542\n",
            "38092.jpg\n",
            "INFO:tensorflow:Assets written to: /tmp/tmpbpflzg4a/assets\n"
          ],
          "name": "stdout"
        },
        {
          "output_type": "stream",
          "text": [
            "INFO:tensorflow:Assets written to: /tmp/tmpbpflzg4a/assets\n"
          ],
          "name": "stderr"
        },
        {
          "output_type": "stream",
          "text": [
            "PSNR: 23.309351\n",
            "76053.jpg\n",
            "INFO:tensorflow:Assets written to: /tmp/tmpz7hz_2kg/assets\n"
          ],
          "name": "stdout"
        },
        {
          "output_type": "stream",
          "text": [
            "INFO:tensorflow:Assets written to: /tmp/tmpz7hz_2kg/assets\n"
          ],
          "name": "stderr"
        },
        {
          "output_type": "stream",
          "text": [
            "PSNR: 26.65475\n",
            "8023.jpg\n",
            "INFO:tensorflow:Assets written to: /tmp/tmpy5pc1cva/assets\n"
          ],
          "name": "stdout"
        },
        {
          "output_type": "stream",
          "text": [
            "INFO:tensorflow:Assets written to: /tmp/tmpy5pc1cva/assets\n"
          ],
          "name": "stderr"
        },
        {
          "output_type": "stream",
          "text": [
            "PSNR: 26.502653\n",
            "58060.jpg\n",
            "INFO:tensorflow:Assets written to: /tmp/tmpj_lyzwt3/assets\n"
          ],
          "name": "stdout"
        },
        {
          "output_type": "stream",
          "text": [
            "INFO:tensorflow:Assets written to: /tmp/tmpj_lyzwt3/assets\n"
          ],
          "name": "stderr"
        },
        {
          "output_type": "stream",
          "text": [
            "PSNR: 18.22748\n",
            "14037.jpg\n",
            "INFO:tensorflow:Assets written to: /tmp/tmpofud7v8s/assets\n"
          ],
          "name": "stdout"
        },
        {
          "output_type": "stream",
          "text": [
            "INFO:tensorflow:Assets written to: /tmp/tmpofud7v8s/assets\n"
          ],
          "name": "stderr"
        },
        {
          "output_type": "stream",
          "text": [
            "PSNR: 29.610147\n",
            "306005.jpg\n",
            "INFO:tensorflow:Assets written to: /tmp/tmpj28j7w_k/assets\n"
          ],
          "name": "stdout"
        },
        {
          "output_type": "stream",
          "text": [
            "INFO:tensorflow:Assets written to: /tmp/tmpj28j7w_k/assets\n"
          ],
          "name": "stderr"
        },
        {
          "output_type": "stream",
          "text": [
            "PSNR: 24.39427\n",
            "134035.jpg\n",
            "INFO:tensorflow:Assets written to: /tmp/tmp8y9hqcwv/assets\n"
          ],
          "name": "stdout"
        },
        {
          "output_type": "stream",
          "text": [
            "INFO:tensorflow:Assets written to: /tmp/tmp8y9hqcwv/assets\n"
          ],
          "name": "stderr"
        },
        {
          "output_type": "stream",
          "text": [
            "PSNR: 20.527275\n",
            "37073.jpg\n",
            "INFO:tensorflow:Assets written to: /tmp/tmpob82i4wy/assets\n"
          ],
          "name": "stdout"
        },
        {
          "output_type": "stream",
          "text": [
            "INFO:tensorflow:Assets written to: /tmp/tmpob82i4wy/assets\n"
          ],
          "name": "stderr"
        },
        {
          "output_type": "stream",
          "text": [
            "PSNR: 26.709574\n",
            "300091.jpg\n",
            "INFO:tensorflow:Assets written to: /tmp/tmpemdv_to8/assets\n"
          ],
          "name": "stdout"
        },
        {
          "output_type": "stream",
          "text": [
            "INFO:tensorflow:Assets written to: /tmp/tmpemdv_to8/assets\n"
          ],
          "name": "stderr"
        },
        {
          "output_type": "stream",
          "text": [
            "PSNR: 26.236128\n",
            "21077.jpg\n",
            "INFO:tensorflow:Assets written to: /tmp/tmpnkttgrby/assets\n"
          ],
          "name": "stdout"
        },
        {
          "output_type": "stream",
          "text": [
            "INFO:tensorflow:Assets written to: /tmp/tmpnkttgrby/assets\n"
          ],
          "name": "stderr"
        },
        {
          "output_type": "stream",
          "text": [
            "PSNR: 23.094309\n",
            "253055.jpg\n",
            "INFO:tensorflow:Assets written to: /tmp/tmps9mo2f0e/assets\n"
          ],
          "name": "stdout"
        },
        {
          "output_type": "stream",
          "text": [
            "INFO:tensorflow:Assets written to: /tmp/tmps9mo2f0e/assets\n"
          ],
          "name": "stderr"
        },
        {
          "output_type": "stream",
          "text": [
            "PSNR: 24.417019\n",
            "24077.jpg\n",
            "INFO:tensorflow:Assets written to: /tmp/tmpx_8nvkgi/assets\n"
          ],
          "name": "stdout"
        },
        {
          "output_type": "stream",
          "text": [
            "INFO:tensorflow:Assets written to: /tmp/tmpx_8nvkgi/assets\n"
          ],
          "name": "stderr"
        },
        {
          "output_type": "stream",
          "text": [
            "PSNR: 20.625463\n",
            "42012.jpg\n",
            "INFO:tensorflow:Assets written to: /tmp/tmpwo2meey4/assets\n"
          ],
          "name": "stdout"
        },
        {
          "output_type": "stream",
          "text": [
            "INFO:tensorflow:Assets written to: /tmp/tmpwo2meey4/assets\n"
          ],
          "name": "stderr"
        },
        {
          "output_type": "stream",
          "text": [
            "PSNR: 28.50316\n",
            "123074.jpg\n",
            "INFO:tensorflow:Assets written to: /tmp/tmp7_q5sbqm/assets\n"
          ],
          "name": "stdout"
        },
        {
          "output_type": "stream",
          "text": [
            "INFO:tensorflow:Assets written to: /tmp/tmp7_q5sbqm/assets\n"
          ],
          "name": "stderr"
        },
        {
          "output_type": "stream",
          "text": [
            "PSNR: 26.964972\n",
            "285079.jpg\n",
            "INFO:tensorflow:Assets written to: /tmp/tmp5f64hny4/assets\n"
          ],
          "name": "stdout"
        },
        {
          "output_type": "stream",
          "text": [
            "INFO:tensorflow:Assets written to: /tmp/tmp5f64hny4/assets\n"
          ],
          "name": "stderr"
        },
        {
          "output_type": "stream",
          "text": [
            "PSNR: 22.20365\n",
            "189080.jpg\n",
            "INFO:tensorflow:Assets written to: /tmp/tmptjovabi_/assets\n"
          ],
          "name": "stdout"
        },
        {
          "output_type": "stream",
          "text": [
            "INFO:tensorflow:Assets written to: /tmp/tmptjovabi_/assets\n"
          ],
          "name": "stderr"
        },
        {
          "output_type": "stream",
          "text": [
            "PSNR: 27.297129\n",
            "85048.jpg\n",
            "INFO:tensorflow:Assets written to: /tmp/tmpp1lng17h/assets\n"
          ],
          "name": "stdout"
        },
        {
          "output_type": "stream",
          "text": [
            "INFO:tensorflow:Assets written to: /tmp/tmpp1lng17h/assets\n"
          ],
          "name": "stderr"
        },
        {
          "output_type": "stream",
          "text": [
            "PSNR: 22.600937\n",
            "156065.jpg\n",
            "INFO:tensorflow:Assets written to: /tmp/tmpt9b1txy9/assets\n"
          ],
          "name": "stdout"
        },
        {
          "output_type": "stream",
          "text": [
            "INFO:tensorflow:Assets written to: /tmp/tmpt9b1txy9/assets\n"
          ],
          "name": "stderr"
        },
        {
          "output_type": "stream",
          "text": [
            "PSNR: 23.604158\n",
            "216081.jpg\n",
            "INFO:tensorflow:Assets written to: /tmp/tmpvuiwyacj/assets\n"
          ],
          "name": "stdout"
        },
        {
          "output_type": "stream",
          "text": [
            "INFO:tensorflow:Assets written to: /tmp/tmpvuiwyacj/assets\n"
          ],
          "name": "stderr"
        },
        {
          "output_type": "stream",
          "text": [
            "PSNR: 22.747091\n",
            "101085.jpg\n",
            "INFO:tensorflow:Assets written to: /tmp/tmp99pq2q4b/assets\n"
          ],
          "name": "stdout"
        },
        {
          "output_type": "stream",
          "text": [
            "INFO:tensorflow:Assets written to: /tmp/tmp99pq2q4b/assets\n"
          ],
          "name": "stderr"
        },
        {
          "output_type": "stream",
          "text": [
            "PSNR: 22.250578\n",
            "19021.jpg\n",
            "INFO:tensorflow:Assets written to: /tmp/tmp7u3x72c9/assets\n"
          ],
          "name": "stdout"
        },
        {
          "output_type": "stream",
          "text": [
            "INFO:tensorflow:Assets written to: /tmp/tmp7u3x72c9/assets\n"
          ],
          "name": "stderr"
        },
        {
          "output_type": "stream",
          "text": [
            "PSNR: 24.322834\n",
            "304074.jpg\n",
            "INFO:tensorflow:Assets written to: /tmp/tmpyhc__74u/assets\n"
          ],
          "name": "stdout"
        },
        {
          "output_type": "stream",
          "text": [
            "INFO:tensorflow:Assets written to: /tmp/tmpyhc__74u/assets\n"
          ],
          "name": "stderr"
        },
        {
          "output_type": "stream",
          "text": [
            "PSNR: 23.405167\n",
            "385039.jpg\n",
            "INFO:tensorflow:Assets written to: /tmp/tmprqaj_sxs/assets\n"
          ],
          "name": "stdout"
        },
        {
          "output_type": "stream",
          "text": [
            "INFO:tensorflow:Assets written to: /tmp/tmprqaj_sxs/assets\n"
          ],
          "name": "stderr"
        },
        {
          "output_type": "stream",
          "text": [
            "PSNR: 20.395826\n",
            "223061.jpg\n",
            "INFO:tensorflow:Assets written to: /tmp/tmp_morcpyx/assets\n"
          ],
          "name": "stdout"
        },
        {
          "output_type": "stream",
          "text": [
            "INFO:tensorflow:Assets written to: /tmp/tmp_morcpyx/assets\n"
          ],
          "name": "stderr"
        },
        {
          "output_type": "stream",
          "text": [
            "PSNR: 22.007\n",
            "97033.jpg\n",
            "INFO:tensorflow:Assets written to: /tmp/tmp_6jsbwhr/assets\n"
          ],
          "name": "stdout"
        },
        {
          "output_type": "stream",
          "text": [
            "INFO:tensorflow:Assets written to: /tmp/tmp_6jsbwhr/assets\n"
          ],
          "name": "stderr"
        },
        {
          "output_type": "stream",
          "text": [
            "PSNR: 21.543884\n",
            "351093.jpg\n",
            "INFO:tensorflow:Assets written to: /tmp/tmp1da_076q/assets\n"
          ],
          "name": "stdout"
        },
        {
          "output_type": "stream",
          "text": [
            "INFO:tensorflow:Assets written to: /tmp/tmp1da_076q/assets\n"
          ],
          "name": "stderr"
        },
        {
          "output_type": "stream",
          "text": [
            "PSNR: 19.331554\n",
            "160068.jpg\n",
            "INFO:tensorflow:Assets written to: /tmp/tmpmnpojfas/assets\n"
          ],
          "name": "stdout"
        },
        {
          "output_type": "stream",
          "text": [
            "INFO:tensorflow:Assets written to: /tmp/tmpmnpojfas/assets\n"
          ],
          "name": "stderr"
        },
        {
          "output_type": "stream",
          "text": [
            "PSNR: 23.521385\n",
            "108082.jpg\n",
            "INFO:tensorflow:Assets written to: /tmp/tmpy3ri8kx3/assets\n"
          ],
          "name": "stdout"
        },
        {
          "output_type": "stream",
          "text": [
            "INFO:tensorflow:Assets written to: /tmp/tmpy3ri8kx3/assets\n"
          ],
          "name": "stderr"
        },
        {
          "output_type": "stream",
          "text": [
            "PSNR: 23.87242\n",
            "12084.jpg\n",
            "INFO:tensorflow:Assets written to: /tmp/tmp8v0byyi0/assets\n"
          ],
          "name": "stdout"
        },
        {
          "output_type": "stream",
          "text": [
            "INFO:tensorflow:Assets written to: /tmp/tmp8v0byyi0/assets\n"
          ],
          "name": "stderr"
        },
        {
          "output_type": "stream",
          "text": [
            "PSNR: 25.854923\n",
            "302008.jpg\n",
            "INFO:tensorflow:Assets written to: /tmp/tmpsp03dpzs/assets\n"
          ],
          "name": "stdout"
        },
        {
          "output_type": "stream",
          "text": [
            "INFO:tensorflow:Assets written to: /tmp/tmpsp03dpzs/assets\n"
          ],
          "name": "stderr"
        },
        {
          "output_type": "stream",
          "text": [
            "PSNR: 29.106602\n",
            "69020.jpg\n",
            "INFO:tensorflow:Assets written to: /tmp/tmp8itibhu0/assets\n"
          ],
          "name": "stdout"
        },
        {
          "output_type": "stream",
          "text": [
            "INFO:tensorflow:Assets written to: /tmp/tmp8itibhu0/assets\n"
          ],
          "name": "stderr"
        },
        {
          "output_type": "stream",
          "text": [
            "PSNR: 24.804815\n",
            "106024.jpg\n",
            "INFO:tensorflow:Assets written to: /tmp/tmp9glied_l/assets\n"
          ],
          "name": "stdout"
        },
        {
          "output_type": "stream",
          "text": [
            "INFO:tensorflow:Assets written to: /tmp/tmp9glied_l/assets\n"
          ],
          "name": "stderr"
        },
        {
          "output_type": "stream",
          "text": [
            "PSNR: 25.956062\n",
            "41033.jpg\n",
            "INFO:tensorflow:Assets written to: /tmp/tmps94674na/assets\n"
          ],
          "name": "stdout"
        },
        {
          "output_type": "stream",
          "text": [
            "INFO:tensorflow:Assets written to: /tmp/tmps94674na/assets\n"
          ],
          "name": "stderr"
        },
        {
          "output_type": "stream",
          "text": [
            "PSNR: 28.971628\n",
            "108070.jpg\n",
            "INFO:tensorflow:Assets written to: /tmp/tmpuazrk1hf/assets\n"
          ],
          "name": "stdout"
        },
        {
          "output_type": "stream",
          "text": [
            "INFO:tensorflow:Assets written to: /tmp/tmpuazrk1hf/assets\n"
          ],
          "name": "stderr"
        },
        {
          "output_type": "stream",
          "text": [
            "PSNR: 21.953653\n",
            "147091.jpg\n",
            "INFO:tensorflow:Assets written to: /tmp/tmp08tuonol/assets\n"
          ],
          "name": "stdout"
        },
        {
          "output_type": "stream",
          "text": [
            "INFO:tensorflow:Assets written to: /tmp/tmp08tuonol/assets\n"
          ],
          "name": "stderr"
        },
        {
          "output_type": "stream",
          "text": [
            "PSNR: 22.884924\n",
            "102061.jpg\n",
            "INFO:tensorflow:Assets written to: /tmp/tmpbe7qh0ep/assets\n"
          ],
          "name": "stdout"
        },
        {
          "output_type": "stream",
          "text": [
            "INFO:tensorflow:Assets written to: /tmp/tmpbe7qh0ep/assets\n"
          ],
          "name": "stderr"
        },
        {
          "output_type": "stream",
          "text": [
            "PSNR: 21.365211\n",
            "253027.jpg\n",
            "INFO:tensorflow:Assets written to: /tmp/tmpj6tvdeu4/assets\n"
          ],
          "name": "stdout"
        },
        {
          "output_type": "stream",
          "text": [
            "INFO:tensorflow:Assets written to: /tmp/tmpj6tvdeu4/assets\n"
          ],
          "name": "stderr"
        },
        {
          "output_type": "stream",
          "text": [
            "PSNR: 19.121012\n",
            "196073.jpg\n",
            "INFO:tensorflow:Assets written to: /tmp/tmpp7rehr6q/assets\n"
          ],
          "name": "stdout"
        },
        {
          "output_type": "stream",
          "text": [
            "INFO:tensorflow:Assets written to: /tmp/tmpp7rehr6q/assets\n"
          ],
          "name": "stderr"
        },
        {
          "output_type": "stream",
          "text": [
            "PSNR: 25.193602\n",
            "62096.jpg\n",
            "INFO:tensorflow:Assets written to: /tmp/tmp69vs7mk9/assets\n"
          ],
          "name": "stdout"
        },
        {
          "output_type": "stream",
          "text": [
            "INFO:tensorflow:Assets written to: /tmp/tmp69vs7mk9/assets\n"
          ],
          "name": "stderr"
        },
        {
          "output_type": "stream",
          "text": [
            "PSNR: 21.116825\n",
            "87046.jpg\n",
            "INFO:tensorflow:Assets written to: /tmp/tmpqyf7cwsd/assets\n"
          ],
          "name": "stdout"
        },
        {
          "output_type": "stream",
          "text": [
            "INFO:tensorflow:Assets written to: /tmp/tmpqyf7cwsd/assets\n"
          ],
          "name": "stderr"
        },
        {
          "output_type": "stream",
          "text": [
            "PSNR: 23.437716\n",
            "175032.jpg\n",
            "INFO:tensorflow:Assets written to: /tmp/tmp6f8fvbyc/assets\n"
          ],
          "name": "stdout"
        },
        {
          "output_type": "stream",
          "text": [
            "INFO:tensorflow:Assets written to: /tmp/tmp6f8fvbyc/assets\n"
          ],
          "name": "stderr"
        },
        {
          "output_type": "stream",
          "text": [
            "PSNR: 18.504068\n",
            "197017.jpg\n",
            "INFO:tensorflow:Assets written to: /tmp/tmpjxxeovkg/assets\n"
          ],
          "name": "stdout"
        },
        {
          "output_type": "stream",
          "text": [
            "INFO:tensorflow:Assets written to: /tmp/tmpjxxeovkg/assets\n"
          ],
          "name": "stderr"
        },
        {
          "output_type": "stream",
          "text": [
            "PSNR: 25.17656\n",
            "304034.jpg\n",
            "INFO:tensorflow:Assets written to: /tmp/tmpjqnqgddk/assets\n"
          ],
          "name": "stdout"
        },
        {
          "output_type": "stream",
          "text": [
            "INFO:tensorflow:Assets written to: /tmp/tmpjqnqgddk/assets\n"
          ],
          "name": "stderr"
        },
        {
          "output_type": "stream",
          "text": [
            "PSNR: 22.959318\n",
            "65033.jpg\n",
            "INFO:tensorflow:Assets written to: /tmp/tmp23zpsegt/assets\n"
          ],
          "name": "stdout"
        },
        {
          "output_type": "stream",
          "text": [
            "INFO:tensorflow:Assets written to: /tmp/tmp23zpsegt/assets\n"
          ],
          "name": "stderr"
        },
        {
          "output_type": "stream",
          "text": [
            "PSNR: 22.253057\n",
            "130026.jpg\n",
            "INFO:tensorflow:Assets written to: /tmp/tmplg70jnn7/assets\n"
          ],
          "name": "stdout"
        },
        {
          "output_type": "stream",
          "text": [
            "INFO:tensorflow:Assets written to: /tmp/tmplg70jnn7/assets\n"
          ],
          "name": "stderr"
        },
        {
          "output_type": "stream",
          "text": [
            "PSNR: 22.44567\n",
            "108005.jpg\n",
            "INFO:tensorflow:Assets written to: /tmp/tmpzfn5su57/assets\n"
          ],
          "name": "stdout"
        },
        {
          "output_type": "stream",
          "text": [
            "INFO:tensorflow:Assets written to: /tmp/tmpzfn5su57/assets\n"
          ],
          "name": "stderr"
        },
        {
          "output_type": "stream",
          "text": [
            "PSNR: 23.397337\n",
            "69015.jpg\n",
            "INFO:tensorflow:Assets written to: /tmp/tmpg1sg0wl_/assets\n"
          ],
          "name": "stdout"
        },
        {
          "output_type": "stream",
          "text": [
            "INFO:tensorflow:Assets written to: /tmp/tmpg1sg0wl_/assets\n"
          ],
          "name": "stderr"
        },
        {
          "output_type": "stream",
          "text": [
            "PSNR: 26.672688\n",
            "54082.jpg\n",
            "INFO:tensorflow:Assets written to: /tmp/tmpszev6ks6/assets\n"
          ],
          "name": "stdout"
        },
        {
          "output_type": "stream",
          "text": [
            "INFO:tensorflow:Assets written to: /tmp/tmpszev6ks6/assets\n"
          ],
          "name": "stderr"
        },
        {
          "output_type": "stream",
          "text": [
            "PSNR: 25.74155\n",
            "170057.jpg\n",
            "INFO:tensorflow:Assets written to: /tmp/tmpplhx2ym4/assets\n"
          ],
          "name": "stdout"
        },
        {
          "output_type": "stream",
          "text": [
            "INFO:tensorflow:Assets written to: /tmp/tmpplhx2ym4/assets\n"
          ],
          "name": "stderr"
        },
        {
          "output_type": "stream",
          "text": [
            "PSNR: 27.795631\n",
            "86000.jpg\n",
            "INFO:tensorflow:Assets written to: /tmp/tmpz3vh_5f_/assets\n"
          ],
          "name": "stdout"
        },
        {
          "output_type": "stream",
          "text": [
            "INFO:tensorflow:Assets written to: /tmp/tmpz3vh_5f_/assets\n"
          ],
          "name": "stderr"
        },
        {
          "output_type": "stream",
          "text": [
            "PSNR: 22.049192\n",
            "296007.jpg\n",
            "INFO:tensorflow:Assets written to: /tmp/tmpf7phbqh4/assets\n"
          ],
          "name": "stdout"
        },
        {
          "output_type": "stream",
          "text": [
            "INFO:tensorflow:Assets written to: /tmp/tmpf7phbqh4/assets\n"
          ],
          "name": "stderr"
        },
        {
          "output_type": "stream",
          "text": [
            "PSNR: 29.48899\n",
            "241004.jpg\n",
            "INFO:tensorflow:Assets written to: /tmp/tmp647urkpv/assets\n"
          ],
          "name": "stdout"
        },
        {
          "output_type": "stream",
          "text": [
            "INFO:tensorflow:Assets written to: /tmp/tmp647urkpv/assets\n"
          ],
          "name": "stderr"
        },
        {
          "output_type": "stream",
          "text": [
            "PSNR: 26.109335\n",
            "38082.jpg\n",
            "INFO:tensorflow:Assets written to: /tmp/tmprhcs1h4p/assets\n"
          ],
          "name": "stdout"
        },
        {
          "output_type": "stream",
          "text": [
            "INFO:tensorflow:Assets written to: /tmp/tmprhcs1h4p/assets\n"
          ],
          "name": "stderr"
        },
        {
          "output_type": "stream",
          "text": [
            "PSNR: 24.673227\n",
            "78004.jpg\n",
            "INFO:tensorflow:Assets written to: /tmp/tmpy2t4lter/assets\n"
          ],
          "name": "stdout"
        },
        {
          "output_type": "stream",
          "text": [
            "INFO:tensorflow:Assets written to: /tmp/tmpy2t4lter/assets\n"
          ],
          "name": "stderr"
        },
        {
          "output_type": "stream",
          "text": [
            "PSNR: 22.278717\n",
            "89072.jpg\n",
            "INFO:tensorflow:Assets written to: /tmp/tmp2886ydv9/assets\n"
          ],
          "name": "stdout"
        },
        {
          "output_type": "stream",
          "text": [
            "INFO:tensorflow:Assets written to: /tmp/tmp2886ydv9/assets\n"
          ],
          "name": "stderr"
        },
        {
          "output_type": "stream",
          "text": [
            "PSNR: 23.763954\n",
            "33039.jpg\n",
            "INFO:tensorflow:Assets written to: /tmp/tmp8qcwrjlu/assets\n"
          ],
          "name": "stdout"
        },
        {
          "output_type": "stream",
          "text": [
            "INFO:tensorflow:Assets written to: /tmp/tmp8qcwrjlu/assets\n"
          ],
          "name": "stderr"
        },
        {
          "output_type": "stream",
          "text": [
            "PSNR: 18.10097\n",
            "220075.jpg\n",
            "INFO:tensorflow:Assets written to: /tmp/tmpv5tt46w5/assets\n"
          ],
          "name": "stdout"
        },
        {
          "output_type": "stream",
          "text": [
            "INFO:tensorflow:Assets written to: /tmp/tmpv5tt46w5/assets\n"
          ],
          "name": "stderr"
        },
        {
          "output_type": "stream",
          "text": [
            "PSNR: 25.35663\n",
            "145086.jpg\n",
            "INFO:tensorflow:Assets written to: /tmp/tmpwg2wu3b1/assets\n"
          ],
          "name": "stdout"
        },
        {
          "output_type": "stream",
          "text": [
            "INFO:tensorflow:Assets written to: /tmp/tmpwg2wu3b1/assets\n"
          ],
          "name": "stderr"
        },
        {
          "output_type": "stream",
          "text": [
            "PSNR: 22.01625\n",
            "210088.jpg\n",
            "INFO:tensorflow:Assets written to: /tmp/tmpcd71f32_/assets\n"
          ],
          "name": "stdout"
        },
        {
          "output_type": "stream",
          "text": [
            "INFO:tensorflow:Assets written to: /tmp/tmpcd71f32_/assets\n"
          ],
          "name": "stderr"
        },
        {
          "output_type": "stream",
          "text": [
            "PSNR: 27.90318\n",
            "182053.jpg\n",
            "INFO:tensorflow:Assets written to: /tmp/tmp8_pj7plw/assets\n"
          ],
          "name": "stdout"
        },
        {
          "output_type": "stream",
          "text": [
            "INFO:tensorflow:Assets written to: /tmp/tmp8_pj7plw/assets\n"
          ],
          "name": "stderr"
        },
        {
          "output_type": "stream",
          "text": [
            "PSNR: 21.269136\n",
            "159008.jpg\n",
            "INFO:tensorflow:Assets written to: /tmp/tmp3431v9kv/assets\n"
          ],
          "name": "stdout"
        },
        {
          "output_type": "stream",
          "text": [
            "INFO:tensorflow:Assets written to: /tmp/tmp3431v9kv/assets\n"
          ],
          "name": "stderr"
        },
        {
          "output_type": "stream",
          "text": [
            "PSNR: 25.441994\n",
            "109053.jpg\n",
            "INFO:tensorflow:Assets written to: /tmp/tmpbbxltxk9/assets\n"
          ],
          "name": "stdout"
        },
        {
          "output_type": "stream",
          "text": [
            "INFO:tensorflow:Assets written to: /tmp/tmpbbxltxk9/assets\n"
          ],
          "name": "stderr"
        },
        {
          "output_type": "stream",
          "text": [
            "PSNR: 28.270958\n",
            "157055.jpg\n",
            "INFO:tensorflow:Assets written to: /tmp/tmpkvl6vp1x/assets\n"
          ],
          "name": "stdout"
        },
        {
          "output_type": "stream",
          "text": [
            "INFO:tensorflow:Assets written to: /tmp/tmpkvl6vp1x/assets\n"
          ],
          "name": "stderr"
        },
        {
          "output_type": "stream",
          "text": [
            "PSNR: 23.066227\n",
            "148089.jpg\n",
            "INFO:tensorflow:Assets written to: /tmp/tmphucz39x5/assets\n"
          ],
          "name": "stdout"
        },
        {
          "output_type": "stream",
          "text": [
            "INFO:tensorflow:Assets written to: /tmp/tmphucz39x5/assets\n"
          ],
          "name": "stderr"
        },
        {
          "output_type": "stream",
          "text": [
            "PSNR: 20.60562\n",
            "143090.jpg\n",
            "INFO:tensorflow:Assets written to: /tmp/tmparp0r3h2/assets\n"
          ],
          "name": "stdout"
        },
        {
          "output_type": "stream",
          "text": [
            "INFO:tensorflow:Assets written to: /tmp/tmparp0r3h2/assets\n"
          ],
          "name": "stderr"
        },
        {
          "output_type": "stream",
          "text": [
            "PSNR: 29.506903\n",
            "208001.jpg\n",
            "INFO:tensorflow:Assets written to: /tmp/tmpvjnqecal/assets\n"
          ],
          "name": "stdout"
        },
        {
          "output_type": "stream",
          "text": [
            "INFO:tensorflow:Assets written to: /tmp/tmpvjnqecal/assets\n"
          ],
          "name": "stderr"
        },
        {
          "output_type": "stream",
          "text": [
            "PSNR: 26.009626\n",
            "41069.jpg\n",
            "INFO:tensorflow:Assets written to: /tmp/tmpd47so5__/assets\n"
          ],
          "name": "stdout"
        },
        {
          "output_type": "stream",
          "text": [
            "INFO:tensorflow:Assets written to: /tmp/tmpd47so5__/assets\n"
          ],
          "name": "stderr"
        },
        {
          "output_type": "stream",
          "text": [
            "PSNR: 22.183414\n",
            "227092.jpg\n",
            "INFO:tensorflow:Assets written to: /tmp/tmpiiiscza4/assets\n"
          ],
          "name": "stdout"
        },
        {
          "output_type": "stream",
          "text": [
            "INFO:tensorflow:Assets written to: /tmp/tmpiiiscza4/assets\n"
          ],
          "name": "stderr"
        },
        {
          "output_type": "stream",
          "text": [
            "PSNR: 29.837692\n",
            "241048.jpg\n",
            "INFO:tensorflow:Assets written to: /tmp/tmpqdj_rq7n/assets\n"
          ],
          "name": "stdout"
        },
        {
          "output_type": "stream",
          "text": [
            "INFO:tensorflow:Assets written to: /tmp/tmpqdj_rq7n/assets\n"
          ],
          "name": "stderr"
        },
        {
          "output_type": "stream",
          "text": [
            "PSNR: 21.664463\n",
            "299086.jpg\n",
            "INFO:tensorflow:Assets written to: /tmp/tmpaosirnct/assets\n"
          ],
          "name": "stdout"
        },
        {
          "output_type": "stream",
          "text": [
            "INFO:tensorflow:Assets written to: /tmp/tmpaosirnct/assets\n"
          ],
          "name": "stderr"
        },
        {
          "output_type": "stream",
          "text": [
            "PSNR: 31.399443\n",
            "55073.jpg\n",
            "INFO:tensorflow:Assets written to: /tmp/tmpb5ocwefn/assets\n"
          ],
          "name": "stdout"
        },
        {
          "output_type": "stream",
          "text": [
            "INFO:tensorflow:Assets written to: /tmp/tmpb5ocwefn/assets\n"
          ],
          "name": "stderr"
        },
        {
          "output_type": "stream",
          "text": [
            "PSNR: 18.957249\n",
            "126007.jpg\n",
            "INFO:tensorflow:Assets written to: /tmp/tmphc29mztp/assets\n"
          ],
          "name": "stdout"
        },
        {
          "output_type": "stream",
          "text": [
            "INFO:tensorflow:Assets written to: /tmp/tmphc29mztp/assets\n"
          ],
          "name": "stderr"
        },
        {
          "output_type": "stream",
          "text": [
            "PSNR: 26.942387\n",
            "43074.jpg\n",
            "INFO:tensorflow:Assets written to: /tmp/tmpfckqmhcv/assets\n"
          ],
          "name": "stdout"
        },
        {
          "output_type": "stream",
          "text": [
            "INFO:tensorflow:Assets written to: /tmp/tmpfckqmhcv/assets\n"
          ],
          "name": "stderr"
        },
        {
          "output_type": "stream",
          "text": [
            "PSNR: 26.930397\n",
            "175043.jpg\n",
            "INFO:tensorflow:Assets written to: /tmp/tmpzdg9dkh4/assets\n"
          ],
          "name": "stdout"
        },
        {
          "output_type": "stream",
          "text": [
            "INFO:tensorflow:Assets written to: /tmp/tmpzdg9dkh4/assets\n"
          ],
          "name": "stderr"
        },
        {
          "output_type": "stream",
          "text": [
            "PSNR: 23.041485\n",
            "376043.jpg\n",
            "INFO:tensorflow:Assets written to: /tmp/tmpues9n56i/assets\n"
          ],
          "name": "stdout"
        },
        {
          "output_type": "stream",
          "text": [
            "INFO:tensorflow:Assets written to: /tmp/tmpues9n56i/assets\n"
          ],
          "name": "stderr"
        },
        {
          "output_type": "stream",
          "text": [
            "PSNR: 22.290241\n",
            "295087.jpg\n",
            "INFO:tensorflow:Assets written to: /tmp/tmposedakax/assets\n"
          ],
          "name": "stdout"
        },
        {
          "output_type": "stream",
          "text": [
            "INFO:tensorflow:Assets written to: /tmp/tmposedakax/assets\n"
          ],
          "name": "stderr"
        },
        {
          "output_type": "stream",
          "text": [
            "PSNR: 25.029657\n",
            "66053.jpg\n",
            "INFO:tensorflow:Assets written to: /tmp/tmp4t90q16f/assets\n"
          ],
          "name": "stdout"
        },
        {
          "output_type": "stream",
          "text": [
            "INFO:tensorflow:Assets written to: /tmp/tmp4t90q16f/assets\n"
          ],
          "name": "stderr"
        },
        {
          "output_type": "stream",
          "text": [
            "PSNR: 25.173843\n",
            "101087.jpg\n",
            "INFO:tensorflow:Assets written to: /tmp/tmp0qhx85z9/assets\n"
          ],
          "name": "stdout"
        },
        {
          "output_type": "stream",
          "text": [
            "INFO:tensorflow:Assets written to: /tmp/tmp0qhx85z9/assets\n"
          ],
          "name": "stderr"
        },
        {
          "output_type": "stream",
          "text": [
            "PSNR: 21.372946\n",
            "42049.jpg\n",
            "INFO:tensorflow:Assets written to: /tmp/tmpm28ccqga/assets\n"
          ],
          "name": "stdout"
        },
        {
          "output_type": "stream",
          "text": [
            "INFO:tensorflow:Assets written to: /tmp/tmpm28ccqga/assets\n"
          ],
          "name": "stderr"
        },
        {
          "output_type": "stream",
          "text": [
            "PSNR: 25.556227\n",
            "105025.jpg\n",
            "INFO:tensorflow:Assets written to: /tmp/tmpa_8bx844/assets\n"
          ],
          "name": "stdout"
        },
        {
          "output_type": "stream",
          "text": [
            "INFO:tensorflow:Assets written to: /tmp/tmpa_8bx844/assets\n"
          ],
          "name": "stderr"
        },
        {
          "output_type": "stream",
          "text": [
            "PSNR: 22.57708\n",
            "260058.jpg\n",
            "INFO:tensorflow:Assets written to: /tmp/tmpemorf14f/assets\n"
          ],
          "name": "stdout"
        },
        {
          "output_type": "stream",
          "text": [
            "INFO:tensorflow:Assets written to: /tmp/tmpemorf14f/assets\n"
          ],
          "name": "stderr"
        },
        {
          "output_type": "stream",
          "text": [
            "PSNR: 30.044872\n",
            "69040.jpg\n",
            "INFO:tensorflow:Assets written to: /tmp/tmp7wi_gn19/assets\n"
          ],
          "name": "stdout"
        },
        {
          "output_type": "stream",
          "text": [
            "INFO:tensorflow:Assets written to: /tmp/tmp7wi_gn19/assets\n"
          ],
          "name": "stderr"
        },
        {
          "output_type": "stream",
          "text": [
            "PSNR: 22.867676\n",
            "86068.jpg\n",
            "INFO:tensorflow:Assets written to: /tmp/tmp3bchq14b/assets\n"
          ],
          "name": "stdout"
        },
        {
          "output_type": "stream",
          "text": [
            "INFO:tensorflow:Assets written to: /tmp/tmp3bchq14b/assets\n"
          ],
          "name": "stderr"
        },
        {
          "output_type": "stream",
          "text": [
            "PSNR: 24.147388\n",
            "119082.jpg\n",
            "INFO:tensorflow:Assets written to: /tmp/tmpwupqsd_0/assets\n"
          ],
          "name": "stdout"
        },
        {
          "output_type": "stream",
          "text": [
            "INFO:tensorflow:Assets written to: /tmp/tmpwupqsd_0/assets\n"
          ],
          "name": "stderr"
        },
        {
          "output_type": "stream",
          "text": [
            "PSNR: 20.520018\n",
            "167062.jpg\n",
            "INFO:tensorflow:Assets written to: /tmp/tmp1njdo26t/assets\n"
          ],
          "name": "stdout"
        },
        {
          "output_type": "stream",
          "text": [
            "INFO:tensorflow:Assets written to: /tmp/tmp1njdo26t/assets\n"
          ],
          "name": "stderr"
        },
        {
          "output_type": "stream",
          "text": [
            "PSNR: 23.239202\n",
            "16077.jpg\n",
            "INFO:tensorflow:Assets written to: /tmp/tmp3gai44xy/assets\n"
          ],
          "name": "stdout"
        },
        {
          "output_type": "stream",
          "text": [
            "INFO:tensorflow:Assets written to: /tmp/tmp3gai44xy/assets\n"
          ],
          "name": "stderr"
        },
        {
          "output_type": "stream",
          "text": [
            "PSNR: 24.047924\n",
            "361010.jpg\n",
            "INFO:tensorflow:Assets written to: /tmp/tmp1i55o02l/assets\n"
          ],
          "name": "stdout"
        },
        {
          "output_type": "stream",
          "text": [
            "INFO:tensorflow:Assets written to: /tmp/tmp1i55o02l/assets\n"
          ],
          "name": "stderr"
        },
        {
          "output_type": "stream",
          "text": [
            "PSNR: 25.160685\n",
            "Average PSNR for the test set:  24.115147\n"
          ],
          "name": "stdout"
        }
      ]
    },
    {
      "cell_type": "code",
      "metadata": {
        "id": "nTjyHkY3a6-K"
      },
      "source": [
        ""
      ],
      "execution_count": 11,
      "outputs": []
    }
  ]
}