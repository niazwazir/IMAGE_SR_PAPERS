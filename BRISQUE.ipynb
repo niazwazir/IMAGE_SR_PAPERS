{
  "nbformat": 4,
  "nbformat_minor": 0,
  "metadata": {
    "colab": {
      "name": "Untitled8.ipynb",
      "provenance": []
    },
    "kernelspec": {
      "name": "python3",
      "display_name": "Python 3"
    },
    "accelerator": "GPU"
  },
  "cells": [
    {
      "cell_type": "code",
      "metadata": {
        "colab": {
          "base_uri": "https://localhost:8080/"
        },
        "id": "MQ8eyAbAmtYP",
        "outputId": "bd4ddae9-ca13-4ba8-9ae2-94370bf6e1ad"
      },
      "source": [
        "!git clone https://github.com/niazwazir/BRISQUE_QUALITY_MATRIX.git"
      ],
      "execution_count": 1,
      "outputs": [
        {
          "output_type": "stream",
          "text": [
            "Cloning into 'BRISQUE_QUALITY_MATRIX'...\n",
            "remote: Enumerating objects: 239, done.\u001b[K\n",
            "remote: Counting objects: 100% (239/239), done.\u001b[K\n",
            "remote: Compressing objects: 100% (160/160), done.\u001b[K\n",
            "remote: Total 239 (delta 77), reused 225 (delta 73), pack-reused 0\u001b[K\n",
            "Receiving objects: 100% (239/239), 7.11 MiB | 17.84 MiB/s, done.\n",
            "Resolving deltas: 100% (77/77), done.\n"
          ],
          "name": "stdout"
        }
      ]
    },
    {
      "cell_type": "code",
      "metadata": {
        "colab": {
          "base_uri": "https://localhost:8080/"
        },
        "id": "m9f-MUZ-mu-s",
        "outputId": "70c6ccd1-cf13-4200-f1ff-410e5c321b7b"
      },
      "source": [
        "cd BRISQUE_QUALITY_MATRIX/"
      ],
      "execution_count": 2,
      "outputs": [
        {
          "output_type": "stream",
          "text": [
            "/content/BRISQUE_QUALITY_MATRIX\n"
          ],
          "name": "stdout"
        }
      ]
    },
    {
      "cell_type": "code",
      "metadata": {
        "colab": {
          "base_uri": "https://localhost:8080/"
        },
        "id": "h5j-V94Qm4VL",
        "outputId": "7250e160-c7a5-4751-aa2c-4e6e8a9b22cb"
      },
      "source": [
        "!ls"
      ],
      "execution_count": 3,
      "outputs": [
        {
          "output_type": "stream",
          "text": [
            "BRISQUE.zip\n"
          ],
          "name": "stdout"
        }
      ]
    },
    {
      "cell_type": "code",
      "metadata": {
        "colab": {
          "base_uri": "https://localhost:8080/"
        },
        "id": "v1yi3dhem0gc",
        "outputId": "21850e41-827f-4359-d1b1-b63be43df0fb"
      },
      "source": [
        "!unzip BRISQUE.zip"
      ],
      "execution_count": 4,
      "outputs": [
        {
          "output_type": "stream",
          "text": [
            "Archive:  BRISQUE.zip\n",
            "   creating: BRISQUE/.ipynb_checkpoints/\n",
            "  inflating: BRISQUE/BRISQUE_brisque.ipynb  \n",
            "   creating: BRISQUE/BRISQUE_QUALITY_MATRIX/\n",
            "   creating: BRISQUE/BRISQUE_QUALITY_MATRIX/.git/\n",
            "  inflating: BRISQUE/BRISQUE_QUALITY_MATRIX/.git/config  \n",
            "  inflating: BRISQUE/BRISQUE_QUALITY_MATRIX/.git/description  \n",
            " extracting: BRISQUE/BRISQUE_QUALITY_MATRIX/.git/HEAD  \n",
            "   creating: BRISQUE/BRISQUE_QUALITY_MATRIX/.git/hooks/\n",
            "  inflating: BRISQUE/BRISQUE_QUALITY_MATRIX/.git/hooks/applypatch-msg.sample  \n",
            "  inflating: BRISQUE/BRISQUE_QUALITY_MATRIX/.git/hooks/commit-msg.sample  \n",
            "  inflating: BRISQUE/BRISQUE_QUALITY_MATRIX/.git/hooks/fsmonitor-watchman.sample  \n",
            "  inflating: BRISQUE/BRISQUE_QUALITY_MATRIX/.git/hooks/post-update.sample  \n",
            "  inflating: BRISQUE/BRISQUE_QUALITY_MATRIX/.git/hooks/pre-applypatch.sample  \n",
            "  inflating: BRISQUE/BRISQUE_QUALITY_MATRIX/.git/hooks/pre-commit.sample  \n",
            "  inflating: BRISQUE/BRISQUE_QUALITY_MATRIX/.git/hooks/pre-merge-commit.sample  \n",
            "  inflating: BRISQUE/BRISQUE_QUALITY_MATRIX/.git/hooks/prepare-commit-msg.sample  \n",
            "  inflating: BRISQUE/BRISQUE_QUALITY_MATRIX/.git/hooks/pre-push.sample  \n",
            "  inflating: BRISQUE/BRISQUE_QUALITY_MATRIX/.git/hooks/pre-rebase.sample  \n",
            "  inflating: BRISQUE/BRISQUE_QUALITY_MATRIX/.git/hooks/pre-receive.sample  \n",
            "  inflating: BRISQUE/BRISQUE_QUALITY_MATRIX/.git/hooks/update.sample  \n",
            "  inflating: BRISQUE/BRISQUE_QUALITY_MATRIX/.git/index  \n",
            "   creating: BRISQUE/BRISQUE_QUALITY_MATRIX/.git/info/\n",
            "  inflating: BRISQUE/BRISQUE_QUALITY_MATRIX/.git/info/exclude  \n",
            "   creating: BRISQUE/BRISQUE_QUALITY_MATRIX/.git/logs/\n",
            "  inflating: BRISQUE/BRISQUE_QUALITY_MATRIX/.git/logs/HEAD  \n",
            "   creating: BRISQUE/BRISQUE_QUALITY_MATRIX/.git/logs/refs/\n",
            "   creating: BRISQUE/BRISQUE_QUALITY_MATRIX/.git/logs/refs/heads/\n",
            "  inflating: BRISQUE/BRISQUE_QUALITY_MATRIX/.git/logs/refs/heads/master  \n",
            "   creating: BRISQUE/BRISQUE_QUALITY_MATRIX/.git/logs/refs/remotes/\n",
            "   creating: BRISQUE/BRISQUE_QUALITY_MATRIX/.git/logs/refs/remotes/origin/\n",
            "  inflating: BRISQUE/BRISQUE_QUALITY_MATRIX/.git/logs/refs/remotes/origin/HEAD  \n",
            "   creating: BRISQUE/BRISQUE_QUALITY_MATRIX/.git/objects/\n",
            "   creating: BRISQUE/BRISQUE_QUALITY_MATRIX/.git/objects/info/\n",
            "   creating: BRISQUE/BRISQUE_QUALITY_MATRIX/.git/objects/pack/\n",
            "  inflating: BRISQUE/BRISQUE_QUALITY_MATRIX/.git/objects/pack/pack-c3902de7a03099ac57e246561a18e87f1d62b876.idx  \n",
            "  inflating: BRISQUE/BRISQUE_QUALITY_MATRIX/.git/objects/pack/pack-c3902de7a03099ac57e246561a18e87f1d62b876.pack  \n",
            "  inflating: BRISQUE/BRISQUE_QUALITY_MATRIX/.git/packed-refs  \n",
            "   creating: BRISQUE/BRISQUE_QUALITY_MATRIX/.git/refs/\n",
            "   creating: BRISQUE/BRISQUE_QUALITY_MATRIX/.git/refs/heads/\n",
            " extracting: BRISQUE/BRISQUE_QUALITY_MATRIX/.git/refs/heads/master  \n",
            "   creating: BRISQUE/BRISQUE_QUALITY_MATRIX/.git/refs/remotes/\n",
            "   creating: BRISQUE/BRISQUE_QUALITY_MATRIX/.git/refs/remotes/origin/\n",
            " extracting: BRISQUE/BRISQUE_QUALITY_MATRIX/.git/refs/remotes/origin/HEAD  \n",
            "   creating: BRISQUE/BRISQUE_QUALITY_MATRIX/.git/refs/tags/\n",
            "   creating: BRISQUE/BRISQUE_QUALITY_MATRIX/C++/\n",
            "   creating: BRISQUE/BRISQUE_QUALITY_MATRIX/C++/__pycache__/\n",
            "  inflating: BRISQUE/BRISQUE_QUALITY_MATRIX/C++/__pycache__/svm_lists.cpython-36.pyc  \n",
            "  inflating: BRISQUE/BRISQUE_QUALITY_MATRIX/C++/allmodel  \n",
            "  inflating: BRISQUE/BRISQUE_QUALITY_MATRIX/C++/allrange  \n",
            "  inflating: BRISQUE/BRISQUE_QUALITY_MATRIX/C++/brisque.cpp  \n",
            "  inflating: BRISQUE/BRISQUE_QUALITY_MATRIX/C++/brisque.h  \n",
            "  inflating: BRISQUE/BRISQUE_QUALITY_MATRIX/C++/brisquequality  \n",
            " extracting: BRISQUE/BRISQUE_QUALITY_MATRIX/C++/brisquequality.sav  \n",
            "  inflating: BRISQUE/BRISQUE_QUALITY_MATRIX/C++/cmake_install.cmake  \n",
            "  inflating: BRISQUE/BRISQUE_QUALITY_MATRIX/C++/CMakeCache.txt  \n",
            "   creating: BRISQUE/BRISQUE_QUALITY_MATRIX/C++/CMakeFiles/\n",
            "   creating: BRISQUE/BRISQUE_QUALITY_MATRIX/C++/CMakeFiles/3.1.1/\n",
            "  inflating: BRISQUE/BRISQUE_QUALITY_MATRIX/C++/CMakeFiles/3.1.1/CMakeCCompiler.cmake  \n",
            "  inflating: BRISQUE/BRISQUE_QUALITY_MATRIX/C++/CMakeFiles/3.1.1/CMakeCXXCompiler.cmake  \n",
            "  inflating: BRISQUE/BRISQUE_QUALITY_MATRIX/C++/CMakeFiles/3.1.1/CMakeDetermineCompilerABI_C.bin  \n",
            "  inflating: BRISQUE/BRISQUE_QUALITY_MATRIX/C++/CMakeFiles/3.1.1/CMakeDetermineCompilerABI_CXX.bin  \n",
            "  inflating: BRISQUE/BRISQUE_QUALITY_MATRIX/C++/CMakeFiles/3.1.1/CMakeSystem.cmake  \n",
            "   creating: BRISQUE/BRISQUE_QUALITY_MATRIX/C++/CMakeFiles/3.1.1/CompilerIdC/\n",
            "  inflating: BRISQUE/BRISQUE_QUALITY_MATRIX/C++/CMakeFiles/3.1.1/CompilerIdC/a.out  \n",
            "  inflating: BRISQUE/BRISQUE_QUALITY_MATRIX/C++/CMakeFiles/3.1.1/CompilerIdC/CMakeCCompilerId.c  \n",
            "   creating: BRISQUE/BRISQUE_QUALITY_MATRIX/C++/CMakeFiles/3.1.1/CompilerIdCXX/\n",
            "  inflating: BRISQUE/BRISQUE_QUALITY_MATRIX/C++/CMakeFiles/3.1.1/CompilerIdCXX/a.out  \n",
            "  inflating: BRISQUE/BRISQUE_QUALITY_MATRIX/C++/CMakeFiles/3.1.1/CompilerIdCXX/CMakeCXXCompilerId.cpp  \n",
            "   creating: BRISQUE/BRISQUE_QUALITY_MATRIX/C++/CMakeFiles/3.10.2/\n",
            "  inflating: BRISQUE/BRISQUE_QUALITY_MATRIX/C++/CMakeFiles/3.10.2/CMakeCCompiler.cmake  \n",
            "  inflating: BRISQUE/BRISQUE_QUALITY_MATRIX/C++/CMakeFiles/3.10.2/CMakeCXXCompiler.cmake  \n",
            "  inflating: BRISQUE/BRISQUE_QUALITY_MATRIX/C++/CMakeFiles/3.10.2/CMakeDetermineCompilerABI_C.bin  \n",
            "  inflating: BRISQUE/BRISQUE_QUALITY_MATRIX/C++/CMakeFiles/3.10.2/CMakeDetermineCompilerABI_CXX.bin  \n",
            "  inflating: BRISQUE/BRISQUE_QUALITY_MATRIX/C++/CMakeFiles/3.10.2/CMakeSystem.cmake  \n",
            "   creating: BRISQUE/BRISQUE_QUALITY_MATRIX/C++/CMakeFiles/3.10.2/CompilerIdC/\n",
            "  inflating: BRISQUE/BRISQUE_QUALITY_MATRIX/C++/CMakeFiles/3.10.2/CompilerIdC/a.out  \n",
            "  inflating: BRISQUE/BRISQUE_QUALITY_MATRIX/C++/CMakeFiles/3.10.2/CompilerIdC/CMakeCCompilerId.c  \n",
            "   creating: BRISQUE/BRISQUE_QUALITY_MATRIX/C++/CMakeFiles/3.10.2/CompilerIdCXX/\n",
            "  inflating: BRISQUE/BRISQUE_QUALITY_MATRIX/C++/CMakeFiles/3.10.2/CompilerIdCXX/a.out  \n",
            "  inflating: BRISQUE/BRISQUE_QUALITY_MATRIX/C++/CMakeFiles/3.10.2/CompilerIdCXX/CMakeCXXCompilerId.cpp  \n",
            "   creating: BRISQUE/BRISQUE_QUALITY_MATRIX/C++/CMakeFiles/3.5.1/\n",
            "  inflating: BRISQUE/BRISQUE_QUALITY_MATRIX/C++/CMakeFiles/3.5.1/CMakeCCompiler.cmake  \n",
            "  inflating: BRISQUE/BRISQUE_QUALITY_MATRIX/C++/CMakeFiles/3.5.1/CMakeCXXCompiler.cmake  \n",
            "  inflating: BRISQUE/BRISQUE_QUALITY_MATRIX/C++/CMakeFiles/3.5.1/CMakeDetermineCompilerABI_C.bin  \n",
            "  inflating: BRISQUE/BRISQUE_QUALITY_MATRIX/C++/CMakeFiles/3.5.1/CMakeDetermineCompilerABI_CXX.bin  \n",
            "  inflating: BRISQUE/BRISQUE_QUALITY_MATRIX/C++/CMakeFiles/3.5.1/CMakeSystem.cmake  \n",
            "   creating: BRISQUE/BRISQUE_QUALITY_MATRIX/C++/CMakeFiles/3.5.1/CompilerIdC/\n",
            "  inflating: BRISQUE/BRISQUE_QUALITY_MATRIX/C++/CMakeFiles/3.5.1/CompilerIdC/a.out  \n",
            "  inflating: BRISQUE/BRISQUE_QUALITY_MATRIX/C++/CMakeFiles/3.5.1/CompilerIdC/CMakeCCompilerId.c  \n",
            "   creating: BRISQUE/BRISQUE_QUALITY_MATRIX/C++/CMakeFiles/3.5.1/CompilerIdCXX/\n",
            "  inflating: BRISQUE/BRISQUE_QUALITY_MATRIX/C++/CMakeFiles/3.5.1/CompilerIdCXX/a.out  \n",
            "  inflating: BRISQUE/BRISQUE_QUALITY_MATRIX/C++/CMakeFiles/3.5.1/CompilerIdCXX/CMakeCXXCompilerId.cpp  \n",
            "   creating: BRISQUE/BRISQUE_QUALITY_MATRIX/C++/CMakeFiles/brisquequality.dir/\n",
            "  inflating: BRISQUE/BRISQUE_QUALITY_MATRIX/C++/CMakeFiles/brisquequality.dir/brisque.cpp.o  \n",
            "  inflating: BRISQUE/BRISQUE_QUALITY_MATRIX/C++/CMakeFiles/brisquequality.dir/build.make  \n",
            "  inflating: BRISQUE/BRISQUE_QUALITY_MATRIX/C++/CMakeFiles/brisquequality.dir/cmake_clean.cmake  \n",
            "  inflating: BRISQUE/BRISQUE_QUALITY_MATRIX/C++/CMakeFiles/brisquequality.dir/computescore.cpp.o  \n",
            "  inflating: BRISQUE/BRISQUE_QUALITY_MATRIX/C++/CMakeFiles/brisquequality.dir/CXX.includecache  \n",
            "  inflating: BRISQUE/BRISQUE_QUALITY_MATRIX/C++/CMakeFiles/brisquequality.dir/depend.internal  \n",
            "  inflating: BRISQUE/BRISQUE_QUALITY_MATRIX/C++/CMakeFiles/brisquequality.dir/depend.make  \n",
            "  inflating: BRISQUE/BRISQUE_QUALITY_MATRIX/C++/CMakeFiles/brisquequality.dir/DependInfo.cmake  \n",
            "  inflating: BRISQUE/BRISQUE_QUALITY_MATRIX/C++/CMakeFiles/brisquequality.dir/flags.make  \n",
            "   creating: BRISQUE/BRISQUE_QUALITY_MATRIX/C++/CMakeFiles/brisquequality.dir/libsvm/\n",
            "  inflating: BRISQUE/BRISQUE_QUALITY_MATRIX/C++/CMakeFiles/brisquequality.dir/libsvm/svm.cpp.o  \n",
            "  inflating: BRISQUE/BRISQUE_QUALITY_MATRIX/C++/CMakeFiles/brisquequality.dir/link.txt  \n",
            "  inflating: BRISQUE/BRISQUE_QUALITY_MATRIX/C++/CMakeFiles/brisquequality.dir/main.cpp.o  \n",
            "  inflating: BRISQUE/BRISQUE_QUALITY_MATRIX/C++/CMakeFiles/brisquequality.dir/progress.make  \n",
            "  inflating: BRISQUE/BRISQUE_QUALITY_MATRIX/C++/CMakeFiles/brisquequality.dir/trainModel.cpp.o  \n",
            "  inflating: BRISQUE/BRISQUE_QUALITY_MATRIX/C++/CMakeFiles/cmake.check_cache  \n",
            "  inflating: BRISQUE/BRISQUE_QUALITY_MATRIX/C++/CMakeFiles/CMakeDirectoryInformation.cmake  \n",
            "  inflating: BRISQUE/BRISQUE_QUALITY_MATRIX/C++/CMakeFiles/CMakeError.log  \n",
            "  inflating: BRISQUE/BRISQUE_QUALITY_MATRIX/C++/CMakeFiles/CMakeOutput.log  \n",
            "  inflating: BRISQUE/BRISQUE_QUALITY_MATRIX/C++/CMakeFiles/feature_tests.bin  \n",
            "  inflating: BRISQUE/BRISQUE_QUALITY_MATRIX/C++/CMakeFiles/feature_tests.c  \n",
            "  inflating: BRISQUE/BRISQUE_QUALITY_MATRIX/C++/CMakeFiles/feature_tests.cxx  \n",
            "  inflating: BRISQUE/BRISQUE_QUALITY_MATRIX/C++/CMakeFiles/Makefile.cmake  \n",
            "  inflating: BRISQUE/BRISQUE_QUALITY_MATRIX/C++/CMakeFiles/Makefile2  \n",
            " extracting: BRISQUE/BRISQUE_QUALITY_MATRIX/C++/CMakeFiles/progress.marks  \n",
            "  inflating: BRISQUE/BRISQUE_QUALITY_MATRIX/C++/CMakeFiles/TargetDirectories.txt  \n",
            "  inflating: BRISQUE/BRISQUE_QUALITY_MATRIX/C++/CMakeLists.txt  \n",
            "  inflating: BRISQUE/BRISQUE_QUALITY_MATRIX/C++/computescore.cpp  \n",
            "   creating: BRISQUE/BRISQUE_QUALITY_MATRIX/C++/libsvm/\n",
            "  inflating: BRISQUE/BRISQUE_QUALITY_MATRIX/C++/libsvm/COPYRIGHT  \n",
            "  inflating: BRISQUE/BRISQUE_QUALITY_MATRIX/C++/libsvm/heart_scale  \n",
            "  inflating: BRISQUE/BRISQUE_QUALITY_MATRIX/C++/libsvm/Makefile  \n",
            "  inflating: BRISQUE/BRISQUE_QUALITY_MATRIX/C++/libsvm/README  \n",
            "  inflating: BRISQUE/BRISQUE_QUALITY_MATRIX/C++/libsvm/svm.cpp  \n",
            "  inflating: BRISQUE/BRISQUE_QUALITY_MATRIX/C++/libsvm/svm.def  \n",
            "  inflating: BRISQUE/BRISQUE_QUALITY_MATRIX/C++/libsvm/svm.h  \n",
            "  inflating: BRISQUE/BRISQUE_QUALITY_MATRIX/C++/libsvm/svm.o  \n",
            "  inflating: BRISQUE/BRISQUE_QUALITY_MATRIX/C++/libsvm/svm-predict  \n",
            "  inflating: BRISQUE/BRISQUE_QUALITY_MATRIX/C++/libsvm/svm-predict.c  \n",
            "  inflating: BRISQUE/BRISQUE_QUALITY_MATRIX/C++/libsvm/svm-scale  \n",
            "  inflating: BRISQUE/BRISQUE_QUALITY_MATRIX/C++/libsvm/svm-scale.c  \n",
            "  inflating: BRISQUE/BRISQUE_QUALITY_MATRIX/C++/libsvm/svm-train  \n",
            "  inflating: BRISQUE/BRISQUE_QUALITY_MATRIX/C++/libsvm/svm-train.c  \n",
            "   creating: BRISQUE/BRISQUE_QUALITY_MATRIX/C++/livedbfiles/\n",
            "  inflating: BRISQUE/BRISQUE_QUALITY_MATRIX/C++/livedbfiles/dmos.txt  \n",
            "  inflating: BRISQUE/BRISQUE_QUALITY_MATRIX/C++/livedbfiles/orgs.txt  \n",
            "  inflating: BRISQUE/BRISQUE_QUALITY_MATRIX/C++/livedbfiles/ref_imnames.txt  \n",
            "  inflating: BRISQUE/BRISQUE_QUALITY_MATRIX/C++/main.cpp  \n",
            "  inflating: BRISQUE/BRISQUE_QUALITY_MATRIX/C++/Makefile  \n",
            "  inflating: BRISQUE/BRISQUE_QUALITY_MATRIX/C++/sample.cpp  \n",
            "  inflating: BRISQUE/BRISQUE_QUALITY_MATRIX/C++/trainModel.cpp  \n",
            "   creating: BRISQUE/BRISQUE_QUALITY_MATRIX/Images/\n",
            "  inflating: BRISQUE/BRISQUE_QUALITY_MATRIX/Images/original-scaled-image.jpg  \n",
            "  inflating: BRISQUE/BRISQUE_QUALITY_MATRIX/Images/Process_BRISQUE_Calculation.png  \n",
            "  inflating: BRISQUE/BRISQUE_QUALITY_MATRIX/Images/Table_Comparison_BRISQUE.png  \n",
            "  inflating: BRISQUE/BRISQUE_QUALITY_MATRIX/LICENSE  \n",
            "   creating: BRISQUE/BRISQUE_QUALITY_MATRIX/Python/\n",
            "  inflating: BRISQUE/BRISQUE_QUALITY_MATRIX/Python/allmodel  \n",
            "  inflating: BRISQUE/BRISQUE_QUALITY_MATRIX/Python/brisquequality.py  \n",
            "   creating: BRISQUE/BRISQUE_QUALITY_MATRIX/Python/libsvm/\n",
            " extracting: BRISQUE/BRISQUE_QUALITY_MATRIX/Python/libsvm/__init__.py  \n",
            "   creating: BRISQUE/BRISQUE_QUALITY_MATRIX/Python/libsvm/__pycache__/\n",
            "  inflating: BRISQUE/BRISQUE_QUALITY_MATRIX/Python/libsvm/__pycache__/__init__.cpython-36.pyc  \n",
            "  inflating: BRISQUE/BRISQUE_QUALITY_MATRIX/Python/libsvm/COPYRIGHT  \n",
            "  inflating: BRISQUE/BRISQUE_QUALITY_MATRIX/Python/libsvm/FAQ.html  \n",
            "  inflating: BRISQUE/BRISQUE_QUALITY_MATRIX/Python/libsvm/heart_scale  \n",
            "   creating: BRISQUE/BRISQUE_QUALITY_MATRIX/Python/libsvm/java/\n",
            "  inflating: BRISQUE/BRISQUE_QUALITY_MATRIX/Python/libsvm/java/libsvm.jar  \n",
            "   creating: BRISQUE/BRISQUE_QUALITY_MATRIX/Python/libsvm/java/libsvm/\n",
            "  inflating: BRISQUE/BRISQUE_QUALITY_MATRIX/Python/libsvm/java/libsvm/svm.java  \n",
            "  inflating: BRISQUE/BRISQUE_QUALITY_MATRIX/Python/libsvm/java/libsvm/svm.m4  \n",
            "  inflating: BRISQUE/BRISQUE_QUALITY_MATRIX/Python/libsvm/java/libsvm/svm_model.java  \n",
            "  inflating: BRISQUE/BRISQUE_QUALITY_MATRIX/Python/libsvm/java/libsvm/svm_node.java  \n",
            "  inflating: BRISQUE/BRISQUE_QUALITY_MATRIX/Python/libsvm/java/libsvm/svm_parameter.java  \n",
            "  inflating: BRISQUE/BRISQUE_QUALITY_MATRIX/Python/libsvm/java/libsvm/svm_print_interface.java  \n",
            "  inflating: BRISQUE/BRISQUE_QUALITY_MATRIX/Python/libsvm/java/libsvm/svm_problem.java  \n",
            "  inflating: BRISQUE/BRISQUE_QUALITY_MATRIX/Python/libsvm/java/Makefile  \n",
            "  inflating: BRISQUE/BRISQUE_QUALITY_MATRIX/Python/libsvm/java/svm_predict.java  \n",
            "  inflating: BRISQUE/BRISQUE_QUALITY_MATRIX/Python/libsvm/java/svm_scale.java  \n",
            "  inflating: BRISQUE/BRISQUE_QUALITY_MATRIX/Python/libsvm/java/svm_toy.java  \n",
            "  inflating: BRISQUE/BRISQUE_QUALITY_MATRIX/Python/libsvm/java/svm_train.java  \n",
            "  inflating: BRISQUE/BRISQUE_QUALITY_MATRIX/Python/libsvm/java/test_applet.html  \n",
            "  inflating: BRISQUE/BRISQUE_QUALITY_MATRIX/Python/libsvm/libsvm.so.2  \n",
            "  inflating: BRISQUE/BRISQUE_QUALITY_MATRIX/Python/libsvm/Makefile  \n",
            "  inflating: BRISQUE/BRISQUE_QUALITY_MATRIX/Python/libsvm/Makefile.win  \n",
            "   creating: BRISQUE/BRISQUE_QUALITY_MATRIX/Python/libsvm/matlab/\n",
            "  inflating: BRISQUE/BRISQUE_QUALITY_MATRIX/Python/libsvm/matlab/libsvmread.c  \n",
            "  inflating: BRISQUE/BRISQUE_QUALITY_MATRIX/Python/libsvm/matlab/libsvmwrite.c  \n",
            "  inflating: BRISQUE/BRISQUE_QUALITY_MATRIX/Python/libsvm/matlab/make.m  \n",
            "  inflating: BRISQUE/BRISQUE_QUALITY_MATRIX/Python/libsvm/matlab/Makefile  \n",
            "  inflating: BRISQUE/BRISQUE_QUALITY_MATRIX/Python/libsvm/matlab/README  \n",
            "  inflating: BRISQUE/BRISQUE_QUALITY_MATRIX/Python/libsvm/matlab/svm_model_matlab.c  \n",
            "  inflating: BRISQUE/BRISQUE_QUALITY_MATRIX/Python/libsvm/matlab/svm_model_matlab.h  \n",
            "  inflating: BRISQUE/BRISQUE_QUALITY_MATRIX/Python/libsvm/matlab/svmpredict.c  \n",
            "  inflating: BRISQUE/BRISQUE_QUALITY_MATRIX/Python/libsvm/matlab/svmtrain.c  \n",
            "   creating: BRISQUE/BRISQUE_QUALITY_MATRIX/Python/libsvm/python/\n",
            " extracting: BRISQUE/BRISQUE_QUALITY_MATRIX/Python/libsvm/python/__init__.py  \n",
            "   creating: BRISQUE/BRISQUE_QUALITY_MATRIX/Python/libsvm/python/__pycache__/\n",
            "  inflating: BRISQUE/BRISQUE_QUALITY_MATRIX/Python/libsvm/python/__pycache__/__init__.cpython-36.pyc  \n",
            "  inflating: BRISQUE/BRISQUE_QUALITY_MATRIX/Python/libsvm/python/__pycache__/svm.cpython-35.pyc  \n",
            "  inflating: BRISQUE/BRISQUE_QUALITY_MATRIX/Python/libsvm/python/__pycache__/svm.cpython-36.pyc  \n",
            "  inflating: BRISQUE/BRISQUE_QUALITY_MATRIX/Python/libsvm/python/__pycache__/svm.cpython-37.pyc  \n",
            "  inflating: BRISQUE/BRISQUE_QUALITY_MATRIX/Python/libsvm/python/__pycache__/svmutil.cpython-35.pyc  \n",
            "  inflating: BRISQUE/BRISQUE_QUALITY_MATRIX/Python/libsvm/python/__pycache__/svmutil.cpython-36.pyc  \n",
            "  inflating: BRISQUE/BRISQUE_QUALITY_MATRIX/Python/libsvm/python/__pycache__/svmutil.cpython-37.pyc  \n",
            "  inflating: BRISQUE/BRISQUE_QUALITY_MATRIX/Python/libsvm/python/allmodel  \n",
            "  inflating: BRISQUE/BRISQUE_QUALITY_MATRIX/Python/libsvm/python/brisquequality.py  \n",
            "  inflating: BRISQUE/BRISQUE_QUALITY_MATRIX/Python/libsvm/python/Makefile  \n",
            "  inflating: BRISQUE/BRISQUE_QUALITY_MATRIX/Python/libsvm/python/README  \n",
            "  inflating: BRISQUE/BRISQUE_QUALITY_MATRIX/Python/libsvm/python/svm.py  \n",
            "  inflating: BRISQUE/BRISQUE_QUALITY_MATRIX/Python/libsvm/python/svmutil.py  \n",
            "  inflating: BRISQUE/BRISQUE_QUALITY_MATRIX/Python/libsvm/python/woman_x4_.png  \n",
            "  inflating: BRISQUE/BRISQUE_QUALITY_MATRIX/Python/libsvm/python/woman_x4_Aplus.png  \n",
            "  inflating: BRISQUE/BRISQUE_QUALITY_MATRIX/Python/libsvm/python/woman_x4_bicubic.png  \n",
            "  inflating: BRISQUE/BRISQUE_QUALITY_MATRIX/Python/libsvm/python/woman_x4_DRCN.png  \n",
            "  inflating: BRISQUE/BRISQUE_QUALITY_MATRIX/Python/libsvm/python/woman_x4_FSRCNN.png  \n",
            "  inflating: BRISQUE/BRISQUE_QUALITY_MATRIX/Python/libsvm/python/woman_x4_LapSRN.png  \n",
            "  inflating: BRISQUE/BRISQUE_QUALITY_MATRIX/Python/libsvm/python/woman_x4_RFL.png  \n",
            "  inflating: BRISQUE/BRISQUE_QUALITY_MATRIX/Python/libsvm/python/woman_x4_SCN.png  \n",
            "  inflating: BRISQUE/BRISQUE_QUALITY_MATRIX/Python/libsvm/python/woman_x4_SelfExSR.png  \n",
            "  inflating: BRISQUE/BRISQUE_QUALITY_MATRIX/Python/libsvm/python/woman_x4_SRCNN.png  \n",
            "  inflating: BRISQUE/BRISQUE_QUALITY_MATRIX/Python/libsvm/python/woman_x4_VDSR.png  \n",
            "  inflating: BRISQUE/BRISQUE_QUALITY_MATRIX/Python/libsvm/python/woman_x4_Wazir.png  \n",
            "  inflating: BRISQUE/BRISQUE_QUALITY_MATRIX/Python/libsvm/python/woman_x8_bicubic.png  \n",
            "  inflating: BRISQUE/BRISQUE_QUALITY_MATRIX/Python/libsvm/python/woman_x8_GT.png  \n",
            "  inflating: BRISQUE/BRISQUE_QUALITY_MATRIX/Python/libsvm/README  \n",
            "  inflating: BRISQUE/BRISQUE_QUALITY_MATRIX/Python/libsvm/svm.cpp  \n",
            "  inflating: BRISQUE/BRISQUE_QUALITY_MATRIX/Python/libsvm/svm.def  \n",
            "  inflating: BRISQUE/BRISQUE_QUALITY_MATRIX/Python/libsvm/svm.h  \n",
            "  inflating: BRISQUE/BRISQUE_QUALITY_MATRIX/Python/libsvm/svm.o  \n",
            "  inflating: BRISQUE/BRISQUE_QUALITY_MATRIX/Python/libsvm/svm-predict  \n",
            "  inflating: BRISQUE/BRISQUE_QUALITY_MATRIX/Python/libsvm/svm-predict.c  \n",
            "  inflating: BRISQUE/BRISQUE_QUALITY_MATRIX/Python/libsvm/svm-scale  \n",
            "  inflating: BRISQUE/BRISQUE_QUALITY_MATRIX/Python/libsvm/svm-scale.c  \n",
            "   creating: BRISQUE/BRISQUE_QUALITY_MATRIX/Python/libsvm/svm-toy/\n",
            "   creating: BRISQUE/BRISQUE_QUALITY_MATRIX/Python/libsvm/svm-toy/gtk/\n",
            "  inflating: BRISQUE/BRISQUE_QUALITY_MATRIX/Python/libsvm/svm-toy/gtk/callbacks.cpp  \n",
            "  inflating: BRISQUE/BRISQUE_QUALITY_MATRIX/Python/libsvm/svm-toy/gtk/callbacks.h  \n",
            "  inflating: BRISQUE/BRISQUE_QUALITY_MATRIX/Python/libsvm/svm-toy/gtk/interface.c  \n",
            "  inflating: BRISQUE/BRISQUE_QUALITY_MATRIX/Python/libsvm/svm-toy/gtk/interface.h  \n",
            "  inflating: BRISQUE/BRISQUE_QUALITY_MATRIX/Python/libsvm/svm-toy/gtk/main.c  \n",
            "  inflating: BRISQUE/BRISQUE_QUALITY_MATRIX/Python/libsvm/svm-toy/gtk/Makefile  \n",
            "  inflating: BRISQUE/BRISQUE_QUALITY_MATRIX/Python/libsvm/svm-toy/gtk/svm-toy.glade  \n",
            "   creating: BRISQUE/BRISQUE_QUALITY_MATRIX/Python/libsvm/svm-toy/qt/\n",
            "  inflating: BRISQUE/BRISQUE_QUALITY_MATRIX/Python/libsvm/svm-toy/qt/Makefile  \n",
            "  inflating: BRISQUE/BRISQUE_QUALITY_MATRIX/Python/libsvm/svm-toy/qt/svm-toy.cpp  \n",
            "   creating: BRISQUE/BRISQUE_QUALITY_MATRIX/Python/libsvm/svm-toy/windows/\n",
            "  inflating: BRISQUE/BRISQUE_QUALITY_MATRIX/Python/libsvm/svm-toy/windows/svm-toy.cpp  \n",
            "  inflating: BRISQUE/BRISQUE_QUALITY_MATRIX/Python/libsvm/svm-train  \n",
            "  inflating: BRISQUE/BRISQUE_QUALITY_MATRIX/Python/libsvm/svm-train.c  \n",
            "   creating: BRISQUE/BRISQUE_QUALITY_MATRIX/Python/libsvm/tools/\n",
            "  inflating: BRISQUE/BRISQUE_QUALITY_MATRIX/Python/libsvm/tools/checkdata.py  \n",
            "  inflating: BRISQUE/BRISQUE_QUALITY_MATRIX/Python/libsvm/tools/easy.py  \n",
            "  inflating: BRISQUE/BRISQUE_QUALITY_MATRIX/Python/libsvm/tools/grid.py  \n",
            "  inflating: BRISQUE/BRISQUE_QUALITY_MATRIX/Python/libsvm/tools/README  \n",
            "  inflating: BRISQUE/BRISQUE_QUALITY_MATRIX/Python/libsvm/tools/subset.py  \n",
            "   creating: BRISQUE/BRISQUE_QUALITY_MATRIX/Python/libsvm/windows/\n",
            "  inflating: BRISQUE/BRISQUE_QUALITY_MATRIX/Python/libsvm/windows/libsvm.dll  \n",
            "  inflating: BRISQUE/BRISQUE_QUALITY_MATRIX/Python/libsvm/windows/libsvmread.mexw64  \n",
            "  inflating: BRISQUE/BRISQUE_QUALITY_MATRIX/Python/libsvm/windows/libsvmwrite.mexw64  \n",
            "  inflating: BRISQUE/BRISQUE_QUALITY_MATRIX/Python/libsvm/windows/svm-predict.exe  \n",
            "  inflating: BRISQUE/BRISQUE_QUALITY_MATRIX/Python/libsvm/windows/svmpredict.mexw64  \n",
            "  inflating: BRISQUE/BRISQUE_QUALITY_MATRIX/Python/libsvm/windows/svm-scale.exe  \n",
            "  inflating: BRISQUE/BRISQUE_QUALITY_MATRIX/Python/libsvm/windows/svm-toy.exe  \n",
            "  inflating: BRISQUE/BRISQUE_QUALITY_MATRIX/Python/libsvm/windows/svm-train.exe  \n",
            "  inflating: BRISQUE/BRISQUE_QUALITY_MATRIX/Python/libsvm/windows/svmtrain.mexw64  \n",
            "  inflating: BRISQUE/BRISQUE_QUALITY_MATRIX/README.md  \n"
          ],
          "name": "stdout"
        }
      ]
    },
    {
      "cell_type": "code",
      "metadata": {
        "colab": {
          "base_uri": "https://localhost:8080/"
        },
        "id": "3G9XHxt8nnAE",
        "outputId": "790f0bfb-0c9e-46a4-d70e-7e6ea3ba325d"
      },
      "source": [
        "!ls"
      ],
      "execution_count": 5,
      "outputs": [
        {
          "output_type": "stream",
          "text": [
            "BRISQUE  BRISQUE.zip\n"
          ],
          "name": "stdout"
        }
      ]
    },
    {
      "cell_type": "code",
      "metadata": {
        "colab": {
          "base_uri": "https://localhost:8080/"
        },
        "id": "rNiqomrbntdT",
        "outputId": "af667733-3980-4bb3-ad6f-cf4477e6f714"
      },
      "source": [
        "cd  BRISQUE/BRISQUE_QUALITY_MATRIX/Python/libsvm/python"
      ],
      "execution_count": 6,
      "outputs": [
        {
          "output_type": "stream",
          "text": [
            "/content/BRISQUE_QUALITY_MATRIX/BRISQUE/BRISQUE_QUALITY_MATRIX/Python/libsvm/python\n"
          ],
          "name": "stdout"
        }
      ]
    },
    {
      "cell_type": "code",
      "metadata": {
        "colab": {
          "base_uri": "https://localhost:8080/"
        },
        "id": "FgCyUaO1m7Sr",
        "outputId": "a15be475-e3c1-4f0f-e50a-279d0e6dca51"
      },
      "source": [
        "!python brisquequality.py woman_x4_bicubic.png\r\n",
        "!python brisquequality.py woman_x4_RFL.png\r\n",
        "!python brisquequality.py woman_x4_SelfExSR.png\r\n",
        "!python brisquequality.py woman_x4_Aplus.png\r\n",
        "!python brisquequality.py woman_x4_SRCNN.png\r\n",
        "!python brisquequality.py woman_x4_VDSR.png\r\n",
        "!python brisquequality.py woman_x4_SCN.png\r\n",
        "!python brisquequality.py woman_x4_FSRCNN.png\r\n",
        "!python brisquequality.py woman_x4_DRCN.png\r\n",
        "!python brisquequality.py woman_x4_LapSRN.png\r\n",
        "!python brisquequality.py woman_x4_Wazir.png"
      ],
      "execution_count": 7,
      "outputs": [
        {
          "output_type": "stream",
          "text": [
            "Score of the given image:  56.351138812290486\n",
            "Score of the given image:  45.31313064069499\n",
            "Score of the given image:  44.5455805591391\n",
            "Score of the given image:  41.8853590909948\n",
            "Score of the given image:  41.42376311716188\n",
            "brisquequality.py:96: RuntimeWarning: invalid value encountered in sqrt\n",
            "  sigma = (sigma - mu_sq) ** 0.5\n",
            "Score of the given image:  39.89727105573954\n",
            "brisquequality.py:96: RuntimeWarning: invalid value encountered in sqrt\n",
            "  sigma = (sigma - mu_sq) ** 0.5\n",
            "Score of the given image:  38.69309807087765\n",
            "Score of the given image:  36.55514174194511\n",
            "brisquequality.py:96: RuntimeWarning: invalid value encountered in sqrt\n",
            "  sigma = (sigma - mu_sq) ** 0.5\n",
            "Score of the given image:  36.939519881241125\n",
            "Score of the given image:  33.52727359211539\n",
            "Score of the given image:  34.70182239388927\n"
          ],
          "name": "stdout"
        }
      ]
    },
    {
      "cell_type": "code",
      "metadata": {
        "id": "lyHIl1fLnk8r"
      },
      "source": [
        ""
      ],
      "execution_count": 7,
      "outputs": []
    }
  ]
}